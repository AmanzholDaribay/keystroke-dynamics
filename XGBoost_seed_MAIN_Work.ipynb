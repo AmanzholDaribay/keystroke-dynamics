{
 "cells": [
  {
   "cell_type": "markdown",
   "metadata": {},
   "source": [
    "## Standard Preprocessing before every Model"
   ]
  },
  {
   "cell_type": "markdown",
   "metadata": {},
   "source": [
    "Use this notebook as the starting point for your models."
   ]
  },
  {
   "cell_type": "markdown",
   "metadata": {},
   "source": [
    "## 1. Loading data"
   ]
  },
  {
   "cell_type": "code",
   "execution_count": 1,
   "metadata": {},
   "outputs": [],
   "source": [
    "from scipy.io import arff\n",
    "import pandas as pd\n",
    "import numpy as np"
   ]
  },
  {
   "cell_type": "code",
   "execution_count": 2,
   "metadata": {},
   "outputs": [],
   "source": [
    "data = arff.loadarff('dataset2_norm.arff')\n",
    "df = pd.DataFrame(data[0])"
   ]
  },
  {
   "cell_type": "code",
   "execution_count": 3,
   "metadata": {},
   "outputs": [
    {
     "data": {
      "text/html": [
       "<div>\n",
       "<style scoped>\n",
       "    .dataframe tbody tr th:only-of-type {\n",
       "        vertical-align: middle;\n",
       "    }\n",
       "\n",
       "    .dataframe tbody tr th {\n",
       "        vertical-align: top;\n",
       "    }\n",
       "\n",
       "    .dataframe thead th {\n",
       "        text-align: right;\n",
       "    }\n",
       "</style>\n",
       "<table border=\"1\" class=\"dataframe\">\n",
       "  <thead>\n",
       "    <tr style=\"text-align: right;\">\n",
       "      <th></th>\n",
       "      <th>holdtime1</th>\n",
       "      <th>holdtime2</th>\n",
       "      <th>holdtime3</th>\n",
       "      <th>holdtime4</th>\n",
       "      <th>holdtime5</th>\n",
       "      <th>holdtime6</th>\n",
       "      <th>holdtime7</th>\n",
       "      <th>holdtime8</th>\n",
       "      <th>holdtime9</th>\n",
       "      <th>holdtime10</th>\n",
       "      <th>...</th>\n",
       "      <th>fingerarea9</th>\n",
       "      <th>fingerarea10</th>\n",
       "      <th>fingerarea11</th>\n",
       "      <th>fingerarea12</th>\n",
       "      <th>fingerarea13</th>\n",
       "      <th>fingerarea14</th>\n",
       "      <th>meanholdtime</th>\n",
       "      <th>meanpressure</th>\n",
       "      <th>meanfingerarea</th>\n",
       "      <th>user_id</th>\n",
       "    </tr>\n",
       "  </thead>\n",
       "  <tbody>\n",
       "    <tr>\n",
       "      <th>0</th>\n",
       "      <td>0.538793</td>\n",
       "      <td>0.462222</td>\n",
       "      <td>0.362903</td>\n",
       "      <td>0.274510</td>\n",
       "      <td>0.300366</td>\n",
       "      <td>0.384259</td>\n",
       "      <td>0.430147</td>\n",
       "      <td>0.467290</td>\n",
       "      <td>0.240</td>\n",
       "      <td>0.374429</td>\n",
       "      <td>...</td>\n",
       "      <td>0.296296</td>\n",
       "      <td>0.296296</td>\n",
       "      <td>0.222222</td>\n",
       "      <td>0.211470</td>\n",
       "      <td>0.283154</td>\n",
       "      <td>0.185185</td>\n",
       "      <td>0.447030</td>\n",
       "      <td>0.387546</td>\n",
       "      <td>0.364089</td>\n",
       "      <td>b'1'</td>\n",
       "    </tr>\n",
       "    <tr>\n",
       "      <th>1</th>\n",
       "      <td>0.435345</td>\n",
       "      <td>0.382222</td>\n",
       "      <td>0.354839</td>\n",
       "      <td>0.285714</td>\n",
       "      <td>0.106227</td>\n",
       "      <td>0.328704</td>\n",
       "      <td>0.363971</td>\n",
       "      <td>0.485981</td>\n",
       "      <td>0.344</td>\n",
       "      <td>0.365297</td>\n",
       "      <td>...</td>\n",
       "      <td>0.259259</td>\n",
       "      <td>0.185185</td>\n",
       "      <td>0.185185</td>\n",
       "      <td>0.354839</td>\n",
       "      <td>0.211470</td>\n",
       "      <td>0.148148</td>\n",
       "      <td>0.423762</td>\n",
       "      <td>0.445704</td>\n",
       "      <td>0.369322</td>\n",
       "      <td>b'1'</td>\n",
       "    </tr>\n",
       "    <tr>\n",
       "      <th>2</th>\n",
       "      <td>0.478448</td>\n",
       "      <td>0.453333</td>\n",
       "      <td>0.399194</td>\n",
       "      <td>0.338936</td>\n",
       "      <td>0.340659</td>\n",
       "      <td>0.375000</td>\n",
       "      <td>0.338235</td>\n",
       "      <td>0.345794</td>\n",
       "      <td>0.296</td>\n",
       "      <td>0.365297</td>\n",
       "      <td>...</td>\n",
       "      <td>0.296296</td>\n",
       "      <td>0.333333</td>\n",
       "      <td>0.222222</td>\n",
       "      <td>0.283154</td>\n",
       "      <td>0.175627</td>\n",
       "      <td>0.185185</td>\n",
       "      <td>0.454455</td>\n",
       "      <td>0.464092</td>\n",
       "      <td>0.371658</td>\n",
       "      <td>b'1'</td>\n",
       "    </tr>\n",
       "    <tr>\n",
       "      <th>3</th>\n",
       "      <td>0.396552</td>\n",
       "      <td>0.444444</td>\n",
       "      <td>0.415323</td>\n",
       "      <td>0.338936</td>\n",
       "      <td>0.366300</td>\n",
       "      <td>0.416667</td>\n",
       "      <td>0.404412</td>\n",
       "      <td>0.640187</td>\n",
       "      <td>0.276</td>\n",
       "      <td>0.410959</td>\n",
       "      <td>...</td>\n",
       "      <td>0.370370</td>\n",
       "      <td>0.185185</td>\n",
       "      <td>0.222222</td>\n",
       "      <td>0.283154</td>\n",
       "      <td>0.247312</td>\n",
       "      <td>0.296296</td>\n",
       "      <td>0.522772</td>\n",
       "      <td>0.397230</td>\n",
       "      <td>0.396828</td>\n",
       "      <td>b'1'</td>\n",
       "    </tr>\n",
       "    <tr>\n",
       "      <th>4</th>\n",
       "      <td>0.469828</td>\n",
       "      <td>0.453333</td>\n",
       "      <td>0.290323</td>\n",
       "      <td>0.271709</td>\n",
       "      <td>0.340659</td>\n",
       "      <td>0.361111</td>\n",
       "      <td>0.408088</td>\n",
       "      <td>0.635514</td>\n",
       "      <td>0.324</td>\n",
       "      <td>0.378995</td>\n",
       "      <td>...</td>\n",
       "      <td>0.333333</td>\n",
       "      <td>0.222222</td>\n",
       "      <td>0.222222</td>\n",
       "      <td>0.211470</td>\n",
       "      <td>0.318996</td>\n",
       "      <td>0.074074</td>\n",
       "      <td>0.493564</td>\n",
       "      <td>0.455577</td>\n",
       "      <td>0.365646</td>\n",
       "      <td>b'1'</td>\n",
       "    </tr>\n",
       "  </tbody>\n",
       "</table>\n",
       "<p>5 rows × 72 columns</p>\n",
       "</div>"
      ],
      "text/plain": [
       "   holdtime1  holdtime2  holdtime3  holdtime4  holdtime5  holdtime6  \\\n",
       "0   0.538793   0.462222   0.362903   0.274510   0.300366   0.384259   \n",
       "1   0.435345   0.382222   0.354839   0.285714   0.106227   0.328704   \n",
       "2   0.478448   0.453333   0.399194   0.338936   0.340659   0.375000   \n",
       "3   0.396552   0.444444   0.415323   0.338936   0.366300   0.416667   \n",
       "4   0.469828   0.453333   0.290323   0.271709   0.340659   0.361111   \n",
       "\n",
       "   holdtime7  holdtime8  holdtime9  holdtime10   ...     fingerarea9  \\\n",
       "0   0.430147   0.467290      0.240    0.374429   ...        0.296296   \n",
       "1   0.363971   0.485981      0.344    0.365297   ...        0.259259   \n",
       "2   0.338235   0.345794      0.296    0.365297   ...        0.296296   \n",
       "3   0.404412   0.640187      0.276    0.410959   ...        0.370370   \n",
       "4   0.408088   0.635514      0.324    0.378995   ...        0.333333   \n",
       "\n",
       "   fingerarea10  fingerarea11  fingerarea12  fingerarea13  fingerarea14  \\\n",
       "0      0.296296      0.222222      0.211470      0.283154      0.185185   \n",
       "1      0.185185      0.185185      0.354839      0.211470      0.148148   \n",
       "2      0.333333      0.222222      0.283154      0.175627      0.185185   \n",
       "3      0.185185      0.222222      0.283154      0.247312      0.296296   \n",
       "4      0.222222      0.222222      0.211470      0.318996      0.074074   \n",
       "\n",
       "   meanholdtime  meanpressure  meanfingerarea  user_id  \n",
       "0      0.447030      0.387546        0.364089     b'1'  \n",
       "1      0.423762      0.445704        0.369322     b'1'  \n",
       "2      0.454455      0.464092        0.371658     b'1'  \n",
       "3      0.522772      0.397230        0.396828     b'1'  \n",
       "4      0.493564      0.455577        0.365646     b'1'  \n",
       "\n",
       "[5 rows x 72 columns]"
      ]
     },
     "execution_count": 3,
     "metadata": {},
     "output_type": "execute_result"
    }
   ],
   "source": [
    "df.head()"
   ]
  },
  {
   "cell_type": "markdown",
   "metadata": {},
   "source": [
    "### 1.1 X-data"
   ]
  },
  {
   "cell_type": "code",
   "execution_count": 4,
   "metadata": {},
   "outputs": [],
   "source": [
    "x = df.iloc[:,:71]"
   ]
  },
  {
   "cell_type": "code",
   "execution_count": 5,
   "metadata": {},
   "outputs": [
    {
     "data": {
      "text/html": [
       "<div>\n",
       "<style scoped>\n",
       "    .dataframe tbody tr th:only-of-type {\n",
       "        vertical-align: middle;\n",
       "    }\n",
       "\n",
       "    .dataframe tbody tr th {\n",
       "        vertical-align: top;\n",
       "    }\n",
       "\n",
       "    .dataframe thead th {\n",
       "        text-align: right;\n",
       "    }\n",
       "</style>\n",
       "<table border=\"1\" class=\"dataframe\">\n",
       "  <thead>\n",
       "    <tr style=\"text-align: right;\">\n",
       "      <th></th>\n",
       "      <th>holdtime1</th>\n",
       "      <th>holdtime2</th>\n",
       "      <th>holdtime3</th>\n",
       "      <th>holdtime4</th>\n",
       "      <th>holdtime5</th>\n",
       "      <th>holdtime6</th>\n",
       "      <th>holdtime7</th>\n",
       "      <th>holdtime8</th>\n",
       "      <th>holdtime9</th>\n",
       "      <th>holdtime10</th>\n",
       "      <th>...</th>\n",
       "      <th>fingerarea8</th>\n",
       "      <th>fingerarea9</th>\n",
       "      <th>fingerarea10</th>\n",
       "      <th>fingerarea11</th>\n",
       "      <th>fingerarea12</th>\n",
       "      <th>fingerarea13</th>\n",
       "      <th>fingerarea14</th>\n",
       "      <th>meanholdtime</th>\n",
       "      <th>meanpressure</th>\n",
       "      <th>meanfingerarea</th>\n",
       "    </tr>\n",
       "  </thead>\n",
       "  <tbody>\n",
       "    <tr>\n",
       "      <th>0</th>\n",
       "      <td>0.538793</td>\n",
       "      <td>0.462222</td>\n",
       "      <td>0.362903</td>\n",
       "      <td>0.274510</td>\n",
       "      <td>0.300366</td>\n",
       "      <td>0.384259</td>\n",
       "      <td>0.430147</td>\n",
       "      <td>0.467290</td>\n",
       "      <td>0.240</td>\n",
       "      <td>0.374429</td>\n",
       "      <td>...</td>\n",
       "      <td>0.222222</td>\n",
       "      <td>0.296296</td>\n",
       "      <td>0.296296</td>\n",
       "      <td>0.222222</td>\n",
       "      <td>0.211470</td>\n",
       "      <td>0.283154</td>\n",
       "      <td>0.185185</td>\n",
       "      <td>0.447030</td>\n",
       "      <td>0.387546</td>\n",
       "      <td>0.364089</td>\n",
       "    </tr>\n",
       "    <tr>\n",
       "      <th>1</th>\n",
       "      <td>0.435345</td>\n",
       "      <td>0.382222</td>\n",
       "      <td>0.354839</td>\n",
       "      <td>0.285714</td>\n",
       "      <td>0.106227</td>\n",
       "      <td>0.328704</td>\n",
       "      <td>0.363971</td>\n",
       "      <td>0.485981</td>\n",
       "      <td>0.344</td>\n",
       "      <td>0.365297</td>\n",
       "      <td>...</td>\n",
       "      <td>0.185185</td>\n",
       "      <td>0.259259</td>\n",
       "      <td>0.185185</td>\n",
       "      <td>0.185185</td>\n",
       "      <td>0.354839</td>\n",
       "      <td>0.211470</td>\n",
       "      <td>0.148148</td>\n",
       "      <td>0.423762</td>\n",
       "      <td>0.445704</td>\n",
       "      <td>0.369322</td>\n",
       "    </tr>\n",
       "    <tr>\n",
       "      <th>2</th>\n",
       "      <td>0.478448</td>\n",
       "      <td>0.453333</td>\n",
       "      <td>0.399194</td>\n",
       "      <td>0.338936</td>\n",
       "      <td>0.340659</td>\n",
       "      <td>0.375000</td>\n",
       "      <td>0.338235</td>\n",
       "      <td>0.345794</td>\n",
       "      <td>0.296</td>\n",
       "      <td>0.365297</td>\n",
       "      <td>...</td>\n",
       "      <td>0.259259</td>\n",
       "      <td>0.296296</td>\n",
       "      <td>0.333333</td>\n",
       "      <td>0.222222</td>\n",
       "      <td>0.283154</td>\n",
       "      <td>0.175627</td>\n",
       "      <td>0.185185</td>\n",
       "      <td>0.454455</td>\n",
       "      <td>0.464092</td>\n",
       "      <td>0.371658</td>\n",
       "    </tr>\n",
       "    <tr>\n",
       "      <th>3</th>\n",
       "      <td>0.396552</td>\n",
       "      <td>0.444444</td>\n",
       "      <td>0.415323</td>\n",
       "      <td>0.338936</td>\n",
       "      <td>0.366300</td>\n",
       "      <td>0.416667</td>\n",
       "      <td>0.404412</td>\n",
       "      <td>0.640187</td>\n",
       "      <td>0.276</td>\n",
       "      <td>0.410959</td>\n",
       "      <td>...</td>\n",
       "      <td>0.296296</td>\n",
       "      <td>0.370370</td>\n",
       "      <td>0.185185</td>\n",
       "      <td>0.222222</td>\n",
       "      <td>0.283154</td>\n",
       "      <td>0.247312</td>\n",
       "      <td>0.296296</td>\n",
       "      <td>0.522772</td>\n",
       "      <td>0.397230</td>\n",
       "      <td>0.396828</td>\n",
       "    </tr>\n",
       "    <tr>\n",
       "      <th>4</th>\n",
       "      <td>0.469828</td>\n",
       "      <td>0.453333</td>\n",
       "      <td>0.290323</td>\n",
       "      <td>0.271709</td>\n",
       "      <td>0.340659</td>\n",
       "      <td>0.361111</td>\n",
       "      <td>0.408088</td>\n",
       "      <td>0.635514</td>\n",
       "      <td>0.324</td>\n",
       "      <td>0.378995</td>\n",
       "      <td>...</td>\n",
       "      <td>0.296296</td>\n",
       "      <td>0.333333</td>\n",
       "      <td>0.222222</td>\n",
       "      <td>0.222222</td>\n",
       "      <td>0.211470</td>\n",
       "      <td>0.318996</td>\n",
       "      <td>0.074074</td>\n",
       "      <td>0.493564</td>\n",
       "      <td>0.455577</td>\n",
       "      <td>0.365646</td>\n",
       "    </tr>\n",
       "  </tbody>\n",
       "</table>\n",
       "<p>5 rows × 71 columns</p>\n",
       "</div>"
      ],
      "text/plain": [
       "   holdtime1  holdtime2  holdtime3  holdtime4  holdtime5  holdtime6  \\\n",
       "0   0.538793   0.462222   0.362903   0.274510   0.300366   0.384259   \n",
       "1   0.435345   0.382222   0.354839   0.285714   0.106227   0.328704   \n",
       "2   0.478448   0.453333   0.399194   0.338936   0.340659   0.375000   \n",
       "3   0.396552   0.444444   0.415323   0.338936   0.366300   0.416667   \n",
       "4   0.469828   0.453333   0.290323   0.271709   0.340659   0.361111   \n",
       "\n",
       "   holdtime7  holdtime8  holdtime9  holdtime10       ...        fingerarea8  \\\n",
       "0   0.430147   0.467290      0.240    0.374429       ...           0.222222   \n",
       "1   0.363971   0.485981      0.344    0.365297       ...           0.185185   \n",
       "2   0.338235   0.345794      0.296    0.365297       ...           0.259259   \n",
       "3   0.404412   0.640187      0.276    0.410959       ...           0.296296   \n",
       "4   0.408088   0.635514      0.324    0.378995       ...           0.296296   \n",
       "\n",
       "   fingerarea9  fingerarea10  fingerarea11  fingerarea12  fingerarea13  \\\n",
       "0     0.296296      0.296296      0.222222      0.211470      0.283154   \n",
       "1     0.259259      0.185185      0.185185      0.354839      0.211470   \n",
       "2     0.296296      0.333333      0.222222      0.283154      0.175627   \n",
       "3     0.370370      0.185185      0.222222      0.283154      0.247312   \n",
       "4     0.333333      0.222222      0.222222      0.211470      0.318996   \n",
       "\n",
       "   fingerarea14  meanholdtime  meanpressure  meanfingerarea  \n",
       "0      0.185185      0.447030      0.387546        0.364089  \n",
       "1      0.148148      0.423762      0.445704        0.369322  \n",
       "2      0.185185      0.454455      0.464092        0.371658  \n",
       "3      0.296296      0.522772      0.397230        0.396828  \n",
       "4      0.074074      0.493564      0.455577        0.365646  \n",
       "\n",
       "[5 rows x 71 columns]"
      ]
     },
     "execution_count": 5,
     "metadata": {},
     "output_type": "execute_result"
    }
   ],
   "source": [
    "x.head()"
   ]
  },
  {
   "cell_type": "code",
   "execution_count": 6,
   "metadata": {},
   "outputs": [],
   "source": [
    "X = x.values"
   ]
  },
  {
   "cell_type": "code",
   "execution_count": 7,
   "metadata": {},
   "outputs": [
    {
     "data": {
      "text/plain": [
       "(2142, 71)"
      ]
     },
     "execution_count": 7,
     "metadata": {},
     "output_type": "execute_result"
    }
   ],
   "source": [
    "X.shape"
   ]
  },
  {
   "cell_type": "markdown",
   "metadata": {},
   "source": [
    "### 1.2 Y-data"
   ]
  },
  {
   "cell_type": "code",
   "execution_count": 8,
   "metadata": {},
   "outputs": [],
   "source": [
    "label = []\n",
    "for i in range(42):\n",
    "    for j in range(51):\n",
    "        label.append(i)"
   ]
  },
  {
   "cell_type": "code",
   "execution_count": 9,
   "metadata": {},
   "outputs": [],
   "source": [
    "y = np.array(label)"
   ]
  },
  {
   "cell_type": "code",
   "execution_count": 10,
   "metadata": {},
   "outputs": [
    {
     "data": {
      "text/plain": [
       "(2142,)"
      ]
     },
     "execution_count": 10,
     "metadata": {},
     "output_type": "execute_result"
    }
   ],
   "source": [
    "y.shape"
   ]
  },
  {
   "cell_type": "markdown",
   "metadata": {},
   "source": [
    "### 1.3 Before Model"
   ]
  },
  {
   "cell_type": "code",
   "execution_count": 11,
   "metadata": {},
   "outputs": [
    {
     "name": "stderr",
     "output_type": "stream",
     "text": [
      "/home/amanzhol/anaconda3/lib/python3.6/site-packages/h5py/__init__.py:36: FutureWarning: Conversion of the second argument of issubdtype from `float` to `np.floating` is deprecated. In future, it will be treated as `np.float64 == np.dtype(float).type`.\n",
      "  from ._conv import register_converters as _register_converters\n",
      "Using TensorFlow backend.\n"
     ]
    }
   ],
   "source": [
    "from keras.utils import to_categorical"
   ]
  },
  {
   "cell_type": "code",
   "execution_count": 12,
   "metadata": {},
   "outputs": [],
   "source": [
    "Y = to_categorical(y)"
   ]
  },
  {
   "cell_type": "code",
   "execution_count": 13,
   "metadata": {},
   "outputs": [],
   "source": [
    "from sklearn.model_selection import train_test_split"
   ]
  },
  {
   "cell_type": "code",
   "execution_count": 14,
   "metadata": {},
   "outputs": [],
   "source": [
    "X_train, X_test, Y_train, Y_test = train_test_split(X, y, test_size = 0.2,\n",
    "                                                   random_state = 42)"
   ]
  },
  {
   "cell_type": "code",
   "execution_count": 15,
   "metadata": {},
   "outputs": [
    {
     "data": {
      "text/plain": [
       "(2142,)"
      ]
     },
     "execution_count": 15,
     "metadata": {},
     "output_type": "execute_result"
    }
   ],
   "source": [
    "y.shape"
   ]
  },
  {
   "cell_type": "code",
   "execution_count": 16,
   "metadata": {},
   "outputs": [
    {
     "data": {
      "text/plain": [
       "(2142, 71)"
      ]
     },
     "execution_count": 16,
     "metadata": {},
     "output_type": "execute_result"
    }
   ],
   "source": [
    "X.shape"
   ]
  },
  {
   "cell_type": "code",
   "execution_count": 17,
   "metadata": {},
   "outputs": [
    {
     "data": {
      "text/plain": [
       "(1713, 71)"
      ]
     },
     "execution_count": 17,
     "metadata": {},
     "output_type": "execute_result"
    }
   ],
   "source": [
    "X_train.shape"
   ]
  },
  {
   "cell_type": "code",
   "execution_count": 18,
   "metadata": {},
   "outputs": [
    {
     "data": {
      "text/plain": [
       "(1713,)"
      ]
     },
     "execution_count": 18,
     "metadata": {},
     "output_type": "execute_result"
    }
   ],
   "source": [
    "Y_train.shape"
   ]
  },
  {
   "cell_type": "code",
   "execution_count": 19,
   "metadata": {},
   "outputs": [
    {
     "data": {
      "text/plain": [
       "array([[0.413793, 0.404444, 0.354839, ..., 0.361881, 0.587891, 0.460407],\n",
       "       [0.353448, 0.342222, 0.383065, ..., 0.325743, 0.503157, 0.23771 ],\n",
       "       [0.698276, 0.68    , 0.673387, ..., 0.834158, 0.598606, 0.473988],\n",
       "       ...,\n",
       "       [0.293103, 0.373333, 0.270161, ..., 0.273267, 0.331023, 0.666189],\n",
       "       [0.362069, 0.288889, 0.334677, ..., 0.281683, 0.259861, 0.253753],\n",
       "       [0.435345, 0.64    , 0.528226, ..., 0.709406, 0.342909, 0.333032]])"
      ]
     },
     "execution_count": 19,
     "metadata": {},
     "output_type": "execute_result"
    }
   ],
   "source": [
    "X_train"
   ]
  },
  {
   "cell_type": "code",
   "execution_count": 20,
   "metadata": {},
   "outputs": [
    {
     "data": {
      "text/plain": [
       "array([17, 33, 38, ..., 22, 25, 16])"
      ]
     },
     "execution_count": 20,
     "metadata": {},
     "output_type": "execute_result"
    }
   ],
   "source": [
    "Y_train"
   ]
  },
  {
   "cell_type": "markdown",
   "metadata": {},
   "source": [
    "# ----------------Here Start Your Model------------------"
   ]
  },
  {
   "cell_type": "markdown",
   "metadata": {},
   "source": [
    "## 1. XGBoost (seed issue)"
   ]
  },
  {
   "cell_type": "markdown",
   "metadata": {},
   "source": [
    "Source: https://stackoverflow.com/questions/50797002/xgbregressor-change-random-state-no-effect/50797842"
   ]
  },
  {
   "cell_type": "code",
   "execution_count": 21,
   "metadata": {},
   "outputs": [],
   "source": [
    "from xgboost import XGBClassifier\n",
    "from sklearn.metrics import accuracy_score"
   ]
  },
  {
   "cell_type": "code",
   "execution_count": 22,
   "metadata": {},
   "outputs": [],
   "source": [
    "def xgb_train_pred(randstate):\n",
    "    X_train, X_test, Y_train, Y_test = train_test_split(X, y, \n",
    "                        test_size = 0.2,\n",
    "                        random_state = randstate)\n",
    "    \n",
    "    xgb = XGBClassifier()\n",
    "    xgb.fit(X_train, Y_train)\n",
    "    y_pred = xgb.predict(X_test)\n",
    "    predictions = [round(value) for value in y_pred]\n",
    "    accuracy = accuracy_score(Y_test, predictions)\n",
    "    answer = round(accuracy * 100, 2) #to round to 2 decimal points\n",
    "    return \"Accuracy: \" + str(answer) + \"% when random_state is \" + str(randstate)"
   ]
  },
  {
   "cell_type": "code",
   "execution_count": 23,
   "metadata": {},
   "outputs": [
    {
     "name": "stdout",
     "output_type": "stream",
     "text": [
      "Accuracy: 90.68% when random_state is 0\n"
     ]
    }
   ],
   "source": [
    "print(xgb_train_pred(0))"
   ]
  },
  {
   "cell_type": "markdown",
   "metadata": {},
   "source": [
    "### Why rerunning gives different results?\n",
    "* https://www.researchgate.net/post/Whenever_i_run_my_neural_network_I_get_different_result\n",
    "* https://www.quora.com/My-XgBoost-model-gives-different-accuracy-results-with-the-same-parameters-on-each-run-Is-this-normal"
   ]
  },
  {
   "cell_type": "code",
   "execution_count": 83,
   "metadata": {},
   "outputs": [
    {
     "name": "stdout",
     "output_type": "stream",
     "text": [
      "Accuracy: 90.68% when random_state is 0\n",
      "Accuracy: 90.68% when random_state is 1\n",
      "Accuracy: 92.54% when random_state is 2\n",
      "Accuracy: 89.98% when random_state is 3\n",
      "Accuracy: 88.34% when random_state is 4\n",
      "Accuracy: 88.34% when random_state is 5\n",
      "Accuracy: 90.91% when random_state is 6\n",
      "Accuracy: 90.91% when random_state is 7\n",
      "Accuracy: 86.95% when random_state is 8\n",
      "Accuracy: 91.38% when random_state is 9\n",
      "Accuracy: 92.77% when random_state is 10\n",
      "Accuracy: 89.51% when random_state is 11\n",
      "Accuracy: 89.98% when random_state is 12\n",
      "Accuracy: 89.04% when random_state is 13\n",
      "Accuracy: 89.51% when random_state is 14\n",
      "Accuracy: 88.34% when random_state is 15\n",
      "Accuracy: 89.28% when random_state is 16\n",
      "Accuracy: 89.98% when random_state is 17\n",
      "Accuracy: 90.91% when random_state is 18\n",
      "Accuracy: 89.51% when random_state is 19\n",
      "Accuracy: 87.41% when random_state is 20\n",
      "Accuracy: 91.61% when random_state is 21\n",
      "Accuracy: 89.51% when random_state is 22\n",
      "Accuracy: 92.54% when random_state is 23\n",
      "Accuracy: 91.61% when random_state is 24\n",
      "Accuracy: 90.21% when random_state is 25\n",
      "Accuracy: 89.28% when random_state is 26\n",
      "Accuracy: 90.68% when random_state is 27\n",
      "Accuracy: 89.51% when random_state is 28\n",
      "Accuracy: 90.68% when random_state is 29\n",
      "Accuracy: 89.74% when random_state is 30\n",
      "Accuracy: 89.04% when random_state is 31\n",
      "Accuracy: 88.34% when random_state is 32\n",
      "Accuracy: 89.51% when random_state is 33\n",
      "Accuracy: 90.21% when random_state is 34\n",
      "Accuracy: 90.91% when random_state is 35\n",
      "Accuracy: 91.14% when random_state is 36\n",
      "Accuracy: 86.71% when random_state is 37\n",
      "Accuracy: 89.51% when random_state is 38\n",
      "Accuracy: 91.14% when random_state is 39\n",
      "Accuracy: 88.81% when random_state is 40\n",
      "Accuracy: 89.28% when random_state is 41\n",
      "Accuracy: 90.21% when random_state is 42\n",
      "Accuracy: 89.51% when random_state is 43\n",
      "Accuracy: 90.44% when random_state is 44\n",
      "Accuracy: 92.31% when random_state is 45\n",
      "Accuracy: 89.51% when random_state is 46\n",
      "Accuracy: 90.68% when random_state is 47\n",
      "Accuracy: 91.14% when random_state is 48\n",
      "Accuracy: 90.44% when random_state is 49\n"
     ]
    }
   ],
   "source": [
    "for i in range(50):\n",
    "    print(xgb_train_pred(i))"
   ]
  },
  {
   "cell_type": "markdown",
   "metadata": {},
   "source": [
    "## 2. Confusion Matrix"
   ]
  },
  {
   "cell_type": "code",
   "execution_count": 23,
   "metadata": {},
   "outputs": [],
   "source": [
    "from sklearn.metrics import confusion_matrix"
   ]
  },
  {
   "cell_type": "code",
   "execution_count": 24,
   "metadata": {},
   "outputs": [],
   "source": [
    "X_train, X_test, Y_train, Y_test = train_test_split(X, y, \n",
    "                        test_size = 0.2,\n",
    "                        random_state = 10)\n",
    "    \n",
    "xgb = XGBClassifier()\n",
    "xgb.fit(X_train, Y_train)\n",
    "y_pred = xgb.predict(X_test)"
   ]
  },
  {
   "cell_type": "code",
   "execution_count": 25,
   "metadata": {},
   "outputs": [
    {
     "data": {
      "text/plain": [
       "array([ 0,  1,  2,  3,  4,  5,  6,  7,  8,  9, 10, 11, 12, 13, 14, 15, 16,\n",
       "       17, 18, 19, 20, 21, 22, 23, 24, 25, 26, 27, 28, 29, 30, 31, 32, 33,\n",
       "       34, 35, 36, 37, 38, 39, 40, 41])"
      ]
     },
     "execution_count": 25,
     "metadata": {},
     "output_type": "execute_result"
    }
   ],
   "source": [
    "np.unique(Y_test)"
   ]
  },
  {
   "cell_type": "code",
   "execution_count": 26,
   "metadata": {},
   "outputs": [
    {
     "data": {
      "text/plain": [
       "array([ 0,  1,  2,  3,  4,  5,  6,  7,  8,  9, 10, 11, 12, 13, 14, 15, 16,\n",
       "       17, 18, 19, 20, 21, 22, 23, 24, 25, 26, 27, 28, 29, 30, 31, 32, 33,\n",
       "       34, 35, 36, 37, 38, 39, 40, 41])"
      ]
     },
     "execution_count": 26,
     "metadata": {},
     "output_type": "execute_result"
    }
   ],
   "source": [
    "np.unique(y_pred)"
   ]
  },
  {
   "cell_type": "code",
   "execution_count": null,
   "metadata": {},
   "outputs": [],
   "source": []
  },
  {
   "cell_type": "markdown",
   "metadata": {},
   "source": [
    "> In the binary case, we can extract true positives, etc as follows:"
   ]
  },
  {
   "cell_type": "code",
   "execution_count": 27,
   "metadata": {},
   "outputs": [],
   "source": [
    "cm = confusion_matrix(Y_test, y_pred)"
   ]
  },
  {
   "cell_type": "markdown",
   "metadata": {},
   "source": [
    "Source: https://scikit-learn.org/stable/auto_examples/model_selection/plot_confusion_matrix.html#sphx-glr-auto-examples-model-selection-plot-confusion-matrix-py"
   ]
  },
  {
   "cell_type": "code",
   "execution_count": 28,
   "metadata": {},
   "outputs": [
    {
     "name": "stdout",
     "output_type": "stream",
     "text": [
      "Automatically created module for IPython interactive environment\n"
     ]
    }
   ],
   "source": [
    "print(__doc__)\n",
    "\n",
    "import numpy as np\n",
    "import matplotlib.pyplot as plt\n",
    "\n",
    "from sklearn import svm, datasets\n",
    "from sklearn.model_selection import train_test_split\n",
    "from sklearn.metrics import confusion_matrix\n",
    "from sklearn.utils.multiclass import unique_labels\n",
    "\n",
    "def plot_confusion_matrix(y_true, y_pred, classes,\n",
    "                          normalize=False,\n",
    "                          title=None,\n",
    "                          cmap=plt.cm.Blues):\n",
    "    \"\"\"\n",
    "    This function prints and plots the confusion matrix.\n",
    "    Normalization can be applied by setting `normalize=True`.\n",
    "    \"\"\"\n",
    "    if not title:\n",
    "        if normalize:\n",
    "            title = 'Normalized confusion matrix'\n",
    "        else:\n",
    "            title = 'Confusion matrix, without normalization'\n",
    "\n",
    "    # Compute confusion matrix\n",
    "    cm = confusion_matrix(y_true, y_pred)\n",
    "    # Only use the labels that appear in the data\n",
    "    classes = classes[unique_labels(y_true, y_pred)]\n",
    "    if normalize:\n",
    "        cm = cm.astype('float') / cm.sum(axis=1)[:, np.newaxis]\n",
    "        print(\"Normalized confusion matrix\")\n",
    "    else:\n",
    "        print('Confusion matrix, without normalization')\n",
    "\n",
    "    print(cm)\n",
    "\n",
    "    fig, ax = plt.subplots()\n",
    "    im = ax.imshow(cm, interpolation='nearest', cmap=cmap)\n",
    "    ax.figure.colorbar(im, ax=ax)\n",
    "    # We want to show all ticks...\n",
    "    ax.set(xticks=np.arange(cm.shape[1]),\n",
    "           yticks=np.arange(cm.shape[0]),\n",
    "           # ... and label them with the respective list entries\n",
    "           xticklabels=classes, yticklabels=classes,\n",
    "           title=title,\n",
    "           ylabel='True label',\n",
    "           xlabel='Predicted label')\n",
    "\n",
    "    # Rotate the tick labels and set their alignment.\n",
    "    plt.setp(ax.get_xticklabels(), rotation=45, ha=\"right\",\n",
    "             rotation_mode=\"anchor\")\n",
    "\n",
    "    # Loop over data dimensions and create text annotations.\n",
    "    fmt = '.2f' if normalize else 'd'\n",
    "    thresh = cm.max() / 2.\n",
    "    for i in range(cm.shape[0]):\n",
    "        for j in range(cm.shape[1]):\n",
    "            ax.text(j, i, format(cm[i, j], fmt),\n",
    "                    ha=\"center\", va=\"center\",\n",
    "                    color=\"white\" if cm[i, j] > thresh else \"black\")\n",
    "    fig.tight_layout()\n",
    "    return ax"
   ]
  },
  {
   "cell_type": "code",
   "execution_count": 29,
   "metadata": {},
   "outputs": [],
   "source": [
    "np.set_printoptions(precision=2)"
   ]
  },
  {
   "cell_type": "code",
   "execution_count": 30,
   "metadata": {},
   "outputs": [],
   "source": [
    "class_names = []\n",
    "for i in range(42):\n",
    "    class_names.append(str(i))"
   ]
  },
  {
   "cell_type": "code",
   "execution_count": 33,
   "metadata": {},
   "outputs": [
    {
     "name": "stdout",
     "output_type": "stream",
     "text": [
      "Confusion matrix, without normalization\n",
      "[[11  0  0 ...  0  0  0]\n",
      " [ 0 13  0 ...  0  0  0]\n",
      " [ 0  0 11 ...  0  0  0]\n",
      " ...\n",
      " [ 1  0  0 ...  8  0  0]\n",
      " [ 0  0  0 ...  0  7  0]\n",
      " [ 0  0  0 ...  1  0  9]]\n"
     ]
    },
    {
     "data": {
      "text/plain": [
       "<matplotlib.axes._subplots.AxesSubplot at 0x7f2bdbfb9080>"
      ]
     },
     "execution_count": 33,
     "metadata": {},
     "output_type": "execute_result"
    },
    {
     "data": {
      "image/png": "[encoded data removed]",
      "text/plain": [
       "<Figure size 936x936 with 2 Axes>"
      ]
     },
     "metadata": {},
     "output_type": "display_data"
    }
   ],
   "source": [
    "# Plot non-normalized confusion matrix\n",
    "plot_confusion_matrix(Y_test, y_pred, classes=np.array(class_names),\n",
    "                      title='Confusion matrix, without normalization')"
   ]
  },
  {
   "cell_type": "code",
   "execution_count": 32,
   "metadata": {},
   "outputs": [],
   "source": [
    "from pylab import rcParams\n",
    "rcParams['figure.figsize'] = 13, 13"
   ]
  },
  {
   "cell_type": "markdown",
   "metadata": {},
   "source": [
    "Source: https://stackoverflow.com/questions/43697980/is-there-something-already-implemented-in-python-to-calculate-tp-tn-fp-and-fn"
   ]
  },
  {
   "cell_type": "code",
   "execution_count": 34,
   "metadata": {},
   "outputs": [],
   "source": [
    "def counts_from_confusion(confusion):\n",
    "    \"\"\"\n",
    "    Obtain TP, FN FP, and TN for each class in the confusion matrix\n",
    "    \"\"\"\n",
    "\n",
    "    counts_list = []\n",
    "\n",
    "    # Iterate through classes and store the counts\n",
    "    for i in range(confusion.shape[0]):\n",
    "        tp = confusion[i, i]\n",
    "\n",
    "        fn_mask = np.zeros(confusion.shape)\n",
    "        fn_mask[i, :] = 1\n",
    "        fn_mask[i, i] = 0\n",
    "        fn = np.sum(np.multiply(confusion, fn_mask))\n",
    "\n",
    "        fp_mask = np.zeros(confusion.shape)\n",
    "        fp_mask[:, i] = 1\n",
    "        fp_mask[i, i] = 0\n",
    "        fp = np.sum(np.multiply(confusion, fp_mask))\n",
    "\n",
    "        tn_mask = 1 - (fn_mask + fp_mask)\n",
    "        tn_mask[i, i] = 0\n",
    "        tn = np.sum(np.multiply(confusion, tn_mask))\n",
    "\n",
    "        counts_list.append({'Class': i,\n",
    "                            'TP': tp,\n",
    "                            'FN': fn,\n",
    "                            'FP': fp,\n",
    "                            'TN': tn})\n",
    "\n",
    "    return counts_list"
   ]
  },
  {
   "cell_type": "code",
   "execution_count": 35,
   "metadata": {},
   "outputs": [
    {
     "data": {
      "text/plain": [
       "[{'Class': 0, 'TP': 11, 'FN': 1.0, 'FP': 1.0, 'TN': 416.0},\n",
       " {'Class': 1, 'TP': 13, 'FN': 0.0, 'FP': 0.0, 'TN': 416.0},\n",
       " {'Class': 2, 'TP': 11, 'FN': 1.0, 'FP': 0.0, 'TN': 417.0},\n",
       " {'Class': 3, 'TP': 11, 'FN': 1.0, 'FP': 1.0, 'TN': 416.0},\n",
       " {'Class': 4, 'TP': 10, 'FN': 0.0, 'FP': 0.0, 'TN': 419.0},\n",
       " {'Class': 5, 'TP': 7, 'FN': 0.0, 'FP': 0.0, 'TN': 422.0},\n",
       " {'Class': 6, 'TP': 12, 'FN': 1.0, 'FP': 0.0, 'TN': 416.0},\n",
       " {'Class': 7, 'TP': 13, 'FN': 0.0, 'FP': 0.0, 'TN': 416.0},\n",
       " {'Class': 8, 'TP': 9, 'FN': 0.0, 'FP': 1.0, 'TN': 419.0},\n",
       " {'Class': 9, 'TP': 7, 'FN': 0.0, 'FP': 0.0, 'TN': 422.0},\n",
       " {'Class': 10, 'TP': 5, 'FN': 0.0, 'FP': 0.0, 'TN': 424.0},\n",
       " {'Class': 11, 'TP': 11, 'FN': 1.0, 'FP': 2.0, 'TN': 415.0},\n",
       " {'Class': 12, 'TP': 6, 'FN': 0.0, 'FP': 1.0, 'TN': 422.0},\n",
       " {'Class': 13, 'TP': 10, 'FN': 2.0, 'FP': 0.0, 'TN': 417.0},\n",
       " {'Class': 14, 'TP': 12, 'FN': 1.0, 'FP': 1.0, 'TN': 415.0},\n",
       " {'Class': 15, 'TP': 12, 'FN': 1.0, 'FP': 0.0, 'TN': 416.0},\n",
       " {'Class': 16, 'TP': 15, 'FN': 1.0, 'FP': 0.0, 'TN': 413.0},\n",
       " {'Class': 17, 'TP': 8, 'FN': 2.0, 'FP': 0.0, 'TN': 419.0},\n",
       " {'Class': 18, 'TP': 10, 'FN': 0.0, 'FP': 1.0, 'TN': 418.0},\n",
       " {'Class': 19, 'TP': 8, 'FN': 1.0, 'FP': 0.0, 'TN': 420.0},\n",
       " {'Class': 20, 'TP': 6, 'FN': 0.0, 'FP': 0.0, 'TN': 423.0},\n",
       " {'Class': 21, 'TP': 14, 'FN': 0.0, 'FP': 0.0, 'TN': 415.0},\n",
       " {'Class': 22, 'TP': 11, 'FN': 2.0, 'FP': 1.0, 'TN': 415.0},\n",
       " {'Class': 23, 'TP': 13, 'FN': 1.0, 'FP': 0.0, 'TN': 415.0},\n",
       " {'Class': 24, 'TP': 9, 'FN': 1.0, 'FP': 0.0, 'TN': 419.0},\n",
       " {'Class': 25, 'TP': 5, 'FN': 1.0, 'FP': 3.0, 'TN': 420.0},\n",
       " {'Class': 26, 'TP': 9, 'FN': 1.0, 'FP': 1.0, 'TN': 418.0},\n",
       " {'Class': 27, 'TP': 6, 'FN': 0.0, 'FP': 2.0, 'TN': 421.0},\n",
       " {'Class': 28, 'TP': 10, 'FN': 0.0, 'FP': 0.0, 'TN': 419.0},\n",
       " {'Class': 29, 'TP': 5, 'FN': 1.0, 'FP': 1.0, 'TN': 422.0},\n",
       " {'Class': 30, 'TP': 10, 'FN': 1.0, 'FP': 0.0, 'TN': 418.0},\n",
       " {'Class': 31, 'TP': 6, 'FN': 0.0, 'FP': 1.0, 'TN': 422.0},\n",
       " {'Class': 32, 'TP': 5, 'FN': 1.0, 'FP': 0.0, 'TN': 423.0},\n",
       " {'Class': 33, 'TP': 8, 'FN': 2.0, 'FP': 0.0, 'TN': 419.0},\n",
       " {'Class': 34, 'TP': 7, 'FN': 1.0, 'FP': 2.0, 'TN': 419.0},\n",
       " {'Class': 35, 'TP': 11, 'FN': 3.0, 'FP': 1.0, 'TN': 414.0},\n",
       " {'Class': 36, 'TP': 16, 'FN': 0.0, 'FP': 1.0, 'TN': 412.0},\n",
       " {'Class': 37, 'TP': 14, 'FN': 0.0, 'FP': 4.0, 'TN': 411.0},\n",
       " {'Class': 38, 'TP': 8, 'FN': 1.0, 'FP': 1.0, 'TN': 419.0},\n",
       " {'Class': 39, 'TP': 8, 'FN': 1.0, 'FP': 1.0, 'TN': 419.0},\n",
       " {'Class': 40, 'TP': 7, 'FN': 0.0, 'FP': 1.0, 'TN': 421.0},\n",
       " {'Class': 41, 'TP': 9, 'FN': 1.0, 'FP': 3.0, 'TN': 416.0}]"
      ]
     },
     "execution_count": 35,
     "metadata": {},
     "output_type": "execute_result"
    }
   ],
   "source": [
    "counts_from_confusion(cm)"
   ]
  },
  {
   "cell_type": "markdown",
   "metadata": {},
   "source": [
    "Source FRR, FAR and EER: \n",
    "* https://stackoverflow.com/questions/45053238/how-to-get-all-confusion-matrix-terminologies-tpr-fpr-tnr-fnr-for-a-multi-c\n",
    "* https://stackoverflow.com/questions/50666091/true-positive-rate-and-false-positive-rate-tpr-fpr-for-multi-class-data-in-py\n",
    "* https://stackoverflow.com/questions/31324218/scikit-learn-how-to-obtain-true-positive-true-negative-false-positive-and-fal"
   ]
  },
  {
   "cell_type": "markdown",
   "metadata": {},
   "source": [
    "### My trial of FAR, FRR and EER"
   ]
  },
  {
   "cell_type": "code",
   "execution_count": 51,
   "metadata": {},
   "outputs": [],
   "source": [
    "res_cm = counts_from_confusion(cm)"
   ]
  },
  {
   "cell_type": "code",
   "execution_count": 54,
   "metadata": {},
   "outputs": [],
   "source": [
    "FAR_total = 0\n",
    "for i in range(42):\n",
    "    FAR_total += res_cm[i]['FP']/(res_cm[i]['FP'] + res_cm[i]['TN'])"
   ]
  },
  {
   "cell_type": "code",
   "execution_count": 57,
   "metadata": {},
   "outputs": [
    {
     "data": {
      "text/plain": [
       "0.1761389088395724"
      ]
     },
     "execution_count": 57,
     "metadata": {},
     "output_type": "execute_result"
    }
   ],
   "source": [
    "FAR_total * 100/42"
   ]
  },
  {
   "cell_type": "code",
   "execution_count": 58,
   "metadata": {},
   "outputs": [],
   "source": [
    "FRR_total = 0\n",
    "for i in range(42):\n",
    "    FRR_total += res_cm[i]['FN']/(res_cm[i]['TP'] + res_cm[i]['FN'])"
   ]
  },
  {
   "cell_type": "code",
   "execution_count": 59,
   "metadata": {},
   "outputs": [
    {
     "data": {
      "text/plain": [
       "7.100171653743083"
      ]
     },
     "execution_count": 59,
     "metadata": {},
     "output_type": "execute_result"
    }
   ],
   "source": [
    "FRR_total * 100/42"
   ]
  },
  {
   "cell_type": "markdown",
   "metadata": {},
   "source": [
    "### Their trial of FAR, FRR and EER"
   ]
  },
  {
   "cell_type": "code",
   "execution_count": 37,
   "metadata": {},
   "outputs": [],
   "source": [
    "cnf_matrix = cm"
   ]
  },
  {
   "cell_type": "code",
   "execution_count": 40,
   "metadata": {},
   "outputs": [
    {
     "data": {
      "text/plain": [
       "array([0.08, 0.  , 0.08, 0.08, 0.  , 0.  , 0.08, 0.  , 0.  , 0.  , 0.  ,\n",
       "       0.08, 0.  , 0.17, 0.08, 0.08, 0.06, 0.2 , 0.  , 0.11, 0.  , 0.  ,\n",
       "       0.15, 0.07, 0.1 , 0.17, 0.1 , 0.  , 0.  , 0.17, 0.09, 0.  , 0.17,\n",
       "       0.2 , 0.12, 0.21, 0.  , 0.  , 0.11, 0.11, 0.  , 0.1 ])"
      ]
     },
     "execution_count": 40,
     "metadata": {},
     "output_type": "execute_result"
    }
   ],
   "source": [
    "FNR"
   ]
  },
  {
   "cell_type": "code",
   "execution_count": 41,
   "metadata": {},
   "outputs": [],
   "source": [
    "FAR = np.mean(FPR) * 100"
   ]
  },
  {
   "cell_type": "code",
   "execution_count": 38,
   "metadata": {},
   "outputs": [],
   "source": [
    "FP = cnf_matrix.sum(axis=0) - np.diag(cnf_matrix)  \n",
    "FN = cnf_matrix.sum(axis=1) - np.diag(cnf_matrix)\n",
    "TP = np.diag(cnf_matrix)\n",
    "TN = cnf_matrix.sum() - (FP + FN + TP)\n",
    "\n",
    "FP = FP.astype(float)\n",
    "FN = FN.astype(float)\n",
    "TP = TP.astype(float)\n",
    "TN = TN.astype(float)\n",
    "\n",
    "\n",
    "# Sensitivity, hit rate, recall, or true positive rate\n",
    "TPR = TP/(TP+FN)\n",
    "# Specificity or true negative rate\n",
    "TNR = TN/(TN+FP) \n",
    "# Precision or positive predictive value\n",
    "PPV = TP/(TP+FP)\n",
    "# Negative predictive value\n",
    "NPV = TN/(TN+FN)\n",
    "# Fall out or false positive rate\n",
    "FPR = FP/(FP+TN)\n",
    "# False negative rate\n",
    "FNR = FN/(TP+FN)\n",
    "# False discovery rate\n",
    "FDR = FP/(TP+FP)\n",
    "\n",
    "# Overall accuracy\n",
    "ACC = (TP+TN)/(TP+FP+FN+TN)"
   ]
  },
  {
   "cell_type": "code",
   "execution_count": 39,
   "metadata": {},
   "outputs": [
    {
     "data": {
      "text/plain": [
       "array([0.  , 0.  , 0.  , 0.  , 0.  , 0.  , 0.  , 0.  , 0.  , 0.  , 0.  ,\n",
       "       0.  , 0.  , 0.  , 0.  , 0.  , 0.  , 0.  , 0.  , 0.  , 0.  , 0.  ,\n",
       "       0.  , 0.  , 0.  , 0.01, 0.  , 0.  , 0.  , 0.  , 0.  , 0.  , 0.  ,\n",
       "       0.  , 0.  , 0.  , 0.  , 0.01, 0.  , 0.  , 0.  , 0.01])"
      ]
     },
     "execution_count": 39,
     "metadata": {},
     "output_type": "execute_result"
    }
   ],
   "source": [
    "FPR"
   ]
  },
  {
   "cell_type": "code",
   "execution_count": 42,
   "metadata": {},
   "outputs": [],
   "source": [
    "FRR = np.mean(FNR) * 100"
   ]
  },
  {
   "cell_type": "code",
   "execution_count": 43,
   "metadata": {},
   "outputs": [
    {
     "data": {
      "text/plain": [
       "0.1761389088395724"
      ]
     },
     "execution_count": 43,
     "metadata": {},
     "output_type": "execute_result"
    }
   ],
   "source": [
    "FAR"
   ]
  },
  {
   "cell_type": "code",
   "execution_count": 44,
   "metadata": {},
   "outputs": [
    {
     "data": {
      "text/plain": [
       "7.100171653743083"
      ]
     },
     "execution_count": 44,
     "metadata": {},
     "output_type": "execute_result"
    }
   ],
   "source": [
    "FRR"
   ]
  },
  {
   "cell_type": "markdown",
   "metadata": {},
   "source": [
    "## Confusion Matrix (top sources)\n",
    "* https://medium.com/datadriveninvestor/simplifying-the-confusion-matrix-aa1fa0b0fc35\n",
    "* https://medium.com/@shubhanshi.shubh860/confusion-matrix-in-machine-learning-cd7333d72f5d"
   ]
  },
  {
   "cell_type": "markdown",
   "metadata": {},
   "source": [
    "### Using PYCM\n",
    "* https://stackoverflow.com/questions/50666091/true-positive-rate-and-false-positive-rate-tpr-fpr-for-multi-class-data-in-py"
   ]
  },
  {
   "cell_type": "code",
   "execution_count": 36,
   "metadata": {},
   "outputs": [],
   "source": [
    "from pycm import ConfusionMatrix"
   ]
  },
  {
   "cell_type": "code",
   "execution_count": 37,
   "metadata": {},
   "outputs": [],
   "source": [
    "cm_pycm = ConfusionMatrix(actual_vector=Y_test,predict_vector=y_pred)"
   ]
  },
  {
   "cell_type": "code",
   "execution_count": 38,
   "metadata": {},
   "outputs": [
    {
     "data": {
      "text/plain": [
       "pycm.ConfusionMatrix(classes: [0, 1, 2, 3, 4, 5, 6, 7, 8, 9, 10, 11, 12, 13, 14, 15, 16, 17, 18, 19, 20, 21, 22, 23, 24, 25, 26, 27, 28, 29, 30, 31, 32, 33, 34, 35, 36, 37, 38, 39, 40, 41])"
      ]
     },
     "execution_count": 38,
     "metadata": {},
     "output_type": "execute_result"
    }
   ],
   "source": [
    "cm_pycm"
   ]
  },
  {
   "cell_type": "code",
   "execution_count": 39,
   "metadata": {},
   "outputs": [
    {
     "name": "stdout",
     "output_type": "stream",
     "text": [
      "Predict          0     1     2     3     4     5     6     7     8     9     10    11    12    13    14    15    16    17    18    19    20    21    22    23    24    25    26    27    28    29    30    31    32    33    34    35    36    37    38    39    40    41    \n",
      "Actual\n",
      "0                11    0     0     0     0     0     0     0     0     0     0     0     0     0     0     0     0     0     0     0     0     0     0     0     0     0     0     0     0     0     0     0     0     0     0     0     0     1     0     0     0     0     \n",
      "\n",
      "1                0     13    0     0     0     0     0     0     0     0     0     0     0     0     0     0     0     0     0     0     0     0     0     0     0     0     0     0     0     0     0     0     0     0     0     0     0     0     0     0     0     0     \n",
      "\n",
      "2                0     0     11    0     0     0     0     0     0     0     0     0     0     0     0     0     0     0     0     0     0     0     0     0     0     0     0     0     0     0     0     0     0     0     1     0     0     0     0     0     0     0     \n",
      "\n",
      "3                0     0     0     11    0     0     0     0     0     0     0     0     0     0     0     0     0     0     0     0     0     0     0     0     0     1     0     0     0     0     0     0     0     0     0     0     0     0     0     0     0     0     \n",
      "\n",
      "4                0     0     0     0     10    0     0     0     0     0     0     0     0     0     0     0     0     0     0     0     0     0     0     0     0     0     0     0     0     0     0     0     0     0     0     0     0     0     0     0     0     0     \n",
      "\n",
      "5                0     0     0     0     0     7     0     0     0     0     0     0     0     0     0     0     0     0     0     0     0     0     0     0     0     0     0     0     0     0     0     0     0     0     0     0     0     0     0     0     0     0     \n",
      "\n",
      "6                0     0     0     0     0     0     12    0     1     0     0     0     0     0     0     0     0     0     0     0     0     0     0     0     0     0     0     0     0     0     0     0     0     0     0     0     0     0     0     0     0     0     \n",
      "\n",
      "7                0     0     0     0     0     0     0     13    0     0     0     0     0     0     0     0     0     0     0     0     0     0     0     0     0     0     0     0     0     0     0     0     0     0     0     0     0     0     0     0     0     0     \n",
      "\n",
      "8                0     0     0     0     0     0     0     0     9     0     0     0     0     0     0     0     0     0     0     0     0     0     0     0     0     0     0     0     0     0     0     0     0     0     0     0     0     0     0     0     0     0     \n",
      "\n",
      "9                0     0     0     0     0     0     0     0     0     7     0     0     0     0     0     0     0     0     0     0     0     0     0     0     0     0     0     0     0     0     0     0     0     0     0     0     0     0     0     0     0     0     \n",
      "\n",
      "10               0     0     0     0     0     0     0     0     0     0     5     0     0     0     0     0     0     0     0     0     0     0     0     0     0     0     0     0     0     0     0     0     0     0     0     0     0     0     0     0     0     0     \n",
      "\n",
      "11               0     0     0     0     0     0     0     0     0     0     0     11    0     0     0     0     0     0     0     0     0     0     0     0     0     0     1     0     0     0     0     0     0     0     0     0     0     0     0     0     0     0     \n",
      "\n",
      "12               0     0     0     0     0     0     0     0     0     0     0     0     6     0     0     0     0     0     0     0     0     0     0     0     0     0     0     0     0     0     0     0     0     0     0     0     0     0     0     0     0     0     \n",
      "\n",
      "13               0     0     0     0     0     0     0     0     0     0     0     0     1     10    0     0     0     0     0     0     0     0     0     0     0     0     0     0     0     0     0     0     0     0     0     0     0     0     0     0     1     0     \n",
      "\n",
      "14               0     0     0     0     0     0     0     0     0     0     0     0     0     0     12    0     0     0     1     0     0     0     0     0     0     0     0     0     0     0     0     0     0     0     0     0     0     0     0     0     0     0     \n",
      "\n",
      "15               0     0     0     0     0     0     0     0     0     0     0     0     0     0     0     12    0     0     0     0     0     0     0     0     0     0     0     1     0     0     0     0     0     0     0     0     0     0     0     0     0     0     \n",
      "\n",
      "16               0     0     0     0     0     0     0     0     0     0     0     0     0     0     0     0     15    0     0     0     0     0     0     0     0     0     0     0     0     0     0     0     0     0     0     0     0     0     0     0     0     1     \n",
      "\n",
      "17               0     0     0     0     0     0     0     0     0     0     0     0     0     0     0     0     0     8     0     0     0     0     0     0     0     0     0     0     0     0     0     0     0     0     0     0     0     2     0     0     0     0     \n",
      "\n",
      "18               0     0     0     0     0     0     0     0     0     0     0     0     0     0     0     0     0     0     10    0     0     0     0     0     0     0     0     0     0     0     0     0     0     0     0     0     0     0     0     0     0     0     \n",
      "\n",
      "19               0     0     0     0     0     0     0     0     0     0     0     1     0     0     0     0     0     0     0     8     0     0     0     0     0     0     0     0     0     0     0     0     0     0     0     0     0     0     0     0     0     0     \n",
      "\n",
      "20               0     0     0     0     0     0     0     0     0     0     0     0     0     0     0     0     0     0     0     0     6     0     0     0     0     0     0     0     0     0     0     0     0     0     0     0     0     0     0     0     0     0     \n",
      "\n",
      "21               0     0     0     0     0     0     0     0     0     0     0     0     0     0     0     0     0     0     0     0     0     14    0     0     0     0     0     0     0     0     0     0     0     0     0     0     0     0     0     0     0     0     \n",
      "\n",
      "22               0     0     0     0     0     0     0     0     0     0     0     0     0     0     0     0     0     0     0     0     0     0     11    0     0     2     0     0     0     0     0     0     0     0     0     0     0     0     0     0     0     0     \n",
      "\n",
      "23               0     0     0     0     0     0     0     0     0     0     0     0     0     0     0     0     0     0     0     0     0     0     0     13    0     0     0     0     0     0     0     0     0     0     0     0     0     0     1     0     0     0     \n",
      "\n",
      "24               0     0     0     0     0     0     0     0     0     0     0     1     0     0     0     0     0     0     0     0     0     0     0     0     9     0     0     0     0     0     0     0     0     0     0     0     0     0     0     0     0     0     \n",
      "\n",
      "25               0     0     0     0     0     0     0     0     0     0     0     0     0     0     0     0     0     0     0     0     0     0     1     0     0     5     0     0     0     0     0     0     0     0     0     0     0     0     0     0     0     0     \n",
      "\n",
      "26               0     0     0     0     0     0     0     0     0     0     0     0     0     0     0     0     0     0     0     0     0     0     0     0     0     0     9     1     0     0     0     0     0     0     0     0     0     0     0     0     0     0     \n",
      "\n",
      "27               0     0     0     0     0     0     0     0     0     0     0     0     0     0     0     0     0     0     0     0     0     0     0     0     0     0     0     6     0     0     0     0     0     0     0     0     0     0     0     0     0     0     \n",
      "\n",
      "28               0     0     0     0     0     0     0     0     0     0     0     0     0     0     0     0     0     0     0     0     0     0     0     0     0     0     0     0     10    0     0     0     0     0     0     0     0     0     0     0     0     0     \n",
      "\n",
      "29               0     0     0     0     0     0     0     0     0     0     0     0     0     0     0     0     0     0     0     0     0     0     0     0     0     0     0     0     0     5     0     0     0     0     1     0     0     0     0     0     0     0     \n",
      "\n",
      "30               0     0     0     0     0     0     0     0     0     0     0     0     0     0     0     0     0     0     0     0     0     0     0     0     0     0     0     0     0     0     10    0     0     0     0     1     0     0     0     0     0     0     \n",
      "\n",
      "31               0     0     0     0     0     0     0     0     0     0     0     0     0     0     0     0     0     0     0     0     0     0     0     0     0     0     0     0     0     0     0     6     0     0     0     0     0     0     0     0     0     0     \n",
      "\n",
      "32               0     0     0     0     0     0     0     0     0     0     0     0     0     0     0     0     0     0     0     0     0     0     0     0     0     0     0     0     0     0     0     0     5     0     0     0     1     0     0     0     0     0     \n",
      "\n",
      "33               0     0     0     1     0     0     0     0     0     0     0     0     0     0     0     0     0     0     0     0     0     0     0     0     0     0     0     0     0     0     0     0     0     8     0     0     0     1     0     0     0     0     \n",
      "\n",
      "34               0     0     0     0     0     0     0     0     0     0     0     0     0     0     0     0     0     0     0     0     0     0     0     0     0     0     0     0     0     1     0     0     0     0     7     0     0     0     0     0     0     0     \n",
      "\n",
      "35               0     0     0     0     0     0     0     0     0     0     0     0     0     0     0     0     0     0     0     0     0     0     0     0     0     0     0     0     0     0     0     1     0     0     0     11    0     0     0     0     0     2     \n",
      "\n",
      "36               0     0     0     0     0     0     0     0     0     0     0     0     0     0     0     0     0     0     0     0     0     0     0     0     0     0     0     0     0     0     0     0     0     0     0     0     16    0     0     0     0     0     \n",
      "\n",
      "37               0     0     0     0     0     0     0     0     0     0     0     0     0     0     0     0     0     0     0     0     0     0     0     0     0     0     0     0     0     0     0     0     0     0     0     0     0     14    0     0     0     0     \n",
      "\n",
      "38               0     0     0     0     0     0     0     0     0     0     0     0     0     0     1     0     0     0     0     0     0     0     0     0     0     0     0     0     0     0     0     0     0     0     0     0     0     0     8     0     0     0     \n",
      "\n",
      "39               1     0     0     0     0     0     0     0     0     0     0     0     0     0     0     0     0     0     0     0     0     0     0     0     0     0     0     0     0     0     0     0     0     0     0     0     0     0     0     8     0     0     \n",
      "\n",
      "40               0     0     0     0     0     0     0     0     0     0     0     0     0     0     0     0     0     0     0     0     0     0     0     0     0     0     0     0     0     0     0     0     0     0     0     0     0     0     0     0     7     0     \n",
      "\n",
      "41               0     0     0     0     0     0     0     0     0     0     0     0     0     0     0     0     0     0     0     0     0     0     0     0     0     0     0     0     0     0     0     0     0     0     0     0     0     0     0     1     0     9     \n",
      "\n",
      "\n",
      "Warning : The confusion matrix is a high dimension matrix and won't be demonstrated properly. \n",
      "The save_csv method can be used to save the confusion matrix in csv format and have a better demonstration of it.\n",
      "\n",
      "\n",
      "\n",
      "\n",
      "Overall Statistics : \n",
      "\n",
      "95% CI                                                            (0.90324,0.95224)\n",
      "AUNP                                                              0.96301\n",
      "AUNU                                                              0.96362\n",
      "Bennett S                                                         0.92598\n",
      "CBA                                                               0.8895\n",
      "Chi-Squared                                                       15253.25178\n",
      "Chi-Squared DF                                                    1681\n",
      "Conditional Entropy                                               0.33053\n",
      "Cramer V                                                          0.93124\n",
      "Cross Entropy                                                     5.3375\n",
      "Gwet AC1                                                          0.92598\n",
      "Hamming Loss                                                      0.07226\n",
      "Joint Entropy                                                     5.65811\n",
      "KL Divergence                                                     0.00991\n",
      "Kappa                                                             0.92583\n",
      "Kappa 95% CI                                                      (0.90069,0.95098)\n",
      "Kappa No Prevalence                                               0.85548\n",
      "Kappa Standard Error                                              0.01283\n",
      "Kappa Unbiased                                                    0.92583\n",
      "Lambda A                                                          0.92494\n",
      "Lambda B                                                          0.92457\n",
      "Mutual Information                                                5.00055\n",
      "NIR                                                               0.0373\n",
      "Overall ACC                                                       0.92774\n",
      "Overall CEN                                                       0.04732\n",
      "Overall J                                                         (36.39541,0.86656)\n",
      "Overall MCC                                                       0.92599\n",
      "Overall MCEN                                                      0.07048\n",
      "Overall RACC                                                      0.02569\n",
      "Overall RACCU                                                     0.02577\n",
      "P-Value                                                           -0.0\n",
      "PPV Macro                                                         0.92779\n",
      "PPV Micro                                                         0.92774\n",
      "Phi-Squared                                                       35.55537\n",
      "RCI                                                               0.93861\n",
      "RR                                                                10.21429\n",
      "Reference Entropy                                                 5.32758\n",
      "Response Entropy                                                  5.33108\n",
      "SOA1(Landis & Koch)                                               Almost Perfect\n",
      "SOA2(Fleiss)                                                      Excellent\n",
      "SOA3(Altman)                                                      Very Good\n",
      "SOA4(Cicchetti)                                                   Excellent\n",
      "Scott PI                                                          0.92583\n",
      "Standard Error                                                    0.0125\n",
      "TPR Macro                                                         0.929\n",
      "TPR Micro                                                         0.92774\n",
      "Zero-one Loss                                                     31\n",
      "\n",
      "Class Statistics :\n",
      "\n",
      "Classes                                                           0                       1                       2                       3                       4                       5                       6                       7                       8                       9                       10                      11                      12                      13                      14                      15                      16                      17                      18                      19                      20                      21                      22                      23                      24                      25                      26                      27                      28                      29                      30                      31                      32                      33                      34                      35                      36                      37                      38                      39                      40                      41                      \n",
      "ACC(Accuracy)                                                     0.99534                 1.0                     0.99767                 0.99534                 1.0                     1.0                     0.99767                 1.0                     0.99767                 1.0                     1.0                     0.99301                 0.99767                 0.99534                 0.99534                 0.99767                 0.99767                 0.99534                 0.99767                 0.99767                 1.0                     1.0                     0.99301                 0.99767                 0.99767                 0.99068                 0.99534                 0.99534                 1.0                     0.99534                 0.99767                 0.99767                 0.99767                 0.99534                 0.99301                 0.99068                 0.99767                 0.99068                 0.99534                 0.99534                 0.99767                 0.99068                 \n",
      "AM(Difference between automatic and manual classification)        0                       0                       -1                      0                       0                       0                       -1                      0                       1                       0                       0                       1                       1                       -2                      0                       -1                      -1                      -2                      1                       -1                      0                       0                       -1                      -1                      -1                      2                       0                       2                       0                       0                       -1                      1                       -1                      -2                      1                       -2                      1                       4                       0                       0                       1                       2                       \n",
      "AUC(Area under the roc curve)                                     0.95713                 1.0                     0.95833                 0.95713                 1.0                     1.0                     0.96154                 1.0                     0.99881                 1.0                     1.0                     0.95594                 0.99882                 0.91667                 0.96034                 0.96154                 0.96875                 0.9                     0.99881                 0.94444                 1.0                     1.0                     0.92188                 0.96429                 0.95                    0.91312                 0.94881                 0.99764                 1.0                     0.91548                 0.95455                 0.99882                 0.91667                 0.9                     0.93512                 0.89165                 0.99879                 0.99518                 0.94325                 0.94325                 0.99882                 0.94642                 \n",
      "AUCI(AUC value interpretation)                                    Excellent               Excellent               Excellent               Excellent               Excellent               Excellent               Excellent               Excellent               Excellent               Excellent               Excellent               Excellent               Excellent               Excellent               Excellent               Excellent               Excellent               Excellent               Excellent               Excellent               Excellent               Excellent               Excellent               Excellent               Excellent               Excellent               Excellent               Excellent               Excellent               Excellent               Excellent               Excellent               Excellent               Excellent               Excellent               Very Good               Excellent               Excellent               Excellent               Excellent               Excellent               Excellent               \n",
      "BCD(Bray-Curtis dissimilarity)                                    0.0                     0.0                     0.00117                 0.0                     0.0                     0.0                     0.00117                 0.0                     0.00117                 0.0                     0.0                     0.00117                 0.00117                 0.00233                 0.0                     0.00117                 0.00117                 0.00233                 0.00117                 0.00117                 0.0                     0.0                     0.00117                 0.00117                 0.00117                 0.00233                 0.0                     0.00233                 0.0                     0.0                     0.00117                 0.00117                 0.00117                 0.00233                 0.00117                 0.00233                 0.00117                 0.00466                 0.0                     0.0                     0.00117                 0.00233                 \n",
      "BM(Informedness or bookmaker informedness)                        0.91427                 1.0                     0.91667                 0.91427                 1.0                     1.0                     0.92308                 1.0                     0.99762                 1.0                     1.0                     0.91187                 0.99764                 0.83333                 0.92067                 0.92308                 0.9375                  0.8                     0.99761                 0.88889                 1.0                     1.0                     0.84375                 0.92857                 0.9                     0.82624                 0.89761                 0.99527                 1.0                     0.83097                 0.90909                 0.99764                 0.83333                 0.8                     0.87025                 0.7833                  0.99758                 0.99036                 0.88651                 0.88651                 0.99763                 0.89284                 \n",
      "CEN(Confusion entropy)                                            0.0601                  0                       0.03094                 0.0601                  0                       0                       0.02922                 0                       0.03517                 0                       0                       0.08765                 0.04477                 0.06377                 0.05687                 0.02922                 0.02514                 0.0554                  0.0329                  0.03782                 0                       0                       0.07507                 0.0277                  0.03517                 0.14864                 0.06798                 0.08555                 0                       0.09398                 0.0329                  0.04477                 0.04947                 0.07288                 0.11346                 0.10165                 0.02404                 0.08848                 0.07288                 0.07288                 0.04097                 0.11323                 \n",
      "DOR(Diagnostic odds ratio)                                        4576.0                  None                    None                    4576.0                  None                    None                    None                    None                    None                    None                    None                    2282.5                  None                    None                    4980.0                  None                    None                    None                    None                    None                    None                    None                    2282.5                  None                    None                    700.0                   3762.0                  None                    None                    2110.0                  None                    None                    None                    None                    1466.5                  1518.0                  None                    None                    3352.0                  3352.0                  None                    1248.0                  \n",
      "DP(Discriminant power)                                            2.01813                 None                    None                    2.01813                 None                    None                    None                    None                    None                    None                    None                    1.85159                 None                    None                    2.03839                 None                    None                    None                    None                    None                    None                    None                    1.85159                 None                    None                    1.56858                 1.97123                 None                    None                    1.83277                 None                    None                    None                    None                    1.74566                 1.75393                 None                    None                    1.9436                  1.9436                  None                    1.70703                 \n",
      "DPI(Discriminant power interpretation)                            Fair                    None                    None                    Fair                    None                    None                    None                    None                    None                    None                    None                    Limited                 None                    None                    Fair                    None                    None                    None                    None                    None                    None                    None                    Limited                 None                    None                    Limited                 Limited                 None                    None                    Limited                 None                    None                    None                    None                    Limited                 Limited                 None                    None                    Limited                 Limited                 None                    Limited                 \n",
      "ERR(Error rate)                                                   0.00466                 0.0                     0.00233                 0.00466                 0.0                     0.0                     0.00233                 0.0                     0.00233                 0.0                     0.0                     0.00699                 0.00233                 0.00466                 0.00466                 0.00233                 0.00233                 0.00466                 0.00233                 0.00233                 0.0                     0.0                     0.00699                 0.00233                 0.00233                 0.00932                 0.00466                 0.00466                 0.0                     0.00466                 0.00233                 0.00233                 0.00233                 0.00466                 0.00699                 0.00932                 0.00233                 0.00932                 0.00466                 0.00466                 0.00233                 0.00932                 \n",
      "F0.5(F0.5 score)                                                  0.91667                 1.0                     0.98214                 0.91667                 1.0                     1.0                     0.98361                 1.0                     0.91837                 1.0                     1.0                     0.85938                 0.88235                 0.96154                 0.92308                 0.98361                 0.98684                 0.95238                 0.92593                 0.97561                 1.0                     1.0                     0.90164                 0.98485                 0.97826                 0.65789                 0.9                     0.78947                 1.0                     0.83333                 0.98039                 0.88235                 0.96154                 0.95238                 0.79545                 0.8871                  0.95238                 0.81395                 0.88889                 0.88889                 0.89744                 0.77586                 \n",
      "F1(F1 score - harmonic mean of precision and sensitivity)         0.91667                 1.0                     0.95652                 0.91667                 1.0                     1.0                     0.96                    1.0                     0.94737                 1.0                     1.0                     0.88                    0.92308                 0.90909                 0.92308                 0.96                    0.96774                 0.88889                 0.95238                 0.94118                 1.0                     1.0                     0.88                    0.96296                 0.94737                 0.71429                 0.9                     0.85714                 1.0                     0.83333                 0.95238                 0.92308                 0.90909                 0.88889                 0.82353                 0.84615                 0.9697                  0.875                   0.88889                 0.88889                 0.93333                 0.81818                 \n",
      "F2(F2 score)                                                      0.91667                 1.0                     0.9322                  0.91667                 1.0                     1.0                     0.9375                  1.0                     0.97826                 1.0                     1.0                     0.90164                 0.96774                 0.86207                 0.92308                 0.9375                  0.94937                 0.83333                 0.98039                 0.90909                 1.0                     1.0                     0.85938                 0.94203                 0.91837                 0.78125                 0.9                     0.9375                  1.0                     0.83333                 0.92593                 0.96774                 0.86207                 0.83333                 0.85366                 0.80882                 0.98765                 0.94595                 0.88889                 0.88889                 0.97222                 0.86538                 \n",
      "FDR(False discovery rate)                                         0.08333                 0.0                     0.0                     0.08333                 0.0                     0.0                     0.0                     0.0                     0.1                     0.0                     0.0                     0.15385                 0.14286                 0.0                     0.07692                 0.0                     0.0                     0.0                     0.09091                 0.0                     0.0                     0.0                     0.08333                 0.0                     0.0                     0.375                   0.1                     0.25                    0.0                     0.16667                 0.0                     0.14286                 0.0                     0.0                     0.22222                 0.08333                 0.05882                 0.22222                 0.11111                 0.11111                 0.125                   0.25                    \n",
      "FN(False negative/miss/type 2 error)                              1                       0                       1                       1                       0                       0                       1                       0                       0                       0                       0                       1                       0                       2                       1                       1                       1                       2                       0                       1                       0                       0                       2                       1                       1                       1                       1                       0                       0                       1                       1                       0                       1                       2                       1                       3                       0                       0                       1                       1                       0                       1                       \n",
      "FNR(Miss rate or false negative rate)                             0.08333                 0.0                     0.08333                 0.08333                 0.0                     0.0                     0.07692                 0.0                     0.0                     0.0                     0.0                     0.08333                 0.0                     0.16667                 0.07692                 0.07692                 0.0625                  0.2                     0.0                     0.11111                 0.0                     0.0                     0.15385                 0.07143                 0.1                     0.16667                 0.1                     0.0                     0.0                     0.16667                 0.09091                 0.0                     0.16667                 0.2                     0.125                   0.21429                 0.0                     0.0                     0.11111                 0.11111                 0.0                     0.1                     \n",
      "FOR(False omission rate)                                          0.0024                  0.0                     0.00239                 0.0024                  0.0                     0.0                     0.0024                  0.0                     0.0                     0.0                     0.0                     0.0024                  0.0                     0.00477                 0.0024                  0.0024                  0.00242                 0.00475                 0.0                     0.00238                 0.0                     0.0                     0.0048                  0.0024                  0.00238                 0.00238                 0.00239                 0.0                     0.0                     0.00236                 0.00239                 0.0                     0.00236                 0.00475                 0.00238                 0.00719                 0.0                     0.0                     0.00238                 0.00238                 0.0                     0.0024                  \n",
      "FP(False positive/type 1 error/false alarm)                       1                       0                       0                       1                       0                       0                       0                       0                       1                       0                       0                       2                       1                       0                       1                       0                       0                       0                       1                       0                       0                       0                       1                       0                       0                       3                       1                       2                       0                       1                       0                       1                       0                       0                       2                       1                       1                       4                       1                       1                       1                       3                       \n",
      "FPR(Fall-out or false positive rate)                              0.0024                  0.0                     0.0                     0.0024                  0.0                     0.0                     0.0                     0.0                     0.00238                 0.0                     0.0                     0.0048                  0.00236                 0.0                     0.0024                  0.0                     0.0                     0.0                     0.00239                 0.0                     0.0                     0.0                     0.0024                  0.0                     0.0                     0.00709                 0.00239                 0.00473                 0.0                     0.00236                 0.0                     0.00236                 0.0                     0.0                     0.00475                 0.00241                 0.00242                 0.00964                 0.00238                 0.00238                 0.00237                 0.00716                 \n",
      "G(G-measure geometric mean of precision and sensitivity)          0.91667                 1.0                     0.95743                 0.91667                 1.0                     1.0                     0.96077                 1.0                     0.94868                 1.0                     1.0                     0.8807                  0.92582                 0.91287                 0.92308                 0.96077                 0.96825                 0.89443                 0.95346                 0.94281                 1.0                     1.0                     0.8807                  0.96362                 0.94868                 0.72169                 0.9                     0.86603                 1.0                     0.83333                 0.95346                 0.92582                 0.91287                 0.89443                 0.82496                 0.84867                 0.97014                 0.88192                 0.88889                 0.88889                 0.93541                 0.82158                 \n",
      "GI(Gini index)                                                    0.91427                 1.0                     0.91667                 0.91427                 1.0                     1.0                     0.92308                 1.0                     0.99762                 1.0                     1.0                     0.91187                 0.99764                 0.83333                 0.92067                 0.92308                 0.9375                  0.8                     0.99761                 0.88889                 1.0                     1.0                     0.84375                 0.92857                 0.9                     0.82624                 0.89761                 0.99527                 1.0                     0.83097                 0.90909                 0.99764                 0.83333                 0.8                     0.87025                 0.7833                  0.99758                 0.99036                 0.88651                 0.88651                 0.99763                 0.89284                 \n",
      "IS(Information score)                                             5.03434                 5.04439                 5.15987                 5.03434                 5.42291                 5.93748                 5.04439                 5.04439                 5.42291                 5.93748                 6.42291                 4.91886                 5.93748                 5.15987                 4.92892                 5.04439                 4.74483                 5.42291                 5.2854                  5.57491                 6.15987                 4.93748                 4.91886                 4.93748                 5.42291                 5.4818                  5.2709                  5.74483                 5.42291                 5.89684                 5.2854                  5.93748                 6.15987                 5.42291                 5.38226                 4.81195                 4.65737                 4.57491                 5.40498                 5.40498                 5.74483                 5.00787                 \n",
      "J(Jaccard index)                                                  0.84615                 1.0                     0.91667                 0.84615                 1.0                     1.0                     0.92308                 1.0                     0.9                     1.0                     1.0                     0.78571                 0.85714                 0.83333                 0.85714                 0.92308                 0.9375                  0.8                     0.90909                 0.88889                 1.0                     1.0                     0.78571                 0.92857                 0.9                     0.55556                 0.81818                 0.75                    1.0                     0.71429                 0.90909                 0.85714                 0.83333                 0.8                     0.7                     0.73333                 0.94118                 0.77778                 0.8                     0.8                     0.875                   0.69231                 \n",
      "LS(Lift score)                                                    32.77083                33.0                    35.75                   32.77083                42.9                    61.28571                33.0                    33.0                    42.9                    61.28571                85.8                    30.25                   61.28571                35.75                   30.46154                33.0                    26.8125                 42.9                    39.0                    47.66667                71.5                    30.64286                30.25                   30.64286                42.9                    44.6875                 38.61                   53.625                  42.9                    59.58333                39.0                    61.28571                71.5                    42.9                    41.70833                28.08929                25.23529                23.83333                42.37037                42.37037                53.625                  32.175                  \n",
      "MCC(Matthews correlation coefficient)                             0.91427                 1.0                     0.95628                 0.91427                 1.0                     1.0                     0.95962                 1.0                     0.94755                 1.0                     1.0                     0.87715                 0.92473                 0.91069                 0.92067                 0.95962                 0.96708                 0.8923                  0.95232                 0.94169                 1.0                     1.0                     0.87715                 0.96247                 0.94755                 0.71724                 0.89761                 0.86398                 1.0                     0.83097                 0.95232                 0.92473                 0.91179                 0.8923                  0.82146                 0.84403                 0.96897                 0.87766                 0.88651                 0.88651                 0.93431                 0.817                   \n",
      "MCEN(Modified confusion entropy)                                  0.08955                 0                       0.04699                 0.08955                 0                       0                       0.04477                 0                       0.05225                 0                       0                       0.12833                 0.06308                 0.09398                 0.08555                 0.04477                 0.03932                 0.07304                 0.04947                 0.0554                  0                       0                       0.10586                 0.04278                 0.05225                 0.18665                 0.09894                 0.11797                 0                       0.12617                 0.04947                 0.06308                 0.06777                 0.1045                  0.15676                 0.1429                  0.03782                 0.12828                 0.1045                  0.1045                  0.05898                 0.15489                 \n",
      "MK(Markedness)                                                    0.91427                 1.0                     0.99761                 0.91427                 1.0                     1.0                     0.9976                  1.0                     0.9                     1.0                     1.0                     0.84375                 0.85714                 0.99523                 0.92067                 0.9976                  0.99758                 0.99525                 0.90909                 0.99762                 1.0                     1.0                     0.91187                 0.9976                  0.99762                 0.62262                 0.89761                 0.75                    1.0                     0.83097                 0.99761                 0.85714                 0.99764                 0.99525                 0.7754                  0.90947                 0.94118                 0.77778                 0.88651                 0.88651                 0.875                   0.7476                  \n",
      "N(Condition negative)                                             417                     416                     417                     417                     419                     422                     416                     416                     420                     422                     424                     417                     423                     417                     416                     416                     413                     419                     419                     420                     423                     415                     416                     415                     419                     423                     419                     423                     419                     423                     418                     423                     423                     419                     421                     415                     413                     415                     420                     420                     422                     419                     \n",
      "NLR(Negative likelihood ratio)                                    0.08353                 0.0                     0.08333                 0.08353                 0.0                     0.0                     0.07692                 0.0                     0.0                     0.0                     0.0                     0.08373                 0.0                     0.16667                 0.07711                 0.07692                 0.0625                  0.2                     0.0                     0.11111                 0.0                     0.0                     0.15422                 0.07143                 0.1                     0.16786                 0.10024                 0.0                     0.0                     0.16706                 0.09091                 0.0                     0.16667                 0.2                     0.1256                  0.2148                  0.0                     0.0                     0.11138                 0.11138                 0.0                     0.10072                 \n",
      "NPV(Negative predictive value)                                    0.9976                  1.0                     0.99761                 0.9976                  1.0                     1.0                     0.9976                  1.0                     1.0                     1.0                     1.0                     0.9976                  1.0                     0.99523                 0.9976                  0.9976                  0.99758                 0.99525                 1.0                     0.99762                 1.0                     1.0                     0.9952                  0.9976                  0.99762                 0.99762                 0.99761                 1.0                     1.0                     0.99764                 0.99761                 1.0                     0.99764                 0.99525                 0.99762                 0.99281                 1.0                     1.0                     0.99762                 0.99762                 1.0                     0.9976                  \n",
      "P(Condition positive or support)                                  12                      13                      12                      12                      10                      7                       13                      13                      9                       7                       5                       12                      6                       12                      13                      13                      16                      10                      10                      9                       6                       14                      13                      14                      10                      6                       10                      6                       10                      6                       11                      6                       6                       10                      8                       14                      16                      14                      9                       9                       7                       10                      \n",
      "PLR(Positive likelihood ratio)                                    382.25                  None                    None                    382.25                  None                    None                    None                    None                    420.0                   None                    None                    191.125                 423.0                   None                    384.0                   None                    None                    None                    419.0                   None                    None                    None                    352.0                   None                    None                    117.5                   377.1                   211.5                   None                    352.5                   None                    423.0                   None                    None                    184.1875                326.07143               413.0                   103.75                  373.33333               373.33333               422.0                   125.7                   \n",
      "PLRI(Positive likelihood ratio interpretation)                    Good                    None                    None                    Good                    None                    None                    None                    None                    Good                    None                    None                    Good                    Good                    None                    Good                    None                    None                    None                    Good                    None                    None                    None                    Good                    None                    None                    Good                    Good                    Good                    None                    Good                    None                    Good                    None                    None                    Good                    Good                    Good                    Good                    Good                    Good                    Good                    Good                    \n",
      "POP(Population)                                                   429                     429                     429                     429                     429                     429                     429                     429                     429                     429                     429                     429                     429                     429                     429                     429                     429                     429                     429                     429                     429                     429                     429                     429                     429                     429                     429                     429                     429                     429                     429                     429                     429                     429                     429                     429                     429                     429                     429                     429                     429                     429                     \n",
      "PPV(Precision or positive predictive value)                       0.91667                 1.0                     1.0                     0.91667                 1.0                     1.0                     1.0                     1.0                     0.9                     1.0                     1.0                     0.84615                 0.85714                 1.0                     0.92308                 1.0                     1.0                     1.0                     0.90909                 1.0                     1.0                     1.0                     0.91667                 1.0                     1.0                     0.625                   0.9                     0.75                    1.0                     0.83333                 1.0                     0.85714                 1.0                     1.0                     0.77778                 0.91667                 0.94118                 0.77778                 0.88889                 0.88889                 0.875                   0.75                    \n",
      "PRE(Prevalence)                                                   0.02797                 0.0303                  0.02797                 0.02797                 0.02331                 0.01632                 0.0303                  0.0303                  0.02098                 0.01632                 0.01166                 0.02797                 0.01399                 0.02797                 0.0303                  0.0303                  0.0373                  0.02331                 0.02331                 0.02098                 0.01399                 0.03263                 0.0303                  0.03263                 0.02331                 0.01399                 0.02331                 0.01399                 0.02331                 0.01399                 0.02564                 0.01399                 0.01399                 0.02331                 0.01865                 0.03263                 0.0373                  0.03263                 0.02098                 0.02098                 0.01632                 0.02331                 \n",
      "RACC(Random accuracy)                                             0.00078                 0.00092                 0.00072                 0.00078                 0.00054                 0.00027                 0.00085                 0.00092                 0.00049                 0.00027                 0.00014                 0.00085                 0.00023                 0.00065                 0.00092                 0.00085                 0.0013                  0.00043                 0.0006                  0.00039                 0.0002                  0.00106                 0.00085                 0.00099                 0.00049                 0.00026                 0.00054                 0.00026                 0.00054                 0.0002                  0.0006                  0.00023                 0.00016                 0.00043                 0.00039                 0.00091                 0.00148                 0.00137                 0.00044                 0.00044                 0.0003                  0.00065                 \n",
      "RACCU(Random accuracy unbiased)                                   0.00078                 0.00092                 0.00072                 0.00078                 0.00054                 0.00027                 0.00085                 0.00092                 0.00049                 0.00027                 0.00014                 0.00085                 0.00023                 0.00066                 0.00092                 0.00085                 0.00131                 0.00044                 0.0006                  0.00039                 0.0002                  0.00106                 0.00085                 0.00099                 0.00049                 0.00027                 0.00054                 0.00027                 0.00054                 0.0002                  0.0006                  0.00023                 0.00016                 0.00044                 0.00039                 0.00092                 0.00148                 0.00139                 0.00044                 0.00044                 0.00031                 0.00066                 \n",
      "TN(True negative/correct rejection)                               416                     416                     417                     416                     419                     422                     416                     416                     419                     422                     424                     415                     422                     417                     415                     416                     413                     419                     418                     420                     423                     415                     415                     415                     419                     420                     418                     421                     419                     422                     418                     422                     423                     419                     419                     414                     412                     411                     419                     419                     421                     416                     \n",
      "TNR(Specificity or true negative rate)                            0.9976                  1.0                     1.0                     0.9976                  1.0                     1.0                     1.0                     1.0                     0.99762                 1.0                     1.0                     0.9952                  0.99764                 1.0                     0.9976                  1.0                     1.0                     1.0                     0.99761                 1.0                     1.0                     1.0                     0.9976                  1.0                     1.0                     0.99291                 0.99761                 0.99527                 1.0                     0.99764                 1.0                     0.99764                 1.0                     1.0                     0.99525                 0.99759                 0.99758                 0.99036                 0.99762                 0.99762                 0.99763                 0.99284                 \n",
      "TON(Test outcome negative)                                        417                     416                     418                     417                     419                     422                     417                     416                     419                     422                     424                     416                     422                     419                     416                     417                     414                     421                     418                     421                     423                     415                     417                     416                     420                     421                     419                     421                     419                     423                     419                     422                     424                     421                     420                     417                     412                     411                     420                     420                     421                     417                     \n",
      "TOP(Test outcome positive)                                        12                      13                      11                      12                      10                      7                       12                      13                      10                      7                       5                       13                      7                       10                      13                      12                      15                      8                       11                      8                       6                       14                      12                      13                      9                       8                       10                      8                       10                      6                       10                      7                       5                       8                       9                       12                      17                      18                      9                       9                       8                       12                      \n",
      "TP(True positive/hit)                                             11                      13                      11                      11                      10                      7                       12                      13                      9                       7                       5                       11                      6                       10                      12                      12                      15                      8                       10                      8                       6                       14                      11                      13                      9                       5                       9                       6                       10                      5                       10                      6                       5                       8                       7                       11                      16                      14                      8                       8                       7                       9                       \n",
      "TPR(Sensitivity, recall, hit rate, or true positive rate)         0.91667                 1.0                     0.91667                 0.91667                 1.0                     1.0                     0.92308                 1.0                     1.0                     1.0                     1.0                     0.91667                 1.0                     0.83333                 0.92308                 0.92308                 0.9375                  0.8                     1.0                     0.88889                 1.0                     1.0                     0.84615                 0.92857                 0.9                     0.83333                 0.9                     1.0                     1.0                     0.83333                 0.90909                 1.0                     0.83333                 0.8                     0.875                   0.78571                 1.0                     1.0                     0.88889                 0.88889                 1.0                     0.9                     \n",
      "Y(Youden index)                                                   0.91427                 1.0                     0.91667                 0.91427                 1.0                     1.0                     0.92308                 1.0                     0.99762                 1.0                     1.0                     0.91187                 0.99764                 0.83333                 0.92067                 0.92308                 0.9375                  0.8                     0.99761                 0.88889                 1.0                     1.0                     0.84375                 0.92857                 0.9                     0.82624                 0.89761                 0.99527                 1.0                     0.83097                 0.90909                 0.99764                 0.83333                 0.8                     0.87025                 0.7833                  0.99758                 0.99036                 0.88651                 0.88651                 0.99763                 0.89284                 \n",
      "dInd(Distance index)                                              0.08337                 0.0                     0.08333                 0.08337                 0.0                     0.0                     0.07692                 0.0                     0.00238                 0.0                     0.0                     0.08347                 0.00236                 0.16667                 0.07696                 0.07692                 0.0625                  0.2                     0.00239                 0.11111                 0.0                     0.0                     0.15386                 0.07143                 0.1                     0.16682                 0.10003                 0.00473                 0.0                     0.16668                 0.09091                 0.00236                 0.16667                 0.2                     0.12509                 0.2143                  0.00242                 0.00964                 0.11114                 0.11114                 0.00237                 0.10026                 \n",
      "sInd(Similarity index)                                            0.94105                 1.0                     0.94107                 0.94105                 1.0                     1.0                     0.94561                 1.0                     0.99832                 1.0                     1.0                     0.94098                 0.99833                 0.88215                 0.94558                 0.94561                 0.95581                 0.85858                 0.99831                 0.92143                 1.0                     1.0                     0.8912                  0.94949                 0.92929                 0.88204                 0.92927                 0.99666                 1.0                     0.88214                 0.93572                 0.99833                 0.88215                 0.85858                 0.91155                 0.84847                 0.99829                 0.99318                 0.92141                 0.92141                 0.99832                 0.92911                 \n",
      "\n",
      "Warning : The confusion matrix is a high dimension matrix and won't be demonstrated properly. \n",
      "The save_csv method can be used to save the confusion matrix in csv format and have a better demonstration of it.\n",
      "\n"
     ]
    }
   ],
   "source": [
    "print(cm_pycm)"
   ]
  },
  {
   "cell_type": "code",
   "execution_count": null,
   "metadata": {},
   "outputs": [],
   "source": []
  }
 ],
 "metadata": {
  "kernelspec": {
   "display_name": "Python 3",
   "language": "python",
   "name": "python3"
  },
  "language_info": {
   "codemirror_mode": {
    "name": "ipython",
    "version": 3
   },
   "file_extension": ".py",
   "mimetype": "text/x-python",
   "name": "python",
   "nbconvert_exporter": "python",
   "pygments_lexer": "ipython3",
   "version": "3.6.5"
  }
 },
 "nbformat": 4,
 "nbformat_minor": 2
}
