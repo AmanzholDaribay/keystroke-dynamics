{
 "cells": [
  {
   "cell_type": "markdown",
   "metadata": {},
   "source": [
    "# Keystroke Dynamics"
   ]
  },
  {
   "cell_type": "markdown",
   "metadata": {},
   "source": [
    "### Dataset:\n",
    "The dataset is taken from http://www.vmonaco.com/keystroke-datasets.\n",
    "Specifically from https://ms.sapientia.ro/~manyi/keystroke.html."
   ]
  },
  {
   "cell_type": "markdown",
   "metadata": {},
   "source": [
    "### To read:\n",
    "* https://appliedmachinelearning.blog/2017/07/26/user-verification-based-on-keystroke-dynamics-python-code/"
   ]
  },
  {
   "cell_type": "markdown",
   "metadata": {},
   "source": [
    "## 1. Loading data"
   ]
  },
  {
   "cell_type": "code",
   "execution_count": 1,
   "metadata": {},
   "outputs": [],
   "source": [
    "from scipy.io import arff\n",
    "import pandas as pd\n",
    "import numpy as np"
   ]
  },
  {
   "cell_type": "code",
   "execution_count": 2,
   "metadata": {},
   "outputs": [],
   "source": [
    "data = arff.loadarff('dataset2_norm.arff')\n",
    "df = pd.DataFrame(data[0])"
   ]
  },
  {
   "cell_type": "code",
   "execution_count": 3,
   "metadata": {},
   "outputs": [
    {
     "data": {
      "text/plain": [
       "Index(['holdtime1', 'holdtime2', 'holdtime3', 'holdtime4', 'holdtime5',\n",
       "       'holdtime6', 'holdtime7', 'holdtime8', 'holdtime9', 'holdtime10',\n",
       "       'holdtime11', 'holdtime12', 'holdtime13', 'holdtime14', 'downdown1',\n",
       "       'downdown2', 'downdown3', 'downdown4', 'downdown5', 'downdown6',\n",
       "       'downdown7', 'downdown8', 'downdown9', 'downdown10', 'downdown11',\n",
       "       'downdown12', 'downdown13', 'updown1', 'updown2', 'updown3', 'updown4',\n",
       "       'updown5', 'updown6', 'updown7', 'updown8', 'updown9', 'updown10',\n",
       "       'updown11', 'updown12', 'updown13', 'pressure1', 'pressure2',\n",
       "       'pressure3', 'pressure4', 'pressure5', 'pressure6', 'pressure7',\n",
       "       'pressure8', 'pressure9', 'pressure10', 'pressure11', 'pressure12',\n",
       "       'pressure13', 'pressure14', 'fingerarea1', 'fingerarea2', 'fingerarea3',\n",
       "       'fingerarea4', 'fingerarea5', 'fingerarea6', 'fingerarea7',\n",
       "       'fingerarea8', 'fingerarea9', 'fingerarea10', 'fingerarea11',\n",
       "       'fingerarea12', 'fingerarea13', 'fingerarea14', 'meanholdtime',\n",
       "       'meanpressure', 'meanfingerarea', 'user_id'],\n",
       "      dtype='object')"
      ]
     },
     "execution_count": 3,
     "metadata": {},
     "output_type": "execute_result"
    }
   ],
   "source": [
    "df.columns"
   ]
  },
  {
   "cell_type": "code",
   "execution_count": 4,
   "metadata": {},
   "outputs": [
    {
     "data": {
      "text/plain": [
       "72"
      ]
     },
     "execution_count": 4,
     "metadata": {},
     "output_type": "execute_result"
    }
   ],
   "source": [
    "len(df.columns)"
   ]
  },
  {
   "cell_type": "code",
   "execution_count": 5,
   "metadata": {},
   "outputs": [
    {
     "data": {
      "text/plain": [
       "(2142, 72)"
      ]
     },
     "execution_count": 5,
     "metadata": {},
     "output_type": "execute_result"
    }
   ],
   "source": [
    "df.shape"
   ]
  },
  {
   "cell_type": "code",
   "execution_count": 6,
   "metadata": {},
   "outputs": [],
   "source": [
    "a = df['user_id'].values[:]"
   ]
  },
  {
   "cell_type": "code",
   "execution_count": 7,
   "metadata": {},
   "outputs": [
    {
     "data": {
      "text/plain": [
       "numpy.ndarray"
      ]
     },
     "execution_count": 7,
     "metadata": {},
     "output_type": "execute_result"
    }
   ],
   "source": [
    "type(a)"
   ]
  },
  {
   "cell_type": "code",
   "execution_count": 8,
   "metadata": {},
   "outputs": [
    {
     "data": {
      "text/html": [
       "<div>\n",
       "<style scoped>\n",
       "    .dataframe tbody tr th:only-of-type {\n",
       "        vertical-align: middle;\n",
       "    }\n",
       "\n",
       "    .dataframe tbody tr th {\n",
       "        vertical-align: top;\n",
       "    }\n",
       "\n",
       "    .dataframe thead th {\n",
       "        text-align: right;\n",
       "    }\n",
       "</style>\n",
       "<table border=\"1\" class=\"dataframe\">\n",
       "  <thead>\n",
       "    <tr style=\"text-align: right;\">\n",
       "      <th></th>\n",
       "      <th>holdtime1</th>\n",
       "      <th>holdtime2</th>\n",
       "      <th>holdtime3</th>\n",
       "      <th>holdtime4</th>\n",
       "      <th>holdtime5</th>\n",
       "      <th>holdtime6</th>\n",
       "      <th>holdtime7</th>\n",
       "      <th>holdtime8</th>\n",
       "      <th>holdtime9</th>\n",
       "      <th>holdtime10</th>\n",
       "      <th>...</th>\n",
       "      <th>fingerarea9</th>\n",
       "      <th>fingerarea10</th>\n",
       "      <th>fingerarea11</th>\n",
       "      <th>fingerarea12</th>\n",
       "      <th>fingerarea13</th>\n",
       "      <th>fingerarea14</th>\n",
       "      <th>meanholdtime</th>\n",
       "      <th>meanpressure</th>\n",
       "      <th>meanfingerarea</th>\n",
       "      <th>user_id</th>\n",
       "    </tr>\n",
       "  </thead>\n",
       "  <tbody>\n",
       "    <tr>\n",
       "      <th>0</th>\n",
       "      <td>0.538793</td>\n",
       "      <td>0.462222</td>\n",
       "      <td>0.362903</td>\n",
       "      <td>0.274510</td>\n",
       "      <td>0.300366</td>\n",
       "      <td>0.384259</td>\n",
       "      <td>0.430147</td>\n",
       "      <td>0.467290</td>\n",
       "      <td>0.240</td>\n",
       "      <td>0.374429</td>\n",
       "      <td>...</td>\n",
       "      <td>0.296296</td>\n",
       "      <td>0.296296</td>\n",
       "      <td>0.222222</td>\n",
       "      <td>0.211470</td>\n",
       "      <td>0.283154</td>\n",
       "      <td>0.185185</td>\n",
       "      <td>0.447030</td>\n",
       "      <td>0.387546</td>\n",
       "      <td>0.364089</td>\n",
       "      <td>b'1'</td>\n",
       "    </tr>\n",
       "    <tr>\n",
       "      <th>1</th>\n",
       "      <td>0.435345</td>\n",
       "      <td>0.382222</td>\n",
       "      <td>0.354839</td>\n",
       "      <td>0.285714</td>\n",
       "      <td>0.106227</td>\n",
       "      <td>0.328704</td>\n",
       "      <td>0.363971</td>\n",
       "      <td>0.485981</td>\n",
       "      <td>0.344</td>\n",
       "      <td>0.365297</td>\n",
       "      <td>...</td>\n",
       "      <td>0.259259</td>\n",
       "      <td>0.185185</td>\n",
       "      <td>0.185185</td>\n",
       "      <td>0.354839</td>\n",
       "      <td>0.211470</td>\n",
       "      <td>0.148148</td>\n",
       "      <td>0.423762</td>\n",
       "      <td>0.445704</td>\n",
       "      <td>0.369322</td>\n",
       "      <td>b'1'</td>\n",
       "    </tr>\n",
       "    <tr>\n",
       "      <th>2</th>\n",
       "      <td>0.478448</td>\n",
       "      <td>0.453333</td>\n",
       "      <td>0.399194</td>\n",
       "      <td>0.338936</td>\n",
       "      <td>0.340659</td>\n",
       "      <td>0.375000</td>\n",
       "      <td>0.338235</td>\n",
       "      <td>0.345794</td>\n",
       "      <td>0.296</td>\n",
       "      <td>0.365297</td>\n",
       "      <td>...</td>\n",
       "      <td>0.296296</td>\n",
       "      <td>0.333333</td>\n",
       "      <td>0.222222</td>\n",
       "      <td>0.283154</td>\n",
       "      <td>0.175627</td>\n",
       "      <td>0.185185</td>\n",
       "      <td>0.454455</td>\n",
       "      <td>0.464092</td>\n",
       "      <td>0.371658</td>\n",
       "      <td>b'1'</td>\n",
       "    </tr>\n",
       "    <tr>\n",
       "      <th>3</th>\n",
       "      <td>0.396552</td>\n",
       "      <td>0.444444</td>\n",
       "      <td>0.415323</td>\n",
       "      <td>0.338936</td>\n",
       "      <td>0.366300</td>\n",
       "      <td>0.416667</td>\n",
       "      <td>0.404412</td>\n",
       "      <td>0.640187</td>\n",
       "      <td>0.276</td>\n",
       "      <td>0.410959</td>\n",
       "      <td>...</td>\n",
       "      <td>0.370370</td>\n",
       "      <td>0.185185</td>\n",
       "      <td>0.222222</td>\n",
       "      <td>0.283154</td>\n",
       "      <td>0.247312</td>\n",
       "      <td>0.296296</td>\n",
       "      <td>0.522772</td>\n",
       "      <td>0.397230</td>\n",
       "      <td>0.396828</td>\n",
       "      <td>b'1'</td>\n",
       "    </tr>\n",
       "    <tr>\n",
       "      <th>4</th>\n",
       "      <td>0.469828</td>\n",
       "      <td>0.453333</td>\n",
       "      <td>0.290323</td>\n",
       "      <td>0.271709</td>\n",
       "      <td>0.340659</td>\n",
       "      <td>0.361111</td>\n",
       "      <td>0.408088</td>\n",
       "      <td>0.635514</td>\n",
       "      <td>0.324</td>\n",
       "      <td>0.378995</td>\n",
       "      <td>...</td>\n",
       "      <td>0.333333</td>\n",
       "      <td>0.222222</td>\n",
       "      <td>0.222222</td>\n",
       "      <td>0.211470</td>\n",
       "      <td>0.318996</td>\n",
       "      <td>0.074074</td>\n",
       "      <td>0.493564</td>\n",
       "      <td>0.455577</td>\n",
       "      <td>0.365646</td>\n",
       "      <td>b'1'</td>\n",
       "    </tr>\n",
       "  </tbody>\n",
       "</table>\n",
       "<p>5 rows × 72 columns</p>\n",
       "</div>"
      ],
      "text/plain": [
       "   holdtime1  holdtime2  holdtime3  holdtime4  holdtime5  holdtime6  \\\n",
       "0   0.538793   0.462222   0.362903   0.274510   0.300366   0.384259   \n",
       "1   0.435345   0.382222   0.354839   0.285714   0.106227   0.328704   \n",
       "2   0.478448   0.453333   0.399194   0.338936   0.340659   0.375000   \n",
       "3   0.396552   0.444444   0.415323   0.338936   0.366300   0.416667   \n",
       "4   0.469828   0.453333   0.290323   0.271709   0.340659   0.361111   \n",
       "\n",
       "   holdtime7  holdtime8  holdtime9  holdtime10   ...     fingerarea9  \\\n",
       "0   0.430147   0.467290      0.240    0.374429   ...        0.296296   \n",
       "1   0.363971   0.485981      0.344    0.365297   ...        0.259259   \n",
       "2   0.338235   0.345794      0.296    0.365297   ...        0.296296   \n",
       "3   0.404412   0.640187      0.276    0.410959   ...        0.370370   \n",
       "4   0.408088   0.635514      0.324    0.378995   ...        0.333333   \n",
       "\n",
       "   fingerarea10  fingerarea11  fingerarea12  fingerarea13  fingerarea14  \\\n",
       "0      0.296296      0.222222      0.211470      0.283154      0.185185   \n",
       "1      0.185185      0.185185      0.354839      0.211470      0.148148   \n",
       "2      0.333333      0.222222      0.283154      0.175627      0.185185   \n",
       "3      0.185185      0.222222      0.283154      0.247312      0.296296   \n",
       "4      0.222222      0.222222      0.211470      0.318996      0.074074   \n",
       "\n",
       "   meanholdtime  meanpressure  meanfingerarea  user_id  \n",
       "0      0.447030      0.387546        0.364089     b'1'  \n",
       "1      0.423762      0.445704        0.369322     b'1'  \n",
       "2      0.454455      0.464092        0.371658     b'1'  \n",
       "3      0.522772      0.397230        0.396828     b'1'  \n",
       "4      0.493564      0.455577        0.365646     b'1'  \n",
       "\n",
       "[5 rows x 72 columns]"
      ]
     },
     "execution_count": 8,
     "metadata": {},
     "output_type": "execute_result"
    }
   ],
   "source": [
    "df.head()"
   ]
  },
  {
   "cell_type": "code",
   "execution_count": 9,
   "metadata": {},
   "outputs": [],
   "source": [
    "b = np.mean(a == b'37')"
   ]
  },
  {
   "cell_type": "code",
   "execution_count": 10,
   "metadata": {},
   "outputs": [
    {
     "data": {
      "text/plain": [
       "51.0"
      ]
     },
     "execution_count": 10,
     "metadata": {},
     "output_type": "execute_result"
    }
   ],
   "source": [
    "2142 * b"
   ]
  },
  {
   "cell_type": "markdown",
   "metadata": {},
   "source": [
    "> As it can be seen the number of samples per user are 51. Since the user are 42 users, there in total 51 * 42 = 2142 samples. Number of features is 71."
   ]
  },
  {
   "cell_type": "markdown",
   "metadata": {},
   "source": [
    "### Note: the dataset is 2142 * 72."
   ]
  },
  {
   "cell_type": "markdown",
   "metadata": {},
   "source": [
    "## 2. Preprocessing "
   ]
  },
  {
   "cell_type": "markdown",
   "metadata": {},
   "source": [
    "Good source for Pandas: https://chrisalbon.com/python/data_wrangling/pandas_replace_values/"
   ]
  },
  {
   "cell_type": "code",
   "execution_count": 11,
   "metadata": {},
   "outputs": [],
   "source": [
    "user_id_unique = df['user_id'].unique()"
   ]
  },
  {
   "cell_type": "code",
   "execution_count": 12,
   "metadata": {},
   "outputs": [
    {
     "data": {
      "text/plain": [
       "array([b'1', b'2', b'3', b'4', b'5', b'6', b'7', b'8', b'9', b'10', b'20',\n",
       "       b'21', b'24', b'25', b'26', b'27', b'28', b'29', b'35', b'36',\n",
       "       b'37', b'38', b'40', b'41', b'50', b'51', b'53', b'54', b'55',\n",
       "       b'65', b'66', b'68', b'69', b'70', b'71', b'73', b'80', b'81',\n",
       "       b'82', b'83', b'84', b'85'], dtype=object)"
      ]
     },
     "execution_count": 12,
     "metadata": {},
     "output_type": "execute_result"
    }
   ],
   "source": [
    "user_id_unique"
   ]
  },
  {
   "cell_type": "code",
   "execution_count": 13,
   "metadata": {},
   "outputs": [
    {
     "data": {
      "text/plain": [
       "(42,)"
      ]
     },
     "execution_count": 13,
     "metadata": {},
     "output_type": "execute_result"
    }
   ],
   "source": [
    "user_id_unique.shape"
   ]
  },
  {
   "cell_type": "code",
   "execution_count": 14,
   "metadata": {},
   "outputs": [
    {
     "data": {
      "text/plain": [
       "numpy.ndarray"
      ]
     },
     "execution_count": 14,
     "metadata": {},
     "output_type": "execute_result"
    }
   ],
   "source": [
    "type(user_id_unique)"
   ]
  },
  {
   "cell_type": "code",
   "execution_count": 15,
   "metadata": {},
   "outputs": [],
   "source": [
    "user_id = df['user_id'].values"
   ]
  },
  {
   "cell_type": "code",
   "execution_count": 16,
   "metadata": {},
   "outputs": [
    {
     "data": {
      "text/plain": [
       "(2142,)"
      ]
     },
     "execution_count": 16,
     "metadata": {},
     "output_type": "execute_result"
    }
   ],
   "source": [
    "user_id.shape"
   ]
  },
  {
   "cell_type": "code",
   "execution_count": 17,
   "metadata": {},
   "outputs": [
    {
     "data": {
      "text/plain": [
       "\"\\nuser_id[user_id == b'20'] = b'11'\\nuser_id[user_id == b'21'] = b'12'\\nuser_id[user_id == b'24'] = b'13'\\nuser_id[user_id == b'25'] = b'14'\\nuser_id[user_id == b'26'] = b'15'\\nuser_id[user_id == b'27'] = b'16'\\nuser_id[user_id == b'28'] = b'17'\\nuser_id[user_id == b'29'] = b'18'\\nuser_id[user_id == b'35'] = b'19'\\nuser_id[user_id == b'35'] = b'20'\\nuser_id[user_id == b'37'] = b'21'\\nuser_id[user_id == b'38'] = b'22'\\nuser_id[user_id == b'20'] = b'11'\\n\""
      ]
     },
     "execution_count": 17,
     "metadata": {},
     "output_type": "execute_result"
    }
   ],
   "source": [
    "\"\"\"\n",
    "user_id[user_id == b'20'] = b'11'\n",
    "user_id[user_id == b'21'] = b'12'\n",
    "user_id[user_id == b'24'] = b'13'\n",
    "user_id[user_id == b'25'] = b'14'\n",
    "user_id[user_id == b'26'] = b'15'\n",
    "user_id[user_id == b'27'] = b'16'\n",
    "user_id[user_id == b'28'] = b'17'\n",
    "user_id[user_id == b'29'] = b'18'\n",
    "user_id[user_id == b'35'] = b'19'\n",
    "user_id[user_id == b'35'] = b'20'\n",
    "user_id[user_id == b'37'] = b'21'\n",
    "user_id[user_id == b'38'] = b'22'\n",
    "user_id[user_id == b'20'] = b'11'\n",
    "\"\"\""
   ]
  },
  {
   "cell_type": "markdown",
   "metadata": {},
   "source": [
    "### 2.0.1 Creating Labels (Y)"
   ]
  },
  {
   "cell_type": "code",
   "execution_count": 18,
   "metadata": {},
   "outputs": [
    {
     "name": "stdout",
     "output_type": "stream",
     "text": [
      "CPU times: user 2 µs, sys: 0 ns, total: 2 µs\n",
      "Wall time: 5.96 µs\n"
     ]
    }
   ],
   "source": [
    "%time\n",
    "label = []\n",
    "for i in range(42):\n",
    "    for j in range(51):\n",
    "        label.append(i)"
   ]
  },
  {
   "cell_type": "code",
   "execution_count": 19,
   "metadata": {},
   "outputs": [],
   "source": [
    "y = np.array(label)"
   ]
  },
  {
   "cell_type": "code",
   "execution_count": 20,
   "metadata": {},
   "outputs": [
    {
     "data": {
      "text/plain": [
       "(2142,)"
      ]
     },
     "execution_count": 20,
     "metadata": {},
     "output_type": "execute_result"
    }
   ],
   "source": [
    "y.shape"
   ]
  },
  {
   "cell_type": "code",
   "execution_count": 21,
   "metadata": {},
   "outputs": [
    {
     "data": {
      "text/plain": [
       "51.0"
      ]
     },
     "execution_count": 21,
     "metadata": {},
     "output_type": "execute_result"
    }
   ],
   "source": [
    "np.mean(y == 0) * 2142"
   ]
  },
  {
   "cell_type": "code",
   "execution_count": 22,
   "metadata": {},
   "outputs": [
    {
     "data": {
      "text/plain": [
       "array([ 0,  1,  2,  3,  4,  5,  6,  7,  8,  9, 10, 11, 12, 13, 14, 15, 16,\n",
       "       17, 18, 19, 20, 21, 22, 23, 24, 25, 26, 27, 28, 29, 30, 31, 32, 33,\n",
       "       34, 35, 36, 37, 38, 39, 40, 41])"
      ]
     },
     "execution_count": 22,
     "metadata": {},
     "output_type": "execute_result"
    }
   ],
   "source": [
    "np.unique(y)"
   ]
  },
  {
   "cell_type": "markdown",
   "metadata": {},
   "source": [
    "### 2.0.2 Input Data (X)"
   ]
  },
  {
   "cell_type": "code",
   "execution_count": 23,
   "metadata": {},
   "outputs": [],
   "source": [
    "df_x = df.iloc[:,:71]"
   ]
  },
  {
   "cell_type": "code",
   "execution_count": 24,
   "metadata": {},
   "outputs": [],
   "source": [
    "X = df_x.values"
   ]
  },
  {
   "cell_type": "code",
   "execution_count": 25,
   "metadata": {},
   "outputs": [
    {
     "data": {
      "text/plain": [
       "(2142, 71)"
      ]
     },
     "execution_count": 25,
     "metadata": {},
     "output_type": "execute_result"
    }
   ],
   "source": [
    "X.shape"
   ]
  },
  {
   "cell_type": "markdown",
   "metadata": {},
   "source": [
    "### 2.1 One Hot Encoding"
   ]
  },
  {
   "cell_type": "markdown",
   "metadata": {},
   "source": [
    "Source: https://machinelearningmastery.com/how-to-one-hot-encode-sequence-data-in-python/"
   ]
  },
  {
   "cell_type": "code",
   "execution_count": 26,
   "metadata": {},
   "outputs": [
    {
     "name": "stderr",
     "output_type": "stream",
     "text": [
      "/home/amanzhol/anaconda3/lib/python3.6/site-packages/h5py/__init__.py:36: FutureWarning: Conversion of the second argument of issubdtype from `float` to `np.floating` is deprecated. In future, it will be treated as `np.float64 == np.dtype(float).type`.\n",
      "  from ._conv import register_converters as _register_converters\n",
      "Using TensorFlow backend.\n"
     ]
    }
   ],
   "source": [
    "from keras.utils import to_categorical"
   ]
  },
  {
   "cell_type": "code",
   "execution_count": 27,
   "metadata": {},
   "outputs": [],
   "source": [
    "Y = to_categorical(y)"
   ]
  },
  {
   "cell_type": "code",
   "execution_count": 28,
   "metadata": {},
   "outputs": [
    {
     "data": {
      "text/plain": [
       "(2142, 42)"
      ]
     },
     "execution_count": 28,
     "metadata": {},
     "output_type": "execute_result"
    }
   ],
   "source": [
    "Y.shape"
   ]
  },
  {
   "cell_type": "code",
   "execution_count": 29,
   "metadata": {},
   "outputs": [
    {
     "data": {
      "text/plain": [
       "(42,)"
      ]
     },
     "execution_count": 29,
     "metadata": {},
     "output_type": "execute_result"
    }
   ],
   "source": [
    "Y[51].shape"
   ]
  },
  {
   "cell_type": "markdown",
   "metadata": {},
   "source": [
    "### 2.2 Splitting the dataset into the Training and Testing"
   ]
  },
  {
   "cell_type": "code",
   "execution_count": 30,
   "metadata": {},
   "outputs": [],
   "source": [
    "from sklearn.model_selection import train_test_split"
   ]
  },
  {
   "cell_type": "code",
   "execution_count": 31,
   "metadata": {},
   "outputs": [],
   "source": [
    "X_train, X_test, Y_train, Y_test = train_test_split(X, Y, test_size = 0.2)"
   ]
  },
  {
   "cell_type": "code",
   "execution_count": 32,
   "metadata": {},
   "outputs": [
    {
     "data": {
      "text/plain": [
       "(1713, 71)"
      ]
     },
     "execution_count": 32,
     "metadata": {},
     "output_type": "execute_result"
    }
   ],
   "source": [
    "X_train.shape"
   ]
  },
  {
   "cell_type": "code",
   "execution_count": 33,
   "metadata": {},
   "outputs": [
    {
     "data": {
      "text/plain": [
       "1713.6000000000001"
      ]
     },
     "execution_count": 33,
     "metadata": {},
     "output_type": "execute_result"
    }
   ],
   "source": [
    "2142 * 0.8"
   ]
  },
  {
   "cell_type": "code",
   "execution_count": 34,
   "metadata": {},
   "outputs": [
    {
     "data": {
      "text/plain": [
       "(1713, 42)"
      ]
     },
     "execution_count": 34,
     "metadata": {},
     "output_type": "execute_result"
    }
   ],
   "source": [
    "Y_train.shape"
   ]
  },
  {
   "cell_type": "code",
   "execution_count": 35,
   "metadata": {},
   "outputs": [
    {
     "data": {
      "text/plain": [
       "array([0., 0., 0., 0., 0., 0., 0., 0., 0., 0., 0., 0., 0., 0., 0., 0., 0.,\n",
       "       0., 0., 0., 0., 0., 0., 0., 0., 0., 0., 0., 0., 0., 0., 0., 0., 0.,\n",
       "       0., 0., 0., 1., 0., 0., 0., 0.], dtype=float32)"
      ]
     },
     "execution_count": 35,
     "metadata": {},
     "output_type": "execute_result"
    }
   ],
   "source": [
    "Y_train[0]"
   ]
  },
  {
   "cell_type": "markdown",
   "metadata": {},
   "source": [
    "As it can be seen, train_test_split splits the data randomly."
   ]
  },
  {
   "cell_type": "markdown",
   "metadata": {},
   "source": [
    "## 3. Building Neural Network"
   ]
  },
  {
   "cell_type": "markdown",
   "metadata": {},
   "source": [
    "Source: https://medium.com/@pushkarmandot/build-your-first-deep-learning-neural-network-model-using-keras-in-python-a90b5864116d"
   ]
  },
  {
   "cell_type": "code",
   "execution_count": 36,
   "metadata": {},
   "outputs": [],
   "source": [
    "import keras\n",
    "from keras.models import Sequential\n",
    "from keras.layers import Dense\n",
    "from keras.layers import Dropout"
   ]
  },
  {
   "cell_type": "code",
   "execution_count": 56,
   "metadata": {},
   "outputs": [],
   "source": [
    "#Initializing Neural Network\n",
    "model = Sequential()"
   ]
  },
  {
   "cell_type": "markdown",
   "metadata": {},
   "source": [
    "#### Input layer"
   ]
  },
  {
   "cell_type": "code",
   "execution_count": 95,
   "metadata": {},
   "outputs": [],
   "source": [
    "# Adding the input layer and the first hidden layer\n",
    "model.add(Dense(units = 10, \n",
    "                input_dim = 71, \n",
    "                activation = 'tanh',))"
   ]
  },
  {
   "cell_type": "code",
   "execution_count": 96,
   "metadata": {},
   "outputs": [],
   "source": [
    "#model.add(Dropout(0.5))"
   ]
  },
  {
   "cell_type": "markdown",
   "metadata": {},
   "source": [
    "#### Hidden layer 1"
   ]
  },
  {
   "cell_type": "code",
   "execution_count": 97,
   "metadata": {},
   "outputs": [],
   "source": [
    "# Adding the second hidden layer\n",
    "model.add(Dense(units = 10, \n",
    "                activation = 'tanh'))"
   ]
  },
  {
   "cell_type": "code",
   "execution_count": 98,
   "metadata": {},
   "outputs": [],
   "source": [
    "#model.add(Dropout(0.5))"
   ]
  },
  {
   "cell_type": "markdown",
   "metadata": {},
   "source": [
    "#### Hidden layer 2"
   ]
  },
  {
   "cell_type": "code",
   "execution_count": 99,
   "metadata": {},
   "outputs": [],
   "source": [
    "# Adding the third hidden layer\n",
    "model.add(Dense(units = 20, \n",
    "                activation = 'tanh'))"
   ]
  },
  {
   "cell_type": "markdown",
   "metadata": {},
   "source": [
    "#### Output layer"
   ]
  },
  {
   "cell_type": "code",
   "execution_count": 100,
   "metadata": {},
   "outputs": [],
   "source": [
    "# Adding the output layer\n",
    "model.add(Dense(units = 42, \n",
    "                activation = 'softmax'))"
   ]
  },
  {
   "cell_type": "code",
   "execution_count": 101,
   "metadata": {},
   "outputs": [
    {
     "name": "stdout",
     "output_type": "stream",
     "text": [
      "_________________________________________________________________\n",
      "Layer (type)                 Output Shape              Param #   \n",
      "=================================================================\n",
      "dense_5 (Dense)              (None, 10)                720       \n",
      "_________________________________________________________________\n",
      "dense_6 (Dense)              (None, 10)                110       \n",
      "_________________________________________________________________\n",
      "dense_7 (Dense)              (None, 20)                220       \n",
      "_________________________________________________________________\n",
      "dense_8 (Dense)              (None, 42)                882       \n",
      "_________________________________________________________________\n",
      "dense_9 (Dense)              (None, 10)                430       \n",
      "_________________________________________________________________\n",
      "dense_10 (Dense)             (None, 10)                110       \n",
      "_________________________________________________________________\n",
      "dense_11 (Dense)             (None, 20)                220       \n",
      "_________________________________________________________________\n",
      "dense_12 (Dense)             (None, 42)                882       \n",
      "=================================================================\n",
      "Total params: 1,932\n",
      "Trainable params: 1,932\n",
      "Non-trainable params: 0\n",
      "_________________________________________________________________\n"
     ]
    },
    {
     "name": "stderr",
     "output_type": "stream",
     "text": [
      "/home/amanzhol/anaconda3/lib/python3.6/site-packages/keras/engine/training.py:490: UserWarning: Discrepancy between trainable weights and collected trainable weights, did you set `model.trainable` without calling `model.compile` after ?\n",
      "  'Discrepancy between trainable weights and collected trainable'\n"
     ]
    }
   ],
   "source": [
    "#Print model summary\n",
    "model.summary()"
   ]
  },
  {
   "cell_type": "markdown",
   "metadata": {},
   "source": [
    "### 3.1 Compilation"
   ]
  },
  {
   "cell_type": "code",
   "execution_count": 102,
   "metadata": {},
   "outputs": [],
   "source": [
    "from keras import optimizers"
   ]
  },
  {
   "cell_type": "code",
   "execution_count": 103,
   "metadata": {},
   "outputs": [],
   "source": [
    "sgd = optimizers.SGD(lr = 0.3, momentum = 0.9)"
   ]
  },
  {
   "cell_type": "code",
   "execution_count": 104,
   "metadata": {},
   "outputs": [],
   "source": [
    "# Compiling Neural Network\n",
    "model.compile(optimizer = 'adam', \n",
    "              loss = 'categorical_crossentropy', \n",
    "              metrics = ['accuracy'])"
   ]
  },
  {
   "cell_type": "markdown",
   "metadata": {},
   "source": [
    "####       Congratulations for myself, I have build my first Deep Learning Neural Network model using Keras with understanding."
   ]
  },
  {
   "cell_type": "markdown",
   "metadata": {},
   "source": [
    "### 3.2 Training"
   ]
  },
  {
   "cell_type": "code",
   "execution_count": 105,
   "metadata": {},
   "outputs": [],
   "source": [
    "#Early Stopping\n",
    "from keras.callbacks import EarlyStopping"
   ]
  },
  {
   "cell_type": "code",
   "execution_count": 106,
   "metadata": {},
   "outputs": [],
   "source": [
    "es = EarlyStopping(monitor = 'val_loss', \n",
    "                   mode = 'auto', \n",
    "                   patience=50, \n",
    "                   restore_best_weights = True)"
   ]
  },
  {
   "cell_type": "code",
   "execution_count": 108,
   "metadata": {},
   "outputs": [
    {
     "name": "stdout",
     "output_type": "stream",
     "text": [
      "CPU times: user 5 µs, sys: 0 ns, total: 5 µs\n",
      "Wall time: 10.3 µs\n",
      "Train on 1370 samples, validate on 343 samples\n",
      "Epoch 1/448\n",
      " - 0s - loss: 0.4972 - acc: 0.8686 - val_loss: 1.6265 - val_acc: 0.7114\n",
      "Epoch 2/448\n",
      " - 0s - loss: 0.4953 - acc: 0.8672 - val_loss: 1.6338 - val_acc: 0.7114\n",
      "Epoch 3/448\n",
      " - 0s - loss: 0.4920 - acc: 0.8715 - val_loss: 1.6297 - val_acc: 0.7085\n",
      "Epoch 4/448\n",
      " - 0s - loss: 0.4881 - acc: 0.8708 - val_loss: 1.6337 - val_acc: 0.7085\n",
      "Epoch 5/448\n",
      " - 0s - loss: 0.4842 - acc: 0.8693 - val_loss: 1.6357 - val_acc: 0.7143\n",
      "Epoch 6/448\n",
      " - 0s - loss: 0.4792 - acc: 0.8737 - val_loss: 1.6450 - val_acc: 0.7143\n",
      "Epoch 7/448\n",
      " - 0s - loss: 0.4760 - acc: 0.8723 - val_loss: 1.6501 - val_acc: 0.7085\n",
      "Epoch 8/448\n",
      " - 0s - loss: 0.4728 - acc: 0.8752 - val_loss: 1.6479 - val_acc: 0.7114\n",
      "Epoch 9/448\n",
      " - 0s - loss: 0.4709 - acc: 0.8745 - val_loss: 1.6471 - val_acc: 0.7055\n",
      "Epoch 10/448\n",
      " - 0s - loss: 0.4665 - acc: 0.8759 - val_loss: 1.6476 - val_acc: 0.7114\n",
      "Epoch 11/448\n",
      " - 0s - loss: 0.4659 - acc: 0.8715 - val_loss: 1.6505 - val_acc: 0.7114\n",
      "Epoch 12/448\n",
      " - 0s - loss: 0.4630 - acc: 0.8723 - val_loss: 1.6453 - val_acc: 0.7143\n",
      "Epoch 13/448\n",
      " - 0s - loss: 0.4604 - acc: 0.8752 - val_loss: 1.6589 - val_acc: 0.7114\n",
      "Epoch 14/448\n",
      " - 0s - loss: 0.4592 - acc: 0.8737 - val_loss: 1.6587 - val_acc: 0.7143\n",
      "Epoch 15/448\n",
      " - 0s - loss: 0.4528 - acc: 0.8745 - val_loss: 1.6594 - val_acc: 0.7085\n",
      "Epoch 16/448\n",
      " - 0s - loss: 0.4515 - acc: 0.8745 - val_loss: 1.6589 - val_acc: 0.7085\n",
      "Epoch 17/448\n",
      " - 0s - loss: 0.4519 - acc: 0.8745 - val_loss: 1.6611 - val_acc: 0.7085\n",
      "Epoch 18/448\n",
      " - 0s - loss: 0.4451 - acc: 0.8766 - val_loss: 1.6621 - val_acc: 0.7085\n",
      "Epoch 19/448\n",
      " - 0s - loss: 0.4434 - acc: 0.8774 - val_loss: 1.6642 - val_acc: 0.7085\n",
      "Epoch 20/448\n",
      " - 0s - loss: 0.4427 - acc: 0.8766 - val_loss: 1.6703 - val_acc: 0.7114\n",
      "Epoch 21/448\n",
      " - 0s - loss: 0.4428 - acc: 0.8759 - val_loss: 1.6719 - val_acc: 0.7085\n",
      "Epoch 22/448\n",
      " - 0s - loss: 0.4399 - acc: 0.8759 - val_loss: 1.6667 - val_acc: 0.7085\n",
      "Epoch 23/448\n",
      " - 0s - loss: 0.4363 - acc: 0.8774 - val_loss: 1.6753 - val_acc: 0.7085\n",
      "Epoch 24/448\n",
      " - 0s - loss: 0.4362 - acc: 0.8781 - val_loss: 1.6774 - val_acc: 0.7085\n",
      "Epoch 25/448\n",
      " - 0s - loss: 0.4326 - acc: 0.8766 - val_loss: 1.6692 - val_acc: 0.7114\n",
      "Epoch 26/448\n",
      " - 0s - loss: 0.4298 - acc: 0.8774 - val_loss: 1.6772 - val_acc: 0.7085\n",
      "Epoch 27/448\n",
      " - 0s - loss: 0.4271 - acc: 0.8759 - val_loss: 1.6735 - val_acc: 0.7026\n",
      "Epoch 28/448\n",
      " - 0s - loss: 0.4260 - acc: 0.8796 - val_loss: 1.6821 - val_acc: 0.6997\n",
      "Epoch 29/448\n",
      " - 0s - loss: 0.4226 - acc: 0.8796 - val_loss: 1.6878 - val_acc: 0.6968\n",
      "Epoch 30/448\n",
      " - 0s - loss: 0.4222 - acc: 0.8796 - val_loss: 1.6952 - val_acc: 0.6997\n",
      "Epoch 31/448\n",
      " - 0s - loss: 0.4226 - acc: 0.8803 - val_loss: 1.6903 - val_acc: 0.6968\n",
      "Epoch 32/448\n",
      " - 0s - loss: 0.4179 - acc: 0.8803 - val_loss: 1.6972 - val_acc: 0.6910\n",
      "Epoch 33/448\n",
      " - 0s - loss: 0.4159 - acc: 0.8825 - val_loss: 1.7052 - val_acc: 0.6968\n",
      "Epoch 34/448\n",
      " - 0s - loss: 0.4172 - acc: 0.8796 - val_loss: 1.7035 - val_acc: 0.6968\n",
      "Epoch 35/448\n",
      " - 0s - loss: 0.4127 - acc: 0.8810 - val_loss: 1.7086 - val_acc: 0.6997\n",
      "Epoch 36/448\n",
      " - 0s - loss: 0.4153 - acc: 0.8781 - val_loss: 1.7075 - val_acc: 0.6968\n",
      "Epoch 37/448\n",
      " - 0s - loss: 0.4141 - acc: 0.8803 - val_loss: 1.7043 - val_acc: 0.6968\n",
      "Epoch 38/448\n",
      " - 0s - loss: 0.4094 - acc: 0.8825 - val_loss: 1.7169 - val_acc: 0.6997\n",
      "Epoch 39/448\n",
      " - 0s - loss: 0.4083 - acc: 0.8796 - val_loss: 1.7313 - val_acc: 0.6968\n",
      "Epoch 40/448\n",
      " - 0s - loss: 0.4073 - acc: 0.8810 - val_loss: 1.7211 - val_acc: 0.6968\n",
      "Epoch 41/448\n",
      " - 0s - loss: 0.4059 - acc: 0.8781 - val_loss: 1.7175 - val_acc: 0.6997\n",
      "Epoch 42/448\n",
      " - 0s - loss: 0.4039 - acc: 0.8803 - val_loss: 1.7266 - val_acc: 0.6997\n",
      "Epoch 43/448\n",
      " - 0s - loss: 0.4021 - acc: 0.8832 - val_loss: 1.7304 - val_acc: 0.6997\n",
      "Epoch 44/448\n",
      " - 0s - loss: 0.3987 - acc: 0.8839 - val_loss: 1.7392 - val_acc: 0.6997\n",
      "Epoch 45/448\n",
      " - 0s - loss: 0.3989 - acc: 0.8803 - val_loss: 1.7373 - val_acc: 0.6968\n",
      "Epoch 46/448\n",
      " - 0s - loss: 0.3981 - acc: 0.8832 - val_loss: 1.7400 - val_acc: 0.6997\n",
      "Epoch 47/448\n",
      " - 0s - loss: 0.3958 - acc: 0.8847 - val_loss: 1.7488 - val_acc: 0.6968\n",
      "Epoch 48/448\n",
      " - 0s - loss: 0.3942 - acc: 0.8832 - val_loss: 1.7357 - val_acc: 0.6968\n",
      "Epoch 49/448\n",
      " - 0s - loss: 0.3946 - acc: 0.8832 - val_loss: 1.7378 - val_acc: 0.7055\n",
      "Epoch 50/448\n",
      " - 0s - loss: 0.3933 - acc: 0.8825 - val_loss: 1.7478 - val_acc: 0.6997\n",
      "Epoch 51/448\n",
      " - 0s - loss: 0.3930 - acc: 0.8832 - val_loss: 1.7587 - val_acc: 0.6968\n",
      "Epoch 52/448\n",
      " - 0s - loss: 0.3903 - acc: 0.8854 - val_loss: 1.7580 - val_acc: 0.6997\n",
      "Epoch 53/448\n",
      " - 0s - loss: 0.3881 - acc: 0.8825 - val_loss: 1.7674 - val_acc: 0.6997\n",
      "Epoch 54/448\n",
      " - 0s - loss: 0.3883 - acc: 0.8818 - val_loss: 1.7704 - val_acc: 0.7055\n",
      "Epoch 55/448\n",
      " - 0s - loss: 0.3860 - acc: 0.8854 - val_loss: 1.7707 - val_acc: 0.7026\n",
      "Epoch 56/448\n",
      " - 0s - loss: 0.3851 - acc: 0.8825 - val_loss: 1.7687 - val_acc: 0.6968\n",
      "Epoch 57/448\n",
      " - 0s - loss: 0.3822 - acc: 0.8832 - val_loss: 1.7752 - val_acc: 0.6968\n",
      "Epoch 58/448\n",
      " - 0s - loss: 0.3817 - acc: 0.8839 - val_loss: 1.7784 - val_acc: 0.7026\n",
      "Epoch 59/448\n",
      " - 0s - loss: 0.3799 - acc: 0.8861 - val_loss: 1.7792 - val_acc: 0.7026\n",
      "Epoch 60/448\n",
      " - 0s - loss: 0.3815 - acc: 0.8818 - val_loss: 1.7803 - val_acc: 0.7026\n",
      "Epoch 61/448\n",
      " - 0s - loss: 0.3786 - acc: 0.8847 - val_loss: 1.7772 - val_acc: 0.7026\n",
      "Epoch 62/448\n",
      " - 0s - loss: 0.3780 - acc: 0.8810 - val_loss: 1.7924 - val_acc: 0.6997\n",
      "Epoch 63/448\n",
      " - 0s - loss: 0.3756 - acc: 0.8847 - val_loss: 1.7947 - val_acc: 0.6997\n",
      "Epoch 64/448\n",
      " - 0s - loss: 0.3768 - acc: 0.8839 - val_loss: 1.7963 - val_acc: 0.6997\n",
      "Epoch 65/448\n",
      " - 0s - loss: 0.3744 - acc: 0.8832 - val_loss: 1.7972 - val_acc: 0.7026\n",
      "Epoch 66/448\n",
      " - 0s - loss: 0.3743 - acc: 0.8847 - val_loss: 1.7943 - val_acc: 0.7055\n",
      "Epoch 67/448\n",
      " - 0s - loss: 0.3734 - acc: 0.8832 - val_loss: 1.7946 - val_acc: 0.7055\n",
      "Epoch 68/448\n",
      " - 0s - loss: 0.3737 - acc: 0.8825 - val_loss: 1.8037 - val_acc: 0.7026\n",
      "Epoch 69/448\n",
      " - 0s - loss: 0.3718 - acc: 0.8861 - val_loss: 1.8053 - val_acc: 0.7026\n",
      "Epoch 70/448\n",
      " - 0s - loss: 0.3706 - acc: 0.8832 - val_loss: 1.8125 - val_acc: 0.7026\n",
      "Epoch 71/448\n",
      " - 0s - loss: 0.3699 - acc: 0.8847 - val_loss: 1.8106 - val_acc: 0.7026\n",
      "Epoch 72/448\n",
      " - 0s - loss: 0.3669 - acc: 0.8861 - val_loss: 1.8175 - val_acc: 0.6997\n",
      "Epoch 73/448\n",
      " - 0s - loss: 0.3681 - acc: 0.8825 - val_loss: 1.8183 - val_acc: 0.6968\n",
      "Epoch 74/448\n",
      " - 0s - loss: 0.3682 - acc: 0.8847 - val_loss: 1.8237 - val_acc: 0.7026\n",
      "Epoch 75/448\n",
      " - 0s - loss: 0.3655 - acc: 0.8854 - val_loss: 1.8253 - val_acc: 0.7026\n",
      "Epoch 76/448\n",
      " - 0s - loss: 0.3640 - acc: 0.8869 - val_loss: 1.8260 - val_acc: 0.6939\n",
      "Epoch 77/448\n",
      " - 0s - loss: 0.3667 - acc: 0.8847 - val_loss: 1.8185 - val_acc: 0.7055\n",
      "Epoch 78/448\n",
      " - 0s - loss: 0.3644 - acc: 0.8854 - val_loss: 1.8284 - val_acc: 0.6968\n",
      "Epoch 79/448\n",
      " - 0s - loss: 0.3630 - acc: 0.8854 - val_loss: 1.8297 - val_acc: 0.6997\n",
      "Epoch 80/448\n",
      " - 0s - loss: 0.3621 - acc: 0.8854 - val_loss: 1.8350 - val_acc: 0.6968\n",
      "Epoch 81/448\n",
      " - 0s - loss: 0.3616 - acc: 0.8891 - val_loss: 1.8335 - val_acc: 0.6968\n",
      "Epoch 82/448\n",
      " - 0s - loss: 0.3595 - acc: 0.8839 - val_loss: 1.8413 - val_acc: 0.7055\n",
      "Epoch 83/448\n",
      " - 0s - loss: 0.3584 - acc: 0.8854 - val_loss: 1.8429 - val_acc: 0.7055\n",
      "Epoch 84/448\n",
      " - 0s - loss: 0.3572 - acc: 0.8847 - val_loss: 1.8462 - val_acc: 0.6997\n",
      "Epoch 85/448\n",
      " - 0s - loss: 0.3586 - acc: 0.8861 - val_loss: 1.8454 - val_acc: 0.7055\n",
      "Epoch 86/448\n",
      " - 0s - loss: 0.3572 - acc: 0.8854 - val_loss: 1.8505 - val_acc: 0.7085\n",
      "Epoch 87/448\n",
      " - 0s - loss: 0.3560 - acc: 0.8832 - val_loss: 1.8254 - val_acc: 0.7026\n",
      "Epoch 88/448\n",
      " - 0s - loss: 0.3556 - acc: 0.8869 - val_loss: 1.8396 - val_acc: 0.7055\n",
      "Epoch 89/448\n",
      " - 0s - loss: 0.3547 - acc: 0.8869 - val_loss: 1.8396 - val_acc: 0.7085\n",
      "Epoch 90/448\n",
      " - 0s - loss: 0.3562 - acc: 0.8832 - val_loss: 1.8725 - val_acc: 0.6851\n",
      "Epoch 91/448\n",
      " - 0s - loss: 0.3565 - acc: 0.8847 - val_loss: 1.8555 - val_acc: 0.7055\n",
      "Epoch 92/448\n",
      " - 0s - loss: 0.3642 - acc: 0.8839 - val_loss: 1.9096 - val_acc: 0.6997\n",
      "Epoch 93/448\n",
      " - 0s - loss: 0.3656 - acc: 0.8796 - val_loss: 1.8531 - val_acc: 0.6968\n",
      "Epoch 94/448\n",
      " - 0s - loss: 0.3575 - acc: 0.8861 - val_loss: 1.9327 - val_acc: 0.6939\n",
      "Epoch 95/448\n",
      " - 0s - loss: 0.3534 - acc: 0.8869 - val_loss: 1.8685 - val_acc: 0.6939\n",
      "Epoch 96/448\n",
      " - 0s - loss: 0.3475 - acc: 0.8883 - val_loss: 1.8703 - val_acc: 0.7026\n"
     ]
    },
    {
     "name": "stdout",
     "output_type": "stream",
     "text": [
      "Epoch 97/448\n",
      " - 0s - loss: 0.3483 - acc: 0.8847 - val_loss: 1.8774 - val_acc: 0.6968\n",
      "Epoch 98/448\n",
      " - 0s - loss: 0.3480 - acc: 0.8876 - val_loss: 1.8768 - val_acc: 0.6968\n",
      "Epoch 99/448\n",
      " - 0s - loss: 0.3476 - acc: 0.8839 - val_loss: 1.8764 - val_acc: 0.6939\n",
      "Epoch 100/448\n",
      " - 0s - loss: 0.3471 - acc: 0.8876 - val_loss: 1.8763 - val_acc: 0.7026\n",
      "Epoch 101/448\n",
      " - 0s - loss: 0.3464 - acc: 0.8810 - val_loss: 1.8741 - val_acc: 0.6997\n",
      "Epoch 102/448\n",
      " - 0s - loss: 0.3451 - acc: 0.8847 - val_loss: 1.8862 - val_acc: 0.6939\n",
      "Epoch 103/448\n",
      " - 0s - loss: 0.3432 - acc: 0.8920 - val_loss: 1.8827 - val_acc: 0.6997\n",
      "Epoch 104/448\n",
      " - 0s - loss: 0.3418 - acc: 0.8912 - val_loss: 1.8828 - val_acc: 0.6997\n",
      "Epoch 105/448\n",
      " - 0s - loss: 0.3454 - acc: 0.8898 - val_loss: 1.8826 - val_acc: 0.6997\n",
      "Epoch 106/448\n",
      " - 0s - loss: 0.3451 - acc: 0.8898 - val_loss: 1.8951 - val_acc: 0.6939\n",
      "Epoch 107/448\n",
      " - 0s - loss: 0.3427 - acc: 0.8832 - val_loss: 1.8829 - val_acc: 0.6968\n",
      "Epoch 108/448\n",
      " - 0s - loss: 0.3480 - acc: 0.8854 - val_loss: 1.9166 - val_acc: 0.6910\n",
      "Epoch 109/448\n",
      " - 0s - loss: 0.3493 - acc: 0.8861 - val_loss: 1.8995 - val_acc: 0.6880\n",
      "Epoch 110/448\n",
      " - 0s - loss: 0.3424 - acc: 0.8891 - val_loss: 1.8893 - val_acc: 0.7055\n",
      "Epoch 111/448\n",
      " - 0s - loss: 0.3409 - acc: 0.8876 - val_loss: 1.8952 - val_acc: 0.7026\n",
      "Epoch 112/448\n",
      " - 0s - loss: 0.3381 - acc: 0.8891 - val_loss: 1.8962 - val_acc: 0.7026\n",
      "Epoch 113/448\n",
      " - 0s - loss: 0.3399 - acc: 0.8832 - val_loss: 1.9001 - val_acc: 0.6968\n",
      "Epoch 114/448\n",
      " - 0s - loss: 0.3396 - acc: 0.8883 - val_loss: 1.9005 - val_acc: 0.6910\n",
      "Epoch 115/448\n",
      " - 0s - loss: 0.3370 - acc: 0.8869 - val_loss: 1.9050 - val_acc: 0.6997\n",
      "Epoch 116/448\n",
      " - 0s - loss: 0.3365 - acc: 0.8898 - val_loss: 1.9084 - val_acc: 0.6880\n",
      "Epoch 117/448\n",
      " - 0s - loss: 0.3351 - acc: 0.8912 - val_loss: 1.9050 - val_acc: 0.6968\n",
      "Epoch 118/448\n",
      " - 0s - loss: 0.3374 - acc: 0.8861 - val_loss: 1.9263 - val_acc: 0.6968\n",
      "Epoch 119/448\n",
      " - 0s - loss: 0.3355 - acc: 0.8891 - val_loss: 1.9303 - val_acc: 0.6939\n",
      "Epoch 120/448\n",
      " - 0s - loss: 0.3340 - acc: 0.8869 - val_loss: 1.9174 - val_acc: 0.6968\n",
      "Epoch 121/448\n",
      " - 0s - loss: 0.3315 - acc: 0.8905 - val_loss: 1.9223 - val_acc: 0.6968\n",
      "Epoch 122/448\n",
      " - 0s - loss: 0.3318 - acc: 0.8942 - val_loss: 1.9243 - val_acc: 0.7026\n",
      "Epoch 123/448\n",
      " - 0s - loss: 0.3304 - acc: 0.8905 - val_loss: 1.9219 - val_acc: 0.6968\n",
      "Epoch 124/448\n",
      " - 0s - loss: 0.3293 - acc: 0.8934 - val_loss: 1.9233 - val_acc: 0.6939\n",
      "Epoch 125/448\n",
      " - 0s - loss: 0.3309 - acc: 0.8891 - val_loss: 1.9162 - val_acc: 0.6939\n",
      "Epoch 126/448\n",
      " - 0s - loss: 0.3392 - acc: 0.8847 - val_loss: 1.9253 - val_acc: 0.6939\n",
      "Epoch 127/448\n",
      " - 0s - loss: 0.3313 - acc: 0.8876 - val_loss: 1.9321 - val_acc: 0.6939\n",
      "Epoch 128/448\n",
      " - 0s - loss: 0.3288 - acc: 0.8934 - val_loss: 1.9316 - val_acc: 0.6968\n",
      "Epoch 129/448\n",
      " - 0s - loss: 0.3300 - acc: 0.8920 - val_loss: 1.9268 - val_acc: 0.6939\n",
      "Epoch 130/448\n",
      " - 0s - loss: 0.3282 - acc: 0.8912 - val_loss: 1.9329 - val_acc: 0.7026\n",
      "Epoch 131/448\n",
      " - 0s - loss: 0.3249 - acc: 0.8912 - val_loss: 1.9342 - val_acc: 0.6997\n",
      "Epoch 132/448\n",
      " - 0s - loss: 0.3254 - acc: 0.8942 - val_loss: 1.9413 - val_acc: 0.6968\n",
      "Epoch 133/448\n",
      " - 0s - loss: 0.3266 - acc: 0.8942 - val_loss: 1.9378 - val_acc: 0.6939\n",
      "Epoch 134/448\n",
      " - 0s - loss: 0.3252 - acc: 0.8920 - val_loss: 1.9400 - val_acc: 0.6851\n",
      "Epoch 135/448\n",
      " - 0s - loss: 0.3234 - acc: 0.8905 - val_loss: 1.9395 - val_acc: 0.6939\n",
      "Epoch 136/448\n",
      " - 0s - loss: 0.3223 - acc: 0.8934 - val_loss: 1.9447 - val_acc: 0.7026\n",
      "Epoch 137/448\n",
      " - 0s - loss: 0.3220 - acc: 0.8934 - val_loss: 1.9525 - val_acc: 0.6968\n",
      "Epoch 138/448\n",
      " - 0s - loss: 0.3222 - acc: 0.8927 - val_loss: 1.9442 - val_acc: 0.6939\n",
      "Epoch 139/448\n",
      " - 0s - loss: 0.3233 - acc: 0.8942 - val_loss: 1.9493 - val_acc: 0.6939\n",
      "Epoch 140/448\n",
      " - 0s - loss: 0.3223 - acc: 0.8927 - val_loss: 1.9625 - val_acc: 0.6968\n",
      "Epoch 141/448\n",
      " - 0s - loss: 0.3227 - acc: 0.8920 - val_loss: 1.9507 - val_acc: 0.6910\n",
      "Epoch 142/448\n",
      " - 0s - loss: 0.3208 - acc: 0.8942 - val_loss: 1.9555 - val_acc: 0.6968\n",
      "Epoch 143/448\n",
      " - 0s - loss: 0.3209 - acc: 0.8912 - val_loss: 1.9533 - val_acc: 0.7026\n",
      "Epoch 144/448\n",
      " - 0s - loss: 0.3196 - acc: 0.8934 - val_loss: 1.9733 - val_acc: 0.6910\n",
      "Epoch 145/448\n",
      " - 0s - loss: 0.3194 - acc: 0.8942 - val_loss: 1.9654 - val_acc: 0.6910\n",
      "Epoch 146/448\n",
      " - 0s - loss: 0.3186 - acc: 0.8942 - val_loss: 1.9538 - val_acc: 0.6939\n",
      "Epoch 147/448\n",
      " - 0s - loss: 0.3176 - acc: 0.8956 - val_loss: 1.9695 - val_acc: 0.6997\n",
      "Epoch 148/448\n",
      " - 0s - loss: 0.3157 - acc: 0.8949 - val_loss: 1.9689 - val_acc: 0.7026\n",
      "Epoch 149/448\n",
      " - 0s - loss: 0.3159 - acc: 0.8985 - val_loss: 1.9781 - val_acc: 0.6939\n",
      "Epoch 150/448\n",
      " - 0s - loss: 0.3152 - acc: 0.8934 - val_loss: 1.9798 - val_acc: 0.6939\n",
      "Epoch 151/448\n",
      " - 0s - loss: 0.3163 - acc: 0.8876 - val_loss: 1.9762 - val_acc: 0.6968\n",
      "Epoch 152/448\n",
      " - 0s - loss: 0.3151 - acc: 0.8956 - val_loss: 1.9835 - val_acc: 0.6968\n",
      "Epoch 153/448\n",
      " - 0s - loss: 0.3153 - acc: 0.8942 - val_loss: 1.9783 - val_acc: 0.6939\n",
      "Epoch 154/448\n",
      " - 0s - loss: 0.3221 - acc: 0.8927 - val_loss: 2.0151 - val_acc: 0.6910\n",
      "Epoch 155/448\n",
      " - 0s - loss: 0.3409 - acc: 0.8883 - val_loss: 1.9870 - val_acc: 0.6997\n",
      "Epoch 156/448\n",
      " - 0s - loss: 0.3296 - acc: 0.8876 - val_loss: 2.0434 - val_acc: 0.6880\n",
      "Epoch 157/448\n",
      " - 0s - loss: 0.3262 - acc: 0.8883 - val_loss: 2.0255 - val_acc: 0.6880\n",
      "Epoch 158/448\n",
      " - 0s - loss: 0.3213 - acc: 0.8905 - val_loss: 1.9831 - val_acc: 0.7026\n",
      "Epoch 159/448\n",
      " - 0s - loss: 0.3171 - acc: 0.8920 - val_loss: 1.9904 - val_acc: 0.6997\n",
      "Epoch 160/448\n",
      " - 0s - loss: 0.3178 - acc: 0.8912 - val_loss: 2.0529 - val_acc: 0.6880\n",
      "Epoch 161/448\n",
      " - 0s - loss: 0.3119 - acc: 0.8912 - val_loss: 2.0473 - val_acc: 0.6880\n",
      "Epoch 162/448\n",
      " - 0s - loss: 0.3122 - acc: 0.8978 - val_loss: 2.0079 - val_acc: 0.6939\n",
      "Epoch 163/448\n",
      " - 0s - loss: 0.3110 - acc: 0.8956 - val_loss: 2.0105 - val_acc: 0.6851\n",
      "Epoch 164/448\n",
      " - 0s - loss: 0.3093 - acc: 0.8949 - val_loss: 2.0146 - val_acc: 0.6968\n",
      "Epoch 165/448\n",
      " - 0s - loss: 0.3083 - acc: 0.8949 - val_loss: 2.0261 - val_acc: 0.6880\n",
      "Epoch 166/448\n",
      " - 0s - loss: 0.3080 - acc: 0.8964 - val_loss: 2.0197 - val_acc: 0.6910\n",
      "Epoch 167/448\n",
      " - 0s - loss: 0.3080 - acc: 0.8956 - val_loss: 2.0193 - val_acc: 0.6968\n",
      "Epoch 168/448\n",
      " - 0s - loss: 0.3086 - acc: 0.8978 - val_loss: 2.0080 - val_acc: 0.6939\n",
      "Epoch 169/448\n",
      " - 0s - loss: 0.3052 - acc: 0.8993 - val_loss: 2.0281 - val_acc: 0.6851\n",
      "Epoch 170/448\n",
      " - 0s - loss: 0.3057 - acc: 0.8956 - val_loss: 2.0198 - val_acc: 0.6939\n",
      "Epoch 171/448\n",
      " - 0s - loss: 0.3052 - acc: 0.8956 - val_loss: 2.0258 - val_acc: 0.6910\n",
      "Epoch 172/448\n",
      " - 0s - loss: 0.3058 - acc: 0.8949 - val_loss: 2.0327 - val_acc: 0.6939\n",
      "Epoch 173/448\n",
      " - 0s - loss: 0.3042 - acc: 0.8949 - val_loss: 2.0219 - val_acc: 0.6968\n",
      "Epoch 174/448\n",
      " - 0s - loss: 0.3062 - acc: 0.8942 - val_loss: 2.0459 - val_acc: 0.6822\n",
      "Epoch 175/448\n",
      " - 0s - loss: 0.3194 - acc: 0.8891 - val_loss: 2.0497 - val_acc: 0.6910\n",
      "Epoch 176/448\n",
      " - 0s - loss: 0.3083 - acc: 0.8964 - val_loss: 2.0422 - val_acc: 0.6968\n",
      "Epoch 177/448\n",
      " - 0s - loss: 0.3133 - acc: 0.8920 - val_loss: 2.0349 - val_acc: 0.6997\n",
      "Epoch 178/448\n",
      " - 0s - loss: 0.3083 - acc: 0.8956 - val_loss: 2.0479 - val_acc: 0.6910\n",
      "Epoch 179/448\n",
      " - 0s - loss: 0.3069 - acc: 0.8883 - val_loss: 2.0544 - val_acc: 0.6880\n",
      "Epoch 180/448\n",
      " - 0s - loss: 0.3037 - acc: 0.8985 - val_loss: 2.0615 - val_acc: 0.6910\n",
      "Epoch 181/448\n",
      " - 0s - loss: 0.3055 - acc: 0.8949 - val_loss: 2.0312 - val_acc: 0.6968\n",
      "Epoch 182/448\n",
      " - 0s - loss: 0.3078 - acc: 0.8934 - val_loss: 2.0273 - val_acc: 0.6939\n",
      "Epoch 183/448\n",
      " - 0s - loss: 0.3025 - acc: 0.8985 - val_loss: 2.0332 - val_acc: 0.6939\n",
      "Epoch 184/448\n",
      " - 0s - loss: 0.3045 - acc: 0.8949 - val_loss: 2.0411 - val_acc: 0.6939\n",
      "Epoch 185/448\n",
      " - 0s - loss: 0.3012 - acc: 0.8964 - val_loss: 2.0495 - val_acc: 0.6880\n",
      "Epoch 186/448\n",
      " - 0s - loss: 0.3017 - acc: 0.8934 - val_loss: 2.0500 - val_acc: 0.6939\n",
      "Epoch 187/448\n",
      " - 0s - loss: 0.3001 - acc: 0.8978 - val_loss: 2.0499 - val_acc: 0.6968\n",
      "Epoch 188/448\n",
      " - 0s - loss: 0.3016 - acc: 0.9000 - val_loss: 2.0470 - val_acc: 0.6939\n",
      "Epoch 189/448\n",
      " - 0s - loss: 0.3005 - acc: 0.8985 - val_loss: 2.0558 - val_acc: 0.6910\n",
      "Epoch 190/448\n",
      " - 0s - loss: 0.2987 - acc: 0.8949 - val_loss: 2.0674 - val_acc: 0.6939\n",
      "Epoch 191/448\n",
      " - 0s - loss: 0.3001 - acc: 0.8942 - val_loss: 2.0630 - val_acc: 0.6968\n",
      "Epoch 192/448\n",
      " - 0s - loss: 0.2982 - acc: 0.8964 - val_loss: 2.0504 - val_acc: 0.6939\n"
     ]
    },
    {
     "name": "stdout",
     "output_type": "stream",
     "text": [
      "Epoch 193/448\n",
      " - 0s - loss: 0.2978 - acc: 0.8985 - val_loss: 2.0540 - val_acc: 0.7026\n",
      "Epoch 194/448\n",
      " - 0s - loss: 0.2969 - acc: 0.9015 - val_loss: 2.0515 - val_acc: 0.6968\n",
      "Epoch 195/448\n",
      " - 0s - loss: 0.3000 - acc: 0.8942 - val_loss: 2.0674 - val_acc: 0.6851\n",
      "Epoch 196/448\n",
      " - 0s - loss: 0.2978 - acc: 0.8934 - val_loss: 2.0698 - val_acc: 0.6939\n",
      "Epoch 197/448\n",
      " - 0s - loss: 0.2962 - acc: 0.8985 - val_loss: 2.0588 - val_acc: 0.6997\n",
      "Epoch 198/448\n",
      " - 0s - loss: 0.2961 - acc: 0.8971 - val_loss: 2.0601 - val_acc: 0.6910\n",
      "Epoch 199/448\n",
      " - 0s - loss: 0.2962 - acc: 0.8993 - val_loss: 2.0602 - val_acc: 0.6910\n",
      "Epoch 200/448\n",
      " - 0s - loss: 0.2945 - acc: 0.9000 - val_loss: 2.0644 - val_acc: 0.6880\n",
      "Epoch 201/448\n",
      " - 0s - loss: 0.2937 - acc: 0.9029 - val_loss: 2.0664 - val_acc: 0.6939\n",
      "Epoch 202/448\n",
      " - 0s - loss: 0.2953 - acc: 0.9000 - val_loss: 2.0581 - val_acc: 0.6968\n",
      "Epoch 203/448\n",
      " - 0s - loss: 0.2930 - acc: 0.9036 - val_loss: 2.0688 - val_acc: 0.6939\n",
      "Epoch 204/448\n",
      " - 0s - loss: 0.2943 - acc: 0.8978 - val_loss: 2.0683 - val_acc: 0.6851\n",
      "Epoch 205/448\n",
      " - 0s - loss: 0.2932 - acc: 0.9000 - val_loss: 2.0839 - val_acc: 0.6939\n",
      "Epoch 206/448\n",
      " - 0s - loss: 0.2943 - acc: 0.9000 - val_loss: 2.0729 - val_acc: 0.6968\n",
      "Epoch 207/448\n",
      " - 0s - loss: 0.2922 - acc: 0.9015 - val_loss: 2.0715 - val_acc: 0.6910\n",
      "Epoch 208/448\n",
      " - 0s - loss: 0.2953 - acc: 0.8978 - val_loss: 2.0834 - val_acc: 0.6910\n",
      "Epoch 209/448\n",
      " - 0s - loss: 0.2919 - acc: 0.9029 - val_loss: 2.0858 - val_acc: 0.6851\n",
      "Epoch 210/448\n",
      " - 0s - loss: 0.2918 - acc: 0.9007 - val_loss: 2.0888 - val_acc: 0.6939\n",
      "Epoch 211/448\n",
      " - 0s - loss: 0.2924 - acc: 0.9015 - val_loss: 2.0809 - val_acc: 0.6939\n",
      "Epoch 212/448\n",
      " - 0s - loss: 0.2926 - acc: 0.8964 - val_loss: 2.0880 - val_acc: 0.6939\n",
      "Epoch 213/448\n",
      " - 0s - loss: 0.2913 - acc: 0.9007 - val_loss: 2.0900 - val_acc: 0.6939\n",
      "Epoch 214/448\n",
      " - 0s - loss: 0.2900 - acc: 0.8985 - val_loss: 2.0800 - val_acc: 0.6939\n",
      "Epoch 215/448\n",
      " - 0s - loss: 0.2903 - acc: 0.9015 - val_loss: 2.0888 - val_acc: 0.6910\n",
      "Epoch 216/448\n",
      " - 0s - loss: 0.2890 - acc: 0.9015 - val_loss: 2.0896 - val_acc: 0.6968\n",
      "Epoch 217/448\n",
      " - 0s - loss: 0.2885 - acc: 0.9000 - val_loss: 2.0838 - val_acc: 0.6939\n",
      "Epoch 218/448\n",
      " - 0s - loss: 0.2888 - acc: 0.9000 - val_loss: 2.1093 - val_acc: 0.6939\n",
      "Epoch 219/448\n",
      " - 0s - loss: 0.2898 - acc: 0.9000 - val_loss: 2.1048 - val_acc: 0.6939\n",
      "Epoch 220/448\n",
      " - 0s - loss: 0.2907 - acc: 0.8985 - val_loss: 2.1086 - val_acc: 0.6910\n",
      "Epoch 221/448\n",
      " - 0s - loss: 0.2903 - acc: 0.9000 - val_loss: 2.1028 - val_acc: 0.6939\n",
      "Epoch 222/448\n",
      " - 0s - loss: 0.2895 - acc: 0.9015 - val_loss: 2.1071 - val_acc: 0.6968\n",
      "Epoch 223/448\n",
      " - 0s - loss: 0.2883 - acc: 0.8993 - val_loss: 2.1060 - val_acc: 0.6910\n",
      "Epoch 224/448\n",
      " - 0s - loss: 0.2880 - acc: 0.9022 - val_loss: 2.1124 - val_acc: 0.6939\n",
      "Epoch 225/448\n",
      " - 0s - loss: 0.2860 - acc: 0.9029 - val_loss: 2.1087 - val_acc: 0.6968\n",
      "Epoch 226/448\n",
      " - 0s - loss: 0.2862 - acc: 0.9000 - val_loss: 2.1054 - val_acc: 0.6880\n",
      "Epoch 227/448\n",
      " - 0s - loss: 0.2866 - acc: 0.8993 - val_loss: 2.1085 - val_acc: 0.6939\n",
      "Epoch 228/448\n",
      " - 0s - loss: 0.2874 - acc: 0.9000 - val_loss: 2.1179 - val_acc: 0.6997\n",
      "Epoch 229/448\n",
      " - 0s - loss: 0.2857 - acc: 0.9029 - val_loss: 2.1285 - val_acc: 0.6880\n",
      "Epoch 230/448\n",
      " - 0s - loss: 0.2854 - acc: 0.8985 - val_loss: 2.1073 - val_acc: 0.6939\n",
      "Epoch 231/448\n",
      " - 0s - loss: 0.2885 - acc: 0.9000 - val_loss: 2.1292 - val_acc: 0.6968\n",
      "Epoch 232/448\n",
      " - 0s - loss: 0.3178 - acc: 0.8891 - val_loss: 2.1072 - val_acc: 0.6997\n",
      "Epoch 233/448\n",
      " - 0s - loss: 0.3209 - acc: 0.8920 - val_loss: 2.1021 - val_acc: 0.6997\n",
      "Epoch 234/448\n",
      " - 0s - loss: 0.3044 - acc: 0.8978 - val_loss: 2.1291 - val_acc: 0.6968\n",
      "Epoch 235/448\n",
      " - 0s - loss: 0.2920 - acc: 0.8964 - val_loss: 2.1070 - val_acc: 0.6851\n",
      "Epoch 236/448\n",
      " - 0s - loss: 0.2908 - acc: 0.8956 - val_loss: 2.1235 - val_acc: 0.6910\n",
      "Epoch 237/448\n",
      " - 0s - loss: 0.2907 - acc: 0.8993 - val_loss: 2.1460 - val_acc: 0.6910\n",
      "Epoch 238/448\n",
      " - 0s - loss: 0.2906 - acc: 0.9000 - val_loss: 2.1022 - val_acc: 0.6910\n",
      "Epoch 239/448\n",
      " - 0s - loss: 0.2876 - acc: 0.9036 - val_loss: 2.1132 - val_acc: 0.6939\n",
      "Epoch 240/448\n",
      " - 0s - loss: 0.2863 - acc: 0.9007 - val_loss: 2.1399 - val_acc: 0.6910\n",
      "Epoch 241/448\n",
      " - 0s - loss: 0.2916 - acc: 0.9007 - val_loss: 2.1338 - val_acc: 0.6939\n",
      "Epoch 242/448\n",
      " - 0s - loss: 0.2858 - acc: 0.9007 - val_loss: 2.1378 - val_acc: 0.6880\n",
      "Epoch 243/448\n",
      " - 0s - loss: 0.2858 - acc: 0.8985 - val_loss: 2.1472 - val_acc: 0.6910\n",
      "Epoch 244/448\n",
      " - 0s - loss: 0.2852 - acc: 0.9007 - val_loss: 2.1468 - val_acc: 0.6880\n",
      "Epoch 245/448\n",
      " - 0s - loss: 0.2869 - acc: 0.8985 - val_loss: 2.1400 - val_acc: 0.6939\n",
      "Epoch 246/448\n",
      " - 0s - loss: 0.2853 - acc: 0.9022 - val_loss: 2.1537 - val_acc: 0.6968\n",
      "Epoch 247/448\n",
      " - 0s - loss: 0.2825 - acc: 0.8985 - val_loss: 2.1496 - val_acc: 0.6910\n",
      "Epoch 248/448\n",
      " - 0s - loss: 0.2825 - acc: 0.9015 - val_loss: 2.1532 - val_acc: 0.6910\n",
      "Epoch 249/448\n",
      " - 0s - loss: 0.2801 - acc: 0.8985 - val_loss: 2.1391 - val_acc: 0.6939\n",
      "Epoch 250/448\n",
      " - 0s - loss: 0.2817 - acc: 0.9044 - val_loss: 2.1474 - val_acc: 0.6968\n",
      "Epoch 251/448\n",
      " - 0s - loss: 0.2793 - acc: 0.9000 - val_loss: 2.1510 - val_acc: 0.6939\n",
      "Epoch 252/448\n",
      " - 0s - loss: 0.2815 - acc: 0.9000 - val_loss: 2.1567 - val_acc: 0.6880\n",
      "Epoch 253/448\n",
      " - 0s - loss: 0.2813 - acc: 0.8971 - val_loss: 2.1588 - val_acc: 0.6939\n",
      "Epoch 254/448\n",
      " - 0s - loss: 0.2801 - acc: 0.9029 - val_loss: 2.1534 - val_acc: 0.6997\n",
      "Epoch 255/448\n",
      " - 0s - loss: 0.2794 - acc: 0.9058 - val_loss: 2.1613 - val_acc: 0.6880\n",
      "Epoch 256/448\n",
      " - 0s - loss: 0.2792 - acc: 0.8993 - val_loss: 2.1541 - val_acc: 0.6939\n",
      "Epoch 257/448\n",
      " - 0s - loss: 0.2800 - acc: 0.9015 - val_loss: 2.1606 - val_acc: 0.6997\n",
      "Epoch 258/448\n",
      " - 0s - loss: 0.2782 - acc: 0.9044 - val_loss: 2.1560 - val_acc: 0.6939\n",
      "Epoch 259/448\n",
      " - 0s - loss: 0.2781 - acc: 0.9007 - val_loss: 2.1628 - val_acc: 0.6939\n",
      "Epoch 260/448\n",
      " - 0s - loss: 0.2803 - acc: 0.8971 - val_loss: 2.1566 - val_acc: 0.6822\n",
      "Epoch 261/448\n",
      " - 0s - loss: 0.2783 - acc: 0.8993 - val_loss: 2.1626 - val_acc: 0.6939\n",
      "Epoch 262/448\n",
      " - 0s - loss: 0.2818 - acc: 0.8978 - val_loss: 2.1629 - val_acc: 0.6939\n",
      "Epoch 263/448\n",
      " - 0s - loss: 0.2808 - acc: 0.9000 - val_loss: 2.1669 - val_acc: 0.6910\n",
      "Epoch 264/448\n",
      " - 0s - loss: 0.2764 - acc: 0.9015 - val_loss: 2.1558 - val_acc: 0.6880\n",
      "Epoch 265/448\n",
      " - 0s - loss: 0.2757 - acc: 0.9044 - val_loss: 2.1603 - val_acc: 0.6939\n",
      "Epoch 266/448\n",
      " - 0s - loss: 0.2760 - acc: 0.9022 - val_loss: 2.1626 - val_acc: 0.6880\n",
      "Epoch 267/448\n",
      " - 0s - loss: 0.2774 - acc: 0.9044 - val_loss: 2.1609 - val_acc: 0.6910\n",
      "Epoch 268/448\n",
      " - 0s - loss: 0.2759 - acc: 0.9036 - val_loss: 2.1692 - val_acc: 0.6910\n",
      "Epoch 269/448\n",
      " - 0s - loss: 0.2764 - acc: 0.9036 - val_loss: 2.1585 - val_acc: 0.6968\n",
      "Epoch 270/448\n",
      " - 0s - loss: 0.2766 - acc: 0.9036 - val_loss: 2.1670 - val_acc: 0.6939\n",
      "Epoch 271/448\n",
      " - 0s - loss: 0.2750 - acc: 0.9000 - val_loss: 2.1636 - val_acc: 0.6910\n",
      "Epoch 272/448\n",
      " - 0s - loss: 0.2771 - acc: 0.9022 - val_loss: 2.1798 - val_acc: 0.6968\n",
      "Epoch 273/448\n",
      " - 0s - loss: 0.2768 - acc: 0.9022 - val_loss: 2.1581 - val_acc: 0.6880\n",
      "Epoch 274/448\n",
      " - 0s - loss: 0.2788 - acc: 0.8978 - val_loss: 2.1724 - val_acc: 0.6939\n",
      "Epoch 275/448\n",
      " - 0s - loss: 0.2748 - acc: 0.9051 - val_loss: 2.1618 - val_acc: 0.6939\n",
      "Epoch 276/448\n",
      " - 0s - loss: 0.2781 - acc: 0.9029 - val_loss: 2.1636 - val_acc: 0.6880\n",
      "Epoch 277/448\n",
      " - 0s - loss: 0.2761 - acc: 0.9015 - val_loss: 2.1623 - val_acc: 0.6910\n",
      "Epoch 278/448\n",
      " - 0s - loss: 0.2728 - acc: 0.9080 - val_loss: 2.1695 - val_acc: 0.6997\n",
      "Epoch 279/448\n",
      " - 0s - loss: 0.2732 - acc: 0.9036 - val_loss: 2.1641 - val_acc: 0.6939\n",
      "Epoch 280/448\n",
      " - 0s - loss: 0.2741 - acc: 0.9000 - val_loss: 2.1832 - val_acc: 0.6910\n",
      "Epoch 281/448\n",
      " - 0s - loss: 0.2733 - acc: 0.9036 - val_loss: 2.1710 - val_acc: 0.6997\n",
      "Epoch 282/448\n",
      " - 0s - loss: 0.2730 - acc: 0.9036 - val_loss: 2.1802 - val_acc: 0.6910\n",
      "Epoch 283/448\n",
      " - 0s - loss: 0.2721 - acc: 0.9051 - val_loss: 2.1764 - val_acc: 0.6910\n",
      "Epoch 284/448\n",
      " - 0s - loss: 0.2774 - acc: 0.9044 - val_loss: 2.1726 - val_acc: 0.7026\n",
      "Epoch 285/448\n",
      " - 0s - loss: 0.2760 - acc: 0.9058 - val_loss: 2.1959 - val_acc: 0.6910\n",
      "Epoch 286/448\n",
      " - 0s - loss: 0.2797 - acc: 0.9015 - val_loss: 2.1856 - val_acc: 0.6968\n",
      "Epoch 287/448\n",
      " - 0s - loss: 0.2763 - acc: 0.9022 - val_loss: 2.1826 - val_acc: 0.6939\n",
      "Epoch 288/448\n",
      " - 0s - loss: 0.2716 - acc: 0.9022 - val_loss: 2.1811 - val_acc: 0.6910\n"
     ]
    },
    {
     "name": "stdout",
     "output_type": "stream",
     "text": [
      "Epoch 289/448\n",
      " - 0s - loss: 0.2712 - acc: 0.9044 - val_loss: 2.1749 - val_acc: 0.6939\n",
      "Epoch 290/448\n",
      " - 0s - loss: 0.2722 - acc: 0.9029 - val_loss: 2.1888 - val_acc: 0.6880\n",
      "Epoch 291/448\n",
      " - 0s - loss: 0.2710 - acc: 0.9029 - val_loss: 2.1852 - val_acc: 0.6939\n",
      "Epoch 292/448\n",
      " - 0s - loss: 0.2694 - acc: 0.9058 - val_loss: 2.1764 - val_acc: 0.6968\n",
      "Epoch 293/448\n",
      " - 0s - loss: 0.2713 - acc: 0.9036 - val_loss: 2.1897 - val_acc: 0.6880\n",
      "Epoch 294/448\n",
      " - 0s - loss: 0.2685 - acc: 0.9066 - val_loss: 2.1887 - val_acc: 0.6968\n",
      "Epoch 295/448\n",
      " - 0s - loss: 0.2709 - acc: 0.9066 - val_loss: 2.1875 - val_acc: 0.6910\n",
      "Epoch 296/448\n",
      " - 0s - loss: 0.2682 - acc: 0.9051 - val_loss: 2.1884 - val_acc: 0.6939\n",
      "Epoch 297/448\n",
      " - 0s - loss: 0.2676 - acc: 0.9066 - val_loss: 2.1901 - val_acc: 0.6939\n",
      "Epoch 298/448\n",
      " - 0s - loss: 0.2689 - acc: 0.9051 - val_loss: 2.1934 - val_acc: 0.6910\n",
      "Epoch 299/448\n",
      " - 0s - loss: 0.2690 - acc: 0.9058 - val_loss: 2.1935 - val_acc: 0.6910\n",
      "Epoch 300/448\n",
      " - 0s - loss: 0.2695 - acc: 0.9022 - val_loss: 2.1960 - val_acc: 0.6910\n",
      "Epoch 301/448\n",
      " - 0s - loss: 0.2708 - acc: 0.9007 - val_loss: 2.1980 - val_acc: 0.6910\n",
      "Epoch 302/448\n",
      " - 0s - loss: 0.2709 - acc: 0.9073 - val_loss: 2.1883 - val_acc: 0.6997\n",
      "Epoch 303/448\n",
      " - 0s - loss: 0.2830 - acc: 0.8993 - val_loss: 2.2270 - val_acc: 0.6880\n",
      "Epoch 304/448\n",
      " - 0s - loss: 0.2782 - acc: 0.9015 - val_loss: 2.1994 - val_acc: 0.6910\n",
      "Epoch 305/448\n",
      " - 0s - loss: 0.2834 - acc: 0.8978 - val_loss: 2.1751 - val_acc: 0.6997\n",
      "Epoch 306/448\n",
      " - 0s - loss: 0.2889 - acc: 0.8978 - val_loss: 2.2154 - val_acc: 0.6793\n",
      "Epoch 307/448\n",
      " - 0s - loss: 0.2816 - acc: 0.8978 - val_loss: 2.1958 - val_acc: 0.6910\n",
      "Epoch 308/448\n",
      " - 0s - loss: 0.2752 - acc: 0.9036 - val_loss: 2.1983 - val_acc: 0.6851\n",
      "Epoch 309/448\n",
      " - 0s - loss: 0.2692 - acc: 0.9015 - val_loss: 2.2100 - val_acc: 0.6822\n",
      "Epoch 310/448\n",
      " - 0s - loss: 0.2679 - acc: 0.9044 - val_loss: 2.1929 - val_acc: 0.6910\n",
      "Epoch 311/448\n",
      " - 0s - loss: 0.2678 - acc: 0.9073 - val_loss: 2.1856 - val_acc: 0.6939\n",
      "Epoch 312/448\n",
      " - 0s - loss: 0.2673 - acc: 0.9044 - val_loss: 2.2004 - val_acc: 0.6939\n",
      "Epoch 313/448\n",
      " - 0s - loss: 0.2706 - acc: 0.9051 - val_loss: 2.2136 - val_acc: 0.6880\n",
      "Epoch 314/448\n",
      " - 0s - loss: 0.2696 - acc: 0.9022 - val_loss: 2.2363 - val_acc: 0.6939\n",
      "Epoch 315/448\n",
      " - 0s - loss: 0.2766 - acc: 0.9051 - val_loss: 2.1957 - val_acc: 0.6910\n",
      "Epoch 316/448\n",
      " - 0s - loss: 0.2725 - acc: 0.9044 - val_loss: 2.2068 - val_acc: 0.6910\n",
      "Epoch 317/448\n",
      " - 0s - loss: 0.2755 - acc: 0.8985 - val_loss: 2.2068 - val_acc: 0.6880\n",
      "Epoch 318/448\n",
      " - 0s - loss: 0.2681 - acc: 0.9022 - val_loss: 2.2290 - val_acc: 0.6880\n",
      "Epoch 319/448\n",
      " - 0s - loss: 0.2669 - acc: 0.9066 - val_loss: 2.2305 - val_acc: 0.6939\n",
      "Epoch 320/448\n",
      " - 0s - loss: 0.2640 - acc: 0.9058 - val_loss: 2.2213 - val_acc: 0.6851\n",
      "Epoch 321/448\n",
      " - 0s - loss: 0.2642 - acc: 0.9029 - val_loss: 2.2075 - val_acc: 0.6939\n",
      "Epoch 322/448\n",
      " - 0s - loss: 0.2633 - acc: 0.9036 - val_loss: 2.2075 - val_acc: 0.6968\n",
      "Epoch 323/448\n",
      " - 0s - loss: 0.2649 - acc: 0.9058 - val_loss: 2.2176 - val_acc: 0.6880\n",
      "Epoch 324/448\n",
      " - 0s - loss: 0.2644 - acc: 0.9051 - val_loss: 2.2153 - val_acc: 0.6880\n",
      "Epoch 325/448\n",
      " - 0s - loss: 0.2631 - acc: 0.9080 - val_loss: 2.2179 - val_acc: 0.6939\n",
      "Epoch 326/448\n",
      " - 0s - loss: 0.2612 - acc: 0.9058 - val_loss: 2.2203 - val_acc: 0.6880\n",
      "Epoch 327/448\n",
      " - 0s - loss: 0.2632 - acc: 0.9036 - val_loss: 2.2147 - val_acc: 0.6822\n",
      "Epoch 328/448\n",
      " - 0s - loss: 0.2634 - acc: 0.9058 - val_loss: 2.2189 - val_acc: 0.6910\n",
      "Epoch 329/448\n",
      " - 0s - loss: 0.2645 - acc: 0.9022 - val_loss: 2.2171 - val_acc: 0.6910\n",
      "Epoch 330/448\n",
      " - 0s - loss: 0.2631 - acc: 0.9073 - val_loss: 2.2187 - val_acc: 0.6910\n",
      "Epoch 331/448\n",
      " - 0s - loss: 0.2628 - acc: 0.9066 - val_loss: 2.2169 - val_acc: 0.6997\n",
      "Epoch 332/448\n",
      " - 0s - loss: 0.2636 - acc: 0.9029 - val_loss: 2.2220 - val_acc: 0.6968\n",
      "Epoch 333/448\n",
      " - 0s - loss: 0.2631 - acc: 0.9007 - val_loss: 2.2215 - val_acc: 0.6939\n",
      "Epoch 334/448\n",
      " - 0s - loss: 0.2629 - acc: 0.9044 - val_loss: 2.2282 - val_acc: 0.6939\n",
      "Epoch 335/448\n",
      " - 0s - loss: 0.2657 - acc: 0.9058 - val_loss: 2.2316 - val_acc: 0.6939\n",
      "Epoch 336/448\n",
      " - 0s - loss: 0.2684 - acc: 0.9036 - val_loss: 2.2214 - val_acc: 0.6939\n",
      "Epoch 337/448\n",
      " - 0s - loss: 0.2640 - acc: 0.9066 - val_loss: 2.2258 - val_acc: 0.6968\n",
      "Epoch 338/448\n",
      " - 0s - loss: 0.2660 - acc: 0.9058 - val_loss: 2.2287 - val_acc: 0.6910\n",
      "Epoch 339/448\n",
      " - 0s - loss: 0.2642 - acc: 0.9044 - val_loss: 2.2287 - val_acc: 0.6851\n",
      "Epoch 340/448\n",
      " - 0s - loss: 0.2630 - acc: 0.9051 - val_loss: 2.2299 - val_acc: 0.7026\n",
      "Epoch 341/448\n",
      " - 0s - loss: 0.2651 - acc: 0.9044 - val_loss: 2.2282 - val_acc: 0.6880\n",
      "Epoch 342/448\n",
      " - 0s - loss: 0.2648 - acc: 0.9073 - val_loss: 2.2356 - val_acc: 0.6968\n",
      "Epoch 343/448\n",
      " - 0s - loss: 0.2600 - acc: 0.9058 - val_loss: 2.2279 - val_acc: 0.6939\n",
      "Epoch 344/448\n",
      " - 0s - loss: 0.2603 - acc: 0.9095 - val_loss: 2.2292 - val_acc: 0.6968\n",
      "Epoch 345/448\n",
      " - 0s - loss: 0.2598 - acc: 0.9066 - val_loss: 2.2265 - val_acc: 0.6968\n",
      "Epoch 346/448\n",
      " - 0s - loss: 0.2591 - acc: 0.9080 - val_loss: 2.2335 - val_acc: 0.6968\n",
      "Epoch 347/448\n",
      " - 0s - loss: 0.2600 - acc: 0.9022 - val_loss: 2.2351 - val_acc: 0.6880\n",
      "Epoch 348/448\n",
      " - 0s - loss: 0.2581 - acc: 0.9073 - val_loss: 2.2413 - val_acc: 0.6968\n",
      "Epoch 349/448\n",
      " - 0s - loss: 0.2605 - acc: 0.9088 - val_loss: 2.2390 - val_acc: 0.6939\n",
      "Epoch 350/448\n",
      " - 0s - loss: 0.2602 - acc: 0.9066 - val_loss: 2.2349 - val_acc: 0.6968\n",
      "Epoch 351/448\n",
      " - 0s - loss: 0.2595 - acc: 0.9109 - val_loss: 2.2401 - val_acc: 0.6910\n",
      "Epoch 352/448\n",
      " - 0s - loss: 0.2602 - acc: 0.9029 - val_loss: 2.2435 - val_acc: 0.6968\n",
      "Epoch 353/448\n",
      " - 0s - loss: 0.2601 - acc: 0.9058 - val_loss: 2.2503 - val_acc: 0.6939\n",
      "Epoch 354/448\n",
      " - 0s - loss: 0.2575 - acc: 0.9088 - val_loss: 2.2393 - val_acc: 0.6968\n",
      "Epoch 355/448\n",
      " - 0s - loss: 0.2564 - acc: 0.9066 - val_loss: 2.2631 - val_acc: 0.6910\n",
      "Epoch 356/448\n",
      " - 0s - loss: 0.2607 - acc: 0.9073 - val_loss: 2.2572 - val_acc: 0.6880\n",
      "Epoch 357/448\n",
      " - 0s - loss: 0.2567 - acc: 0.9066 - val_loss: 2.2400 - val_acc: 0.6910\n",
      "Epoch 358/448\n",
      " - 0s - loss: 0.2546 - acc: 0.9109 - val_loss: 2.2444 - val_acc: 0.6968\n",
      "Epoch 359/448\n",
      " - 0s - loss: 0.2552 - acc: 0.9117 - val_loss: 2.2481 - val_acc: 0.6968\n",
      "Epoch 360/448\n",
      " - 0s - loss: 0.2562 - acc: 0.9058 - val_loss: 2.2442 - val_acc: 0.6880\n",
      "Epoch 361/448\n",
      " - 0s - loss: 0.2563 - acc: 0.9088 - val_loss: 2.2511 - val_acc: 0.7026\n",
      "Epoch 362/448\n",
      " - 0s - loss: 0.2533 - acc: 0.9073 - val_loss: 2.2469 - val_acc: 0.6968\n",
      "Epoch 363/448\n",
      " - 0s - loss: 0.2527 - acc: 0.9117 - val_loss: 2.2596 - val_acc: 0.6910\n",
      "Epoch 364/448\n",
      " - 0s - loss: 0.2554 - acc: 0.9080 - val_loss: 2.2527 - val_acc: 0.6997\n",
      "Epoch 365/448\n",
      " - 0s - loss: 0.2537 - acc: 0.9066 - val_loss: 2.2568 - val_acc: 0.6880\n",
      "Epoch 366/448\n",
      " - 0s - loss: 0.2554 - acc: 0.9117 - val_loss: 2.2574 - val_acc: 0.6968\n",
      "Epoch 367/448\n",
      " - 0s - loss: 0.2542 - acc: 0.9102 - val_loss: 2.2564 - val_acc: 0.6910\n",
      "Epoch 368/448\n",
      " - 0s - loss: 0.2546 - acc: 0.9080 - val_loss: 2.2510 - val_acc: 0.6968\n",
      "Epoch 369/448\n",
      " - 0s - loss: 0.2560 - acc: 0.9080 - val_loss: 2.2566 - val_acc: 0.6822\n",
      "Epoch 370/448\n",
      " - 0s - loss: 0.2593 - acc: 0.9058 - val_loss: 2.2334 - val_acc: 0.6910\n",
      "Epoch 371/448\n",
      " - 0s - loss: 0.2567 - acc: 0.9095 - val_loss: 2.2348 - val_acc: 0.6910\n",
      "Epoch 372/448\n",
      " - 0s - loss: 0.2548 - acc: 0.9066 - val_loss: 2.2424 - val_acc: 0.6968\n",
      "Epoch 373/448\n",
      " - 0s - loss: 0.2548 - acc: 0.9102 - val_loss: 2.2654 - val_acc: 0.6910\n",
      "Epoch 374/448\n",
      " - 0s - loss: 0.2581 - acc: 0.9044 - val_loss: 2.2618 - val_acc: 0.6939\n",
      "Epoch 375/448\n",
      " - 0s - loss: 0.2552 - acc: 0.9095 - val_loss: 2.2742 - val_acc: 0.6910\n",
      "Epoch 376/448\n",
      " - 0s - loss: 0.2559 - acc: 0.9088 - val_loss: 2.2533 - val_acc: 0.6910\n",
      "Epoch 377/448\n",
      " - 0s - loss: 0.2564 - acc: 0.9095 - val_loss: 2.2407 - val_acc: 0.6997\n",
      "Epoch 378/448\n",
      " - 0s - loss: 0.2533 - acc: 0.9109 - val_loss: 2.2864 - val_acc: 0.6939\n",
      "Epoch 379/448\n",
      " - 0s - loss: 0.2586 - acc: 0.9095 - val_loss: 2.2725 - val_acc: 0.6939\n",
      "Epoch 380/448\n",
      " - 0s - loss: 0.2546 - acc: 0.9051 - val_loss: 2.2694 - val_acc: 0.6939\n",
      "Epoch 381/448\n",
      " - 0s - loss: 0.2541 - acc: 0.9088 - val_loss: 2.2578 - val_acc: 0.6910\n",
      "Epoch 382/448\n",
      " - 0s - loss: 0.2534 - acc: 0.9073 - val_loss: 2.2742 - val_acc: 0.6910\n",
      "Epoch 383/448\n",
      " - 0s - loss: 0.2535 - acc: 0.9044 - val_loss: 2.2640 - val_acc: 0.6968\n",
      "Epoch 384/448\n",
      " - 0s - loss: 0.2533 - acc: 0.9051 - val_loss: 2.2682 - val_acc: 0.6939\n"
     ]
    },
    {
     "name": "stdout",
     "output_type": "stream",
     "text": [
      "Epoch 385/448\n",
      " - 0s - loss: 0.2504 - acc: 0.9095 - val_loss: 2.2719 - val_acc: 0.6968\n",
      "Epoch 386/448\n",
      " - 0s - loss: 0.2486 - acc: 0.9109 - val_loss: 2.2600 - val_acc: 0.6939\n",
      "Epoch 387/448\n",
      " - 0s - loss: 0.2500 - acc: 0.9088 - val_loss: 2.2688 - val_acc: 0.6968\n",
      "Epoch 388/448\n",
      " - 0s - loss: 0.2487 - acc: 0.9109 - val_loss: 2.2716 - val_acc: 0.6910\n",
      "Epoch 389/448\n",
      " - 0s - loss: 0.2480 - acc: 0.9139 - val_loss: 2.2711 - val_acc: 0.6939\n",
      "Epoch 390/448\n",
      " - 0s - loss: 0.2485 - acc: 0.9080 - val_loss: 2.2766 - val_acc: 0.6968\n",
      "Epoch 391/448\n",
      " - 0s - loss: 0.2493 - acc: 0.9058 - val_loss: 2.2624 - val_acc: 0.6939\n",
      "Epoch 392/448\n",
      " - 0s - loss: 0.2472 - acc: 0.9073 - val_loss: 2.2773 - val_acc: 0.6968\n",
      "Epoch 393/448\n",
      " - 0s - loss: 0.2466 - acc: 0.9102 - val_loss: 2.2774 - val_acc: 0.6910\n",
      "Epoch 394/448\n",
      " - 0s - loss: 0.2465 - acc: 0.9095 - val_loss: 2.2812 - val_acc: 0.6968\n",
      "Epoch 395/448\n",
      " - 0s - loss: 0.2489 - acc: 0.9109 - val_loss: 2.2838 - val_acc: 0.6997\n",
      "Epoch 396/448\n",
      " - 0s - loss: 0.2499 - acc: 0.9109 - val_loss: 2.2732 - val_acc: 0.6939\n",
      "Epoch 397/448\n",
      " - 0s - loss: 0.2479 - acc: 0.9080 - val_loss: 2.2768 - val_acc: 0.6880\n",
      "Epoch 398/448\n",
      " - 0s - loss: 0.2470 - acc: 0.9080 - val_loss: 2.2761 - val_acc: 0.6968\n",
      "Epoch 399/448\n",
      " - 0s - loss: 0.2474 - acc: 0.9095 - val_loss: 2.2837 - val_acc: 0.6968\n",
      "Epoch 400/448\n",
      " - 0s - loss: 0.2474 - acc: 0.9124 - val_loss: 2.2796 - val_acc: 0.6910\n",
      "Epoch 401/448\n",
      " - 0s - loss: 0.2463 - acc: 0.9139 - val_loss: 2.2806 - val_acc: 0.6910\n",
      "Epoch 402/448\n",
      " - 0s - loss: 0.2468 - acc: 0.9124 - val_loss: 2.2865 - val_acc: 0.6997\n",
      "Epoch 403/448\n",
      " - 0s - loss: 0.2482 - acc: 0.9117 - val_loss: 2.2844 - val_acc: 0.6910\n",
      "Epoch 404/448\n",
      " - 0s - loss: 0.2464 - acc: 0.9088 - val_loss: 2.2875 - val_acc: 0.6997\n",
      "Epoch 405/448\n",
      " - 0s - loss: 0.2454 - acc: 0.9095 - val_loss: 2.2883 - val_acc: 0.6997\n",
      "Epoch 406/448\n",
      " - 0s - loss: 0.2484 - acc: 0.9146 - val_loss: 2.2898 - val_acc: 0.6910\n",
      "Epoch 407/448\n",
      " - 0s - loss: 0.2459 - acc: 0.9109 - val_loss: 2.2822 - val_acc: 0.6939\n",
      "Epoch 408/448\n",
      " - 0s - loss: 0.2470 - acc: 0.9124 - val_loss: 2.2780 - val_acc: 0.6939\n",
      "Epoch 409/448\n",
      " - 0s - loss: 0.2440 - acc: 0.9146 - val_loss: 2.2817 - val_acc: 0.6968\n",
      "Epoch 410/448\n",
      " - 0s - loss: 0.2446 - acc: 0.9124 - val_loss: 2.2952 - val_acc: 0.6910\n",
      "Epoch 411/448\n",
      " - 0s - loss: 0.2435 - acc: 0.9124 - val_loss: 2.2872 - val_acc: 0.6939\n",
      "Epoch 412/448\n",
      " - 0s - loss: 0.2471 - acc: 0.9146 - val_loss: 2.2966 - val_acc: 0.6939\n",
      "Epoch 413/448\n",
      " - 0s - loss: 0.2441 - acc: 0.9131 - val_loss: 2.2925 - val_acc: 0.6997\n",
      "Epoch 414/448\n",
      " - 0s - loss: 0.2464 - acc: 0.9124 - val_loss: 2.2972 - val_acc: 0.6939\n",
      "Epoch 415/448\n",
      " - 0s - loss: 0.2438 - acc: 0.9175 - val_loss: 2.2946 - val_acc: 0.6910\n",
      "Epoch 416/448\n",
      " - 0s - loss: 0.2447 - acc: 0.9109 - val_loss: 2.2920 - val_acc: 0.6997\n",
      "Epoch 417/448\n",
      " - 0s - loss: 0.2449 - acc: 0.9124 - val_loss: 2.3027 - val_acc: 0.6880\n",
      "Epoch 418/448\n",
      " - 0s - loss: 0.2503 - acc: 0.9095 - val_loss: 2.3147 - val_acc: 0.6910\n",
      "Epoch 419/448\n",
      " - 0s - loss: 0.2458 - acc: 0.9117 - val_loss: 2.2992 - val_acc: 0.6939\n",
      "Epoch 420/448\n",
      " - 0s - loss: 0.2431 - acc: 0.9139 - val_loss: 2.3030 - val_acc: 0.6910\n",
      "Epoch 421/448\n",
      " - 0s - loss: 0.2433 - acc: 0.9146 - val_loss: 2.2986 - val_acc: 0.6939\n",
      "Epoch 422/448\n",
      " - 0s - loss: 0.2456 - acc: 0.9117 - val_loss: 2.3001 - val_acc: 0.6910\n",
      "Epoch 423/448\n",
      " - 0s - loss: 0.2452 - acc: 0.9124 - val_loss: 2.2981 - val_acc: 0.6939\n",
      "Epoch 424/448\n",
      " - 0s - loss: 0.2449 - acc: 0.9146 - val_loss: 2.2982 - val_acc: 0.6880\n",
      "Epoch 425/448\n",
      " - 0s - loss: 0.2566 - acc: 0.9109 - val_loss: 2.3190 - val_acc: 0.6880\n",
      "Epoch 426/448\n",
      " - 0s - loss: 0.2524 - acc: 0.9109 - val_loss: 2.3599 - val_acc: 0.6910\n",
      "Epoch 427/448\n",
      " - 0s - loss: 0.2569 - acc: 0.9088 - val_loss: 2.2649 - val_acc: 0.6968\n",
      "Epoch 428/448\n",
      " - 0s - loss: 0.2626 - acc: 0.9066 - val_loss: 2.3868 - val_acc: 0.6851\n",
      "Epoch 429/448\n",
      " - 0s - loss: 0.2591 - acc: 0.9058 - val_loss: 2.3169 - val_acc: 0.6851\n",
      "Epoch 430/448\n",
      " - 0s - loss: 0.2615 - acc: 0.9080 - val_loss: 2.3647 - val_acc: 0.6880\n",
      "Epoch 431/448\n",
      " - 0s - loss: 0.2712 - acc: 0.9058 - val_loss: 2.3810 - val_acc: 0.6851\n",
      "Epoch 432/448\n",
      " - 0s - loss: 0.2538 - acc: 0.9044 - val_loss: 2.2761 - val_acc: 0.6968\n",
      "Epoch 433/448\n",
      " - 0s - loss: 0.2555 - acc: 0.9058 - val_loss: 2.2831 - val_acc: 0.6939\n",
      "Epoch 434/448\n",
      " - 0s - loss: 0.2455 - acc: 0.9117 - val_loss: 2.3044 - val_acc: 0.6968\n",
      "Epoch 435/448\n",
      " - 0s - loss: 0.2456 - acc: 0.9124 - val_loss: 2.3170 - val_acc: 0.6939\n",
      "Epoch 436/448\n",
      " - 0s - loss: 0.2448 - acc: 0.9131 - val_loss: 2.2995 - val_acc: 0.6939\n",
      "Epoch 437/448\n",
      " - 0s - loss: 0.2433 - acc: 0.9146 - val_loss: 2.2947 - val_acc: 0.6939\n",
      "Epoch 438/448\n",
      " - 0s - loss: 0.2424 - acc: 0.9146 - val_loss: 2.3187 - val_acc: 0.6910\n",
      "Epoch 439/448\n",
      " - 0s - loss: 0.2424 - acc: 0.9139 - val_loss: 2.3037 - val_acc: 0.6939\n",
      "Epoch 440/448\n",
      " - 0s - loss: 0.2404 - acc: 0.9146 - val_loss: 2.3039 - val_acc: 0.6939\n",
      "Epoch 441/448\n",
      " - 0s - loss: 0.2437 - acc: 0.9146 - val_loss: 2.3177 - val_acc: 0.6939\n",
      "Epoch 442/448\n",
      " - 0s - loss: 0.2413 - acc: 0.9153 - val_loss: 2.3212 - val_acc: 0.6822\n",
      "Epoch 443/448\n",
      " - 0s - loss: 0.2410 - acc: 0.9168 - val_loss: 2.3115 - val_acc: 0.6968\n",
      "Epoch 444/448\n",
      " - 0s - loss: 0.2405 - acc: 0.9153 - val_loss: 2.3097 - val_acc: 0.6968\n",
      "Epoch 445/448\n",
      " - 0s - loss: 0.2399 - acc: 0.9168 - val_loss: 2.3074 - val_acc: 0.6910\n",
      "Epoch 446/448\n",
      " - 0s - loss: 0.2415 - acc: 0.9168 - val_loss: 2.3191 - val_acc: 0.6939\n",
      "Epoch 447/448\n",
      " - 0s - loss: 0.2385 - acc: 0.9131 - val_loss: 2.3100 - val_acc: 0.6968\n",
      "Epoch 448/448\n",
      " - 0s - loss: 0.2396 - acc: 0.9153 - val_loss: 2.3167 - val_acc: 0.6968\n"
     ]
    }
   ],
   "source": [
    "%time\n",
    "train_history = model.fit(X_train, Y_train, \n",
    "                          batch_size = 100, \n",
    "                          epochs = 448, \n",
    "                          verbose = 2,\n",
    "                          validation_split = 0.2,\n",
    "                          #callbacks = [es]\n",
    "                         )"
   ]
  },
  {
   "cell_type": "code",
   "execution_count": 109,
   "metadata": {},
   "outputs": [],
   "source": [
    "import matplotlib.pyplot as plt"
   ]
  },
  {
   "cell_type": "code",
   "execution_count": 110,
   "metadata": {},
   "outputs": [],
   "source": [
    "def show_train_history(train_history,train,validation):\n",
    "    plt.plot(train_history.history[train])\n",
    "    plt.plot(train_history.history[validation])\n",
    "    plt.title('Train History')\n",
    "    plt.ylabel(train)\n",
    "    plt.xlabel('Epoch')\n",
    "    plt.legend(['train', 'validation'], loc='best')\n",
    "    plt.show()"
   ]
  },
  {
   "cell_type": "code",
   "execution_count": 111,
   "metadata": {},
   "outputs": [
    {
     "data": {
      "image/png": "[encoded data removed]",
      "text/plain": [
       "<Figure size 432x288 with 1 Axes>"
      ]
     },
     "metadata": {},
     "output_type": "display_data"
    },
    {
     "data": {
      "image/png": "[encoded data removed]",
      "text/plain": [
       "<Figure size 432x288 with 1 Axes>"
      ]
     },
     "metadata": {},
     "output_type": "display_data"
    }
   ],
   "source": [
    "show_train_history(train_history, 'acc','val_acc')\n",
    "show_train_history(train_history,'loss','val_loss')"
   ]
  },
  {
   "cell_type": "code",
   "execution_count": 112,
   "metadata": {},
   "outputs": [
    {
     "name": "stdout",
     "output_type": "stream",
     "text": [
      "429/429 [==============================] - 0s 32us/step\n"
     ]
    }
   ],
   "source": [
    "scores = model.evaluate(X_test, Y_test)"
   ]
  },
  {
   "cell_type": "code",
   "execution_count": 113,
   "metadata": {},
   "outputs": [
    {
     "data": {
      "text/plain": [
       "64.33566435650512"
      ]
     },
     "execution_count": 113,
     "metadata": {},
     "output_type": "execute_result"
    }
   ],
   "source": [
    "scores[1] * 100"
   ]
  },
  {
   "cell_type": "markdown",
   "metadata": {},
   "source": [
    "### Before saving: are you sure?"
   ]
  },
  {
   "cell_type": "code",
   "execution_count": 201,
   "metadata": {},
   "outputs": [],
   "source": [
    "model.save_weights(\"model_10_10_20_tanh_100_1000_50.h5\")\n",
    "#for this\n",
    "#https://machinelearningmastery.com/save-load-keras-deep-learning-models/"
   ]
  },
  {
   "cell_type": "markdown",
   "metadata": {},
   "source": [
    "## MUST-SEE: \n",
    "* https://www.kaggle.com/randyrose2017/for-beginners-using-keras-to-build-models\n",
    "* https://medium.com/@pushkarmandot/build-your-first-deep-learning-neural-network-model-using-keras-in-python-a90b5864116d\n",
    "* https://medium.com/cracking-the-data-science-interview/a-gentle-introduction-to-neural-networks-for-machine-learning-d5f3f8987786\n",
    "## Just liked:\n",
    "* https://missinglink.ai/guides/neural-network-concepts/classification-neural-networks-neural-network-right-choice/\n",
    "## Full-house:\n",
    "https://towardsdatascience.com/the-mostly-complete-chart-of-neural-networks-explained-3fb6f2367464"
   ]
  },
  {
   "cell_type": "markdown",
   "metadata": {},
   "source": [
    "### 3.3 Question"
   ]
  },
  {
   "cell_type": "markdown",
   "metadata": {},
   "source": [
    "* Why rerunning with same configuration gives different output?"
   ]
  },
  {
   "cell_type": "markdown",
   "metadata": {},
   "source": [
    "# 4. Performance Metrics:"
   ]
  },
  {
   "cell_type": "code",
   "execution_count": 114,
   "metadata": {},
   "outputs": [],
   "source": [
    "import h5py"
   ]
  },
  {
   "cell_type": "code",
   "execution_count": 117,
   "metadata": {},
   "outputs": [],
   "source": [
    "model_load = Sequential()\n",
    "model_load.add(Dense(units = 10, \n",
    "                input_dim = 71, \n",
    "                activation = 'tanh',))\n",
    "model_load.add(Dense(units = 10, \n",
    "                activation = 'tanh'))\n",
    "model_load.add(Dense(units = 20, \n",
    "                activation = 'tanh'))\n",
    "model_load.add(Dense(units = 42, \n",
    "                activation = 'softmax'))"
   ]
  },
  {
   "cell_type": "code",
   "execution_count": 118,
   "metadata": {},
   "outputs": [],
   "source": [
    "model_load.load_weights('/home/amanzhol/Documents/Capstone/MAIN Work/models/model_10_10_20_tanh_100_1000_50.h5')"
   ]
  },
  {
   "cell_type": "markdown",
   "metadata": {},
   "source": [
    "Why do I need to compile before evaluating?"
   ]
  },
  {
   "cell_type": "code",
   "execution_count": 120,
   "metadata": {},
   "outputs": [],
   "source": [
    "model_load.compile(optimizer = 'adam', \n",
    "              loss = 'categorical_crossentropy', \n",
    "              metrics = ['accuracy'])"
   ]
  },
  {
   "cell_type": "code",
   "execution_count": 122,
   "metadata": {},
   "outputs": [
    {
     "name": "stdout",
     "output_type": "stream",
     "text": [
      "429/429 [==============================] - 0s 34us/step\n"
     ]
    }
   ],
   "source": [
    "evaluation = model_load.evaluate(X_test, Y_test)"
   ]
  },
  {
   "cell_type": "code",
   "execution_count": 123,
   "metadata": {},
   "outputs": [
    {
     "data": {
      "text/plain": [
       "81.35198137976907"
      ]
     },
     "execution_count": 123,
     "metadata": {},
     "output_type": "execute_result"
    }
   ],
   "source": [
    "evaluation[1] * 100"
   ]
  },
  {
   "cell_type": "markdown",
   "metadata": {},
   "source": [
    "### State-of-the-art on this dataset (accuarcy)"
   ]
  },
  {
   "cell_type": "markdown",
   "metadata": {},
   "source": [
    "Results of Ms. Asma Salem"
   ]
  },
  {
   "cell_type": "markdown",
   "metadata": {},
   "source": [
    "<img src='AsmaSalemResults.png'>"
   ]
  },
  {
   "cell_type": "code",
   "execution_count": 129,
   "metadata": {},
   "outputs": [],
   "source": [
    "#model prediction\n",
    "predictions = model_load.predict(X_test)"
   ]
  },
  {
   "cell_type": "code",
   "execution_count": 131,
   "metadata": {},
   "outputs": [],
   "source": [
    "Y_pred = (predictions > 0.5)"
   ]
  },
  {
   "cell_type": "code",
   "execution_count": 132,
   "metadata": {},
   "outputs": [
    {
     "data": {
      "text/plain": [
       "array([[False, False, False, ..., False, False, False],\n",
       "       [False, False, False, ..., False, False, False],\n",
       "       [False, False, False, ..., False, False, False],\n",
       "       ...,\n",
       "       [False, False, False, ..., False, False, False],\n",
       "       [False, False, False, ...,  True, False, False],\n",
       "       [False, False, False, ..., False, False, False]])"
      ]
     },
     "execution_count": 132,
     "metadata": {},
     "output_type": "execute_result"
    }
   ],
   "source": [
    "Y_pred"
   ]
  },
  {
   "cell_type": "code",
   "execution_count": 135,
   "metadata": {},
   "outputs": [
    {
     "data": {
      "text/plain": [
       "array([[0., 0., 0., ..., 0., 0., 0.],\n",
       "       [0., 0., 0., ..., 0., 0., 0.],\n",
       "       [0., 0., 0., ..., 0., 0., 1.],\n",
       "       ...,\n",
       "       [0., 0., 0., ..., 0., 0., 0.],\n",
       "       [0., 0., 0., ..., 1., 0., 0.],\n",
       "       [0., 0., 0., ..., 0., 0., 0.]], dtype=float32)"
      ]
     },
     "execution_count": 135,
     "metadata": {},
     "output_type": "execute_result"
    }
   ],
   "source": [
    "Y_test"
   ]
  },
  {
   "cell_type": "markdown",
   "metadata": {},
   "source": [
    "### 4.1 Confusion Matrix"
   ]
  },
  {
   "cell_type": "markdown",
   "metadata": {},
   "source": [
    "Implementing confustion matrix from source:\n",
    "https://stackoverflow.com/questions/50920908/get-confusion-matrix-from-a-keras-multiclass-model"
   ]
  },
  {
   "cell_type": "code",
   "execution_count": 138,
   "metadata": {},
   "outputs": [],
   "source": [
    "from sklearn.metrics import confusion_matrix"
   ]
  },
  {
   "cell_type": "code",
   "execution_count": 139,
   "metadata": {},
   "outputs": [
    {
     "data": {
      "text/plain": [
       "array([[11,  0,  0, ...,  0,  0,  0],\n",
       "       [ 2,  6,  0, ...,  0,  0,  0],\n",
       "       [ 0,  0, 13, ...,  0,  0,  0],\n",
       "       ...,\n",
       "       [ 1,  0,  0, ...,  6,  0,  0],\n",
       "       [ 2,  0,  0, ...,  0,  5,  0],\n",
       "       [ 6,  0,  0, ...,  0,  0,  3]])"
      ]
     },
     "execution_count": 139,
     "metadata": {},
     "output_type": "execute_result"
    }
   ],
   "source": [
    "confusion_matrix(Y_test.argmax(axis=1), Y_pred.argmax(axis=1))"
   ]
  },
  {
   "cell_type": "code",
   "execution_count": 141,
   "metadata": {},
   "outputs": [],
   "source": [
    "confusion = confusion_matrix(Y_test.argmax(axis=1), Y_pred.argmax(axis=1))"
   ]
  },
  {
   "cell_type": "markdown",
   "metadata": {},
   "source": [
    "### 4.2 FAR, FRR and EER"
   ]
  },
  {
   "cell_type": "markdown",
   "metadata": {},
   "source": [
    "Source: https://stats.stackexchange.com/questions/272962/are-far-and-frr-the-same-as-fpr-and-fnr-respectively"
   ]
  },
  {
   "cell_type": "code",
   "execution_count": 142,
   "metadata": {},
   "outputs": [
    {
     "data": {
      "text/plain": [
       "numpy.ndarray"
      ]
     },
     "execution_count": 142,
     "metadata": {},
     "output_type": "execute_result"
    }
   ],
   "source": [
    "type(confusion)"
   ]
  },
  {
   "cell_type": "code",
   "execution_count": 143,
   "metadata": {},
   "outputs": [
    {
     "data": {
      "text/plain": [
       "(42, 42)"
      ]
     },
     "execution_count": 143,
     "metadata": {},
     "output_type": "execute_result"
    }
   ],
   "source": [
    "confusion.shape"
   ]
  },
  {
   "cell_type": "markdown",
   "metadata": {},
   "source": [
    "<img src='ConfusionMatrix.png'>"
   ]
  },
  {
   "cell_type": "markdown",
   "metadata": {},
   "source": [
    "<img src='PerformanceMetrics.png'>"
   ]
  },
  {
   "cell_type": "markdown",
   "metadata": {},
   "source": [
    "> Edit:\n",
    "this is the format for confusion_matrix():\n",
    "[[TP,FN]\n",
    "[FP,TN]]\n",
    "And classification report gives all this"
   ]
  },
  {
   "cell_type": "code",
   "execution_count": 145,
   "metadata": {},
   "outputs": [
    {
     "data": {
      "text/plain": [
       "(42,)"
      ]
     },
     "execution_count": 145,
     "metadata": {},
     "output_type": "execute_result"
    }
   ],
   "source": [
    "confusion[0].shape"
   ]
  },
  {
   "cell_type": "code",
   "execution_count": 146,
   "metadata": {},
   "outputs": [],
   "source": [
    "def perf_measure(y_actual, y_pred):\n",
    "    TP = 0\n",
    "    FP = 0\n",
    "    TN = 0\n",
    "    FN = 0\n",
    "\n",
    "    for i in range(len(y_pred)): \n",
    "        if y_actual[i]==y_pred[i]==1:\n",
    "           TP += 1\n",
    "        if y_pred[i]==1 and y_actual[i]!=y_pred[i]:\n",
    "           FP += 1\n",
    "        if y_actual[i]==y_pred[i]==0:\n",
    "           TN += 1\n",
    "        if y_pred[i]==0 and y_actual[i]!=y_pred[i]:\n",
    "           FN += 1\n",
    "\n",
    "    return(TP, FP, TN, FN)"
   ]
  },
  {
   "cell_type": "code",
   "execution_count": 147,
   "metadata": {},
   "outputs": [
    {
     "data": {
      "text/plain": [
       "(6, 1, 11, 67)"
      ]
     },
     "execution_count": 147,
     "metadata": {},
     "output_type": "execute_result"
    }
   ],
   "source": [
    "perf_measure(Y_test.argmax(axis=1), Y_pred.argmax(axis=1))"
   ]
  },
  {
   "cell_type": "code",
   "execution_count": 148,
   "metadata": {},
   "outputs": [],
   "source": [
    "#Thus\n",
    "TP = 6\n",
    "FP = 1\n",
    "TN = 11\n",
    "FN = 67"
   ]
  },
  {
   "cell_type": "code",
   "execution_count": 149,
   "metadata": {},
   "outputs": [],
   "source": [
    "def FAR(FP, TN):\n",
    "    return FP/(FP + TN)\n",
    "\n",
    "def FRR(FN, TP):\n",
    "    return FN/(FN + TP)"
   ]
  },
  {
   "cell_type": "code",
   "execution_count": 152,
   "metadata": {},
   "outputs": [
    {
     "data": {
      "text/plain": [
       "8.333333333333332"
      ]
     },
     "execution_count": 152,
     "metadata": {},
     "output_type": "execute_result"
    }
   ],
   "source": [
    "FAR(FP, TN) * 100"
   ]
  },
  {
   "cell_type": "markdown",
   "metadata": {},
   "source": [
    "### State-of-the-art on this dataset (Performance Metrics)"
   ]
  },
  {
   "cell_type": "markdown",
   "metadata": {},
   "source": [
    "Ms. Asma Results\n",
    "* FAR = 0.3%\n",
    "* FRR = 1.5%\n",
    "* EER = 0.9%"
   ]
  },
  {
   "cell_type": "markdown",
   "metadata": {},
   "source": [
    "### Questions\n",
    "* How to have several FAR, FRR?"
   ]
  },
  {
   "cell_type": "markdown",
   "metadata": {},
   "source": [
    "### To read for Confusion Matrix - Get Items FP/FN/TP/TN - Python\n",
    "* https://datascience.stackexchange.com/questions/28493/confusion-matrix-get-items-fp-fn-tp-tn-python\n",
    "* https://classeval.wordpress.com/introduction/basic-evaluation-measures/"
   ]
  },
  {
   "cell_type": "code",
   "execution_count": null,
   "metadata": {},
   "outputs": [],
   "source": []
  }
 ],
 "metadata": {
  "kernelspec": {
   "display_name": "Python 3",
   "language": "python",
   "name": "python3"
  },
  "language_info": {
   "codemirror_mode": {
    "name": "ipython",
    "version": 3
   },
   "file_extension": ".py",
   "mimetype": "text/x-python",
   "name": "python",
   "nbconvert_exporter": "python",
   "pygments_lexer": "ipython3",
   "version": "3.6.5"
  }
 },
 "nbformat": 4,
 "nbformat_minor": 2
}
