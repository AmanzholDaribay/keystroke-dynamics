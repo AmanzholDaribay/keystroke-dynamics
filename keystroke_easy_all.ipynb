{
 "cells": [
  {
   "cell_type": "markdown",
   "metadata": {},
   "source": [
    "# Keystroke Dynamics"
   ]
  },
  {
   "cell_type": "markdown",
   "metadata": {},
   "source": [
    "### Dataset:\n",
    "The dataset is taken from http://www.vmonaco.com/keystroke-datasets.\n",
    "Specifically from https://ms.sapientia.ro/~manyi/keystroke.html."
   ]
  },
  {
   "cell_type": "markdown",
   "metadata": {},
   "source": [
    "### To read:\n",
    "* https://appliedmachinelearning.blog/2017/07/26/user-verification-based-on-keystroke-dynamics-python-code/"
   ]
  },
  {
   "cell_type": "markdown",
   "metadata": {},
   "source": [
    "## 1. Loading data"
   ]
  },
  {
   "cell_type": "code",
   "execution_count": 1,
   "metadata": {},
   "outputs": [],
   "source": [
    "from scipy.io import arff\n",
    "import pandas as pd\n",
    "import numpy as np"
   ]
  },
  {
   "cell_type": "code",
   "execution_count": 2,
   "metadata": {},
   "outputs": [],
   "source": [
    "data = arff.loadarff('dataset2_norm.arff')\n",
    "df = pd.DataFrame(data[0])"
   ]
  },
  {
   "cell_type": "code",
   "execution_count": 3,
   "metadata": {},
   "outputs": [
    {
     "data": {
      "text/plain": [
       "Index(['holdtime1', 'holdtime2', 'holdtime3', 'holdtime4', 'holdtime5',\n",
       "       'holdtime6', 'holdtime7', 'holdtime8', 'holdtime9', 'holdtime10',\n",
       "       'holdtime11', 'holdtime12', 'holdtime13', 'holdtime14', 'downdown1',\n",
       "       'downdown2', 'downdown3', 'downdown4', 'downdown5', 'downdown6',\n",
       "       'downdown7', 'downdown8', 'downdown9', 'downdown10', 'downdown11',\n",
       "       'downdown12', 'downdown13', 'updown1', 'updown2', 'updown3', 'updown4',\n",
       "       'updown5', 'updown6', 'updown7', 'updown8', 'updown9', 'updown10',\n",
       "       'updown11', 'updown12', 'updown13', 'pressure1', 'pressure2',\n",
       "       'pressure3', 'pressure4', 'pressure5', 'pressure6', 'pressure7',\n",
       "       'pressure8', 'pressure9', 'pressure10', 'pressure11', 'pressure12',\n",
       "       'pressure13', 'pressure14', 'fingerarea1', 'fingerarea2', 'fingerarea3',\n",
       "       'fingerarea4', 'fingerarea5', 'fingerarea6', 'fingerarea7',\n",
       "       'fingerarea8', 'fingerarea9', 'fingerarea10', 'fingerarea11',\n",
       "       'fingerarea12', 'fingerarea13', 'fingerarea14', 'meanholdtime',\n",
       "       'meanpressure', 'meanfingerarea', 'user_id'],\n",
       "      dtype='object')"
      ]
     },
     "execution_count": 3,
     "metadata": {},
     "output_type": "execute_result"
    }
   ],
   "source": [
    "df.columns"
   ]
  },
  {
   "cell_type": "code",
   "execution_count": 4,
   "metadata": {},
   "outputs": [
    {
     "data": {
      "text/plain": [
       "72"
      ]
     },
     "execution_count": 4,
     "metadata": {},
     "output_type": "execute_result"
    }
   ],
   "source": [
    "len(df.columns)"
   ]
  },
  {
   "cell_type": "code",
   "execution_count": 5,
   "metadata": {},
   "outputs": [
    {
     "data": {
      "text/plain": [
       "(2142, 72)"
      ]
     },
     "execution_count": 5,
     "metadata": {},
     "output_type": "execute_result"
    }
   ],
   "source": [
    "df.shape"
   ]
  },
  {
   "cell_type": "code",
   "execution_count": 6,
   "metadata": {},
   "outputs": [],
   "source": [
    "a = df['user_id'].values[:]"
   ]
  },
  {
   "cell_type": "code",
   "execution_count": 7,
   "metadata": {},
   "outputs": [
    {
     "data": {
      "text/plain": [
       "numpy.ndarray"
      ]
     },
     "execution_count": 7,
     "metadata": {},
     "output_type": "execute_result"
    }
   ],
   "source": [
    "type(a)"
   ]
  },
  {
   "cell_type": "code",
   "execution_count": 8,
   "metadata": {},
   "outputs": [
    {
     "data": {
      "text/html": [
       "<div>\n",
       "<style scoped>\n",
       "    .dataframe tbody tr th:only-of-type {\n",
       "        vertical-align: middle;\n",
       "    }\n",
       "\n",
       "    .dataframe tbody tr th {\n",
       "        vertical-align: top;\n",
       "    }\n",
       "\n",
       "    .dataframe thead th {\n",
       "        text-align: right;\n",
       "    }\n",
       "</style>\n",
       "<table border=\"1\" class=\"dataframe\">\n",
       "  <thead>\n",
       "    <tr style=\"text-align: right;\">\n",
       "      <th></th>\n",
       "      <th>holdtime1</th>\n",
       "      <th>holdtime2</th>\n",
       "      <th>holdtime3</th>\n",
       "      <th>holdtime4</th>\n",
       "      <th>holdtime5</th>\n",
       "      <th>holdtime6</th>\n",
       "      <th>holdtime7</th>\n",
       "      <th>holdtime8</th>\n",
       "      <th>holdtime9</th>\n",
       "      <th>holdtime10</th>\n",
       "      <th>...</th>\n",
       "      <th>fingerarea9</th>\n",
       "      <th>fingerarea10</th>\n",
       "      <th>fingerarea11</th>\n",
       "      <th>fingerarea12</th>\n",
       "      <th>fingerarea13</th>\n",
       "      <th>fingerarea14</th>\n",
       "      <th>meanholdtime</th>\n",
       "      <th>meanpressure</th>\n",
       "      <th>meanfingerarea</th>\n",
       "      <th>user_id</th>\n",
       "    </tr>\n",
       "  </thead>\n",
       "  <tbody>\n",
       "    <tr>\n",
       "      <th>0</th>\n",
       "      <td>0.538793</td>\n",
       "      <td>0.462222</td>\n",
       "      <td>0.362903</td>\n",
       "      <td>0.274510</td>\n",
       "      <td>0.300366</td>\n",
       "      <td>0.384259</td>\n",
       "      <td>0.430147</td>\n",
       "      <td>0.467290</td>\n",
       "      <td>0.240</td>\n",
       "      <td>0.374429</td>\n",
       "      <td>...</td>\n",
       "      <td>0.296296</td>\n",
       "      <td>0.296296</td>\n",
       "      <td>0.222222</td>\n",
       "      <td>0.211470</td>\n",
       "      <td>0.283154</td>\n",
       "      <td>0.185185</td>\n",
       "      <td>0.447030</td>\n",
       "      <td>0.387546</td>\n",
       "      <td>0.364089</td>\n",
       "      <td>b'1'</td>\n",
       "    </tr>\n",
       "    <tr>\n",
       "      <th>1</th>\n",
       "      <td>0.435345</td>\n",
       "      <td>0.382222</td>\n",
       "      <td>0.354839</td>\n",
       "      <td>0.285714</td>\n",
       "      <td>0.106227</td>\n",
       "      <td>0.328704</td>\n",
       "      <td>0.363971</td>\n",
       "      <td>0.485981</td>\n",
       "      <td>0.344</td>\n",
       "      <td>0.365297</td>\n",
       "      <td>...</td>\n",
       "      <td>0.259259</td>\n",
       "      <td>0.185185</td>\n",
       "      <td>0.185185</td>\n",
       "      <td>0.354839</td>\n",
       "      <td>0.211470</td>\n",
       "      <td>0.148148</td>\n",
       "      <td>0.423762</td>\n",
       "      <td>0.445704</td>\n",
       "      <td>0.369322</td>\n",
       "      <td>b'1'</td>\n",
       "    </tr>\n",
       "    <tr>\n",
       "      <th>2</th>\n",
       "      <td>0.478448</td>\n",
       "      <td>0.453333</td>\n",
       "      <td>0.399194</td>\n",
       "      <td>0.338936</td>\n",
       "      <td>0.340659</td>\n",
       "      <td>0.375000</td>\n",
       "      <td>0.338235</td>\n",
       "      <td>0.345794</td>\n",
       "      <td>0.296</td>\n",
       "      <td>0.365297</td>\n",
       "      <td>...</td>\n",
       "      <td>0.296296</td>\n",
       "      <td>0.333333</td>\n",
       "      <td>0.222222</td>\n",
       "      <td>0.283154</td>\n",
       "      <td>0.175627</td>\n",
       "      <td>0.185185</td>\n",
       "      <td>0.454455</td>\n",
       "      <td>0.464092</td>\n",
       "      <td>0.371658</td>\n",
       "      <td>b'1'</td>\n",
       "    </tr>\n",
       "    <tr>\n",
       "      <th>3</th>\n",
       "      <td>0.396552</td>\n",
       "      <td>0.444444</td>\n",
       "      <td>0.415323</td>\n",
       "      <td>0.338936</td>\n",
       "      <td>0.366300</td>\n",
       "      <td>0.416667</td>\n",
       "      <td>0.404412</td>\n",
       "      <td>0.640187</td>\n",
       "      <td>0.276</td>\n",
       "      <td>0.410959</td>\n",
       "      <td>...</td>\n",
       "      <td>0.370370</td>\n",
       "      <td>0.185185</td>\n",
       "      <td>0.222222</td>\n",
       "      <td>0.283154</td>\n",
       "      <td>0.247312</td>\n",
       "      <td>0.296296</td>\n",
       "      <td>0.522772</td>\n",
       "      <td>0.397230</td>\n",
       "      <td>0.396828</td>\n",
       "      <td>b'1'</td>\n",
       "    </tr>\n",
       "    <tr>\n",
       "      <th>4</th>\n",
       "      <td>0.469828</td>\n",
       "      <td>0.453333</td>\n",
       "      <td>0.290323</td>\n",
       "      <td>0.271709</td>\n",
       "      <td>0.340659</td>\n",
       "      <td>0.361111</td>\n",
       "      <td>0.408088</td>\n",
       "      <td>0.635514</td>\n",
       "      <td>0.324</td>\n",
       "      <td>0.378995</td>\n",
       "      <td>...</td>\n",
       "      <td>0.333333</td>\n",
       "      <td>0.222222</td>\n",
       "      <td>0.222222</td>\n",
       "      <td>0.211470</td>\n",
       "      <td>0.318996</td>\n",
       "      <td>0.074074</td>\n",
       "      <td>0.493564</td>\n",
       "      <td>0.455577</td>\n",
       "      <td>0.365646</td>\n",
       "      <td>b'1'</td>\n",
       "    </tr>\n",
       "  </tbody>\n",
       "</table>\n",
       "<p>5 rows × 72 columns</p>\n",
       "</div>"
      ],
      "text/plain": [
       "   holdtime1  holdtime2  holdtime3  holdtime4  holdtime5  holdtime6  \\\n",
       "0   0.538793   0.462222   0.362903   0.274510   0.300366   0.384259   \n",
       "1   0.435345   0.382222   0.354839   0.285714   0.106227   0.328704   \n",
       "2   0.478448   0.453333   0.399194   0.338936   0.340659   0.375000   \n",
       "3   0.396552   0.444444   0.415323   0.338936   0.366300   0.416667   \n",
       "4   0.469828   0.453333   0.290323   0.271709   0.340659   0.361111   \n",
       "\n",
       "   holdtime7  holdtime8  holdtime9  holdtime10   ...     fingerarea9  \\\n",
       "0   0.430147   0.467290      0.240    0.374429   ...        0.296296   \n",
       "1   0.363971   0.485981      0.344    0.365297   ...        0.259259   \n",
       "2   0.338235   0.345794      0.296    0.365297   ...        0.296296   \n",
       "3   0.404412   0.640187      0.276    0.410959   ...        0.370370   \n",
       "4   0.408088   0.635514      0.324    0.378995   ...        0.333333   \n",
       "\n",
       "   fingerarea10  fingerarea11  fingerarea12  fingerarea13  fingerarea14  \\\n",
       "0      0.296296      0.222222      0.211470      0.283154      0.185185   \n",
       "1      0.185185      0.185185      0.354839      0.211470      0.148148   \n",
       "2      0.333333      0.222222      0.283154      0.175627      0.185185   \n",
       "3      0.185185      0.222222      0.283154      0.247312      0.296296   \n",
       "4      0.222222      0.222222      0.211470      0.318996      0.074074   \n",
       "\n",
       "   meanholdtime  meanpressure  meanfingerarea  user_id  \n",
       "0      0.447030      0.387546        0.364089     b'1'  \n",
       "1      0.423762      0.445704        0.369322     b'1'  \n",
       "2      0.454455      0.464092        0.371658     b'1'  \n",
       "3      0.522772      0.397230        0.396828     b'1'  \n",
       "4      0.493564      0.455577        0.365646     b'1'  \n",
       "\n",
       "[5 rows x 72 columns]"
      ]
     },
     "execution_count": 8,
     "metadata": {},
     "output_type": "execute_result"
    }
   ],
   "source": [
    "df.head()"
   ]
  },
  {
   "cell_type": "code",
   "execution_count": 9,
   "metadata": {},
   "outputs": [],
   "source": [
    "b = np.mean(a == b'37')"
   ]
  },
  {
   "cell_type": "code",
   "execution_count": 10,
   "metadata": {},
   "outputs": [
    {
     "data": {
      "text/plain": [
       "51.0"
      ]
     },
     "execution_count": 10,
     "metadata": {},
     "output_type": "execute_result"
    }
   ],
   "source": [
    "2142 * b"
   ]
  },
  {
   "cell_type": "markdown",
   "metadata": {},
   "source": [
    "> As it can be seen the number of samples per user are 51. Since the user are 42 users, there in total 51 * 42 = 2142 samples. Number of features is 71."
   ]
  },
  {
   "cell_type": "markdown",
   "metadata": {},
   "source": [
    "### Note: the dataset is 2142 * 72."
   ]
  },
  {
   "cell_type": "markdown",
   "metadata": {},
   "source": [
    "## 2. Preprocessing "
   ]
  },
  {
   "cell_type": "markdown",
   "metadata": {},
   "source": [
    "Good source for Pandas: https://chrisalbon.com/python/data_wrangling/pandas_replace_values/"
   ]
  },
  {
   "cell_type": "code",
   "execution_count": 11,
   "metadata": {},
   "outputs": [],
   "source": [
    "user_id_unique = df['user_id'].unique()"
   ]
  },
  {
   "cell_type": "code",
   "execution_count": 12,
   "metadata": {},
   "outputs": [
    {
     "data": {
      "text/plain": [
       "array([b'1', b'2', b'3', b'4', b'5', b'6', b'7', b'8', b'9', b'10', b'20',\n",
       "       b'21', b'24', b'25', b'26', b'27', b'28', b'29', b'35', b'36',\n",
       "       b'37', b'38', b'40', b'41', b'50', b'51', b'53', b'54', b'55',\n",
       "       b'65', b'66', b'68', b'69', b'70', b'71', b'73', b'80', b'81',\n",
       "       b'82', b'83', b'84', b'85'], dtype=object)"
      ]
     },
     "execution_count": 12,
     "metadata": {},
     "output_type": "execute_result"
    }
   ],
   "source": [
    "user_id_unique"
   ]
  },
  {
   "cell_type": "code",
   "execution_count": 13,
   "metadata": {},
   "outputs": [
    {
     "data": {
      "text/plain": [
       "(42,)"
      ]
     },
     "execution_count": 13,
     "metadata": {},
     "output_type": "execute_result"
    }
   ],
   "source": [
    "user_id_unique.shape"
   ]
  },
  {
   "cell_type": "code",
   "execution_count": 14,
   "metadata": {},
   "outputs": [
    {
     "data": {
      "text/plain": [
       "numpy.ndarray"
      ]
     },
     "execution_count": 14,
     "metadata": {},
     "output_type": "execute_result"
    }
   ],
   "source": [
    "type(user_id_unique)"
   ]
  },
  {
   "cell_type": "code",
   "execution_count": 15,
   "metadata": {},
   "outputs": [],
   "source": [
    "user_id = df['user_id'].values"
   ]
  },
  {
   "cell_type": "code",
   "execution_count": 16,
   "metadata": {},
   "outputs": [
    {
     "data": {
      "text/plain": [
       "(2142,)"
      ]
     },
     "execution_count": 16,
     "metadata": {},
     "output_type": "execute_result"
    }
   ],
   "source": [
    "user_id.shape"
   ]
  },
  {
   "cell_type": "code",
   "execution_count": 17,
   "metadata": {},
   "outputs": [
    {
     "data": {
      "text/plain": [
       "\"\\nuser_id[user_id == b'20'] = b'11'\\nuser_id[user_id == b'21'] = b'12'\\nuser_id[user_id == b'24'] = b'13'\\nuser_id[user_id == b'25'] = b'14'\\nuser_id[user_id == b'26'] = b'15'\\nuser_id[user_id == b'27'] = b'16'\\nuser_id[user_id == b'28'] = b'17'\\nuser_id[user_id == b'29'] = b'18'\\nuser_id[user_id == b'35'] = b'19'\\nuser_id[user_id == b'35'] = b'20'\\nuser_id[user_id == b'37'] = b'21'\\nuser_id[user_id == b'38'] = b'22'\\nuser_id[user_id == b'20'] = b'11'\\n\""
      ]
     },
     "execution_count": 17,
     "metadata": {},
     "output_type": "execute_result"
    }
   ],
   "source": [
    "\"\"\"\n",
    "user_id[user_id == b'20'] = b'11'\n",
    "user_id[user_id == b'21'] = b'12'\n",
    "user_id[user_id == b'24'] = b'13'\n",
    "user_id[user_id == b'25'] = b'14'\n",
    "user_id[user_id == b'26'] = b'15'\n",
    "user_id[user_id == b'27'] = b'16'\n",
    "user_id[user_id == b'28'] = b'17'\n",
    "user_id[user_id == b'29'] = b'18'\n",
    "user_id[user_id == b'35'] = b'19'\n",
    "user_id[user_id == b'35'] = b'20'\n",
    "user_id[user_id == b'37'] = b'21'\n",
    "user_id[user_id == b'38'] = b'22'\n",
    "user_id[user_id == b'20'] = b'11'\n",
    "\"\"\""
   ]
  },
  {
   "cell_type": "markdown",
   "metadata": {},
   "source": [
    "### 2.0.1 Creating Labels (Y)"
   ]
  },
  {
   "cell_type": "code",
   "execution_count": 18,
   "metadata": {},
   "outputs": [
    {
     "name": "stdout",
     "output_type": "stream",
     "text": [
      "CPU times: user 3 µs, sys: 0 ns, total: 3 µs\n",
      "Wall time: 6.2 µs\n"
     ]
    }
   ],
   "source": [
    "%time\n",
    "label = []\n",
    "for i in range(42):\n",
    "    for j in range(51):\n",
    "        label.append(i)"
   ]
  },
  {
   "cell_type": "code",
   "execution_count": 19,
   "metadata": {},
   "outputs": [],
   "source": [
    "y = np.array(label)"
   ]
  },
  {
   "cell_type": "code",
   "execution_count": 20,
   "metadata": {},
   "outputs": [
    {
     "data": {
      "text/plain": [
       "(2142,)"
      ]
     },
     "execution_count": 20,
     "metadata": {},
     "output_type": "execute_result"
    }
   ],
   "source": [
    "y.shape"
   ]
  },
  {
   "cell_type": "code",
   "execution_count": 21,
   "metadata": {},
   "outputs": [
    {
     "data": {
      "text/plain": [
       "51.0"
      ]
     },
     "execution_count": 21,
     "metadata": {},
     "output_type": "execute_result"
    }
   ],
   "source": [
    "np.mean(y == 0) * 2142"
   ]
  },
  {
   "cell_type": "code",
   "execution_count": 22,
   "metadata": {},
   "outputs": [
    {
     "data": {
      "text/plain": [
       "array([ 0,  1,  2,  3,  4,  5,  6,  7,  8,  9, 10, 11, 12, 13, 14, 15, 16,\n",
       "       17, 18, 19, 20, 21, 22, 23, 24, 25, 26, 27, 28, 29, 30, 31, 32, 33,\n",
       "       34, 35, 36, 37, 38, 39, 40, 41])"
      ]
     },
     "execution_count": 22,
     "metadata": {},
     "output_type": "execute_result"
    }
   ],
   "source": [
    "np.unique(y)"
   ]
  },
  {
   "cell_type": "markdown",
   "metadata": {},
   "source": [
    "### 2.0.2 Input Data (X)"
   ]
  },
  {
   "cell_type": "code",
   "execution_count": 23,
   "metadata": {},
   "outputs": [],
   "source": [
    "df_x = df.iloc[:,:71]"
   ]
  },
  {
   "cell_type": "code",
   "execution_count": 24,
   "metadata": {},
   "outputs": [],
   "source": [
    "X = df_x.values"
   ]
  },
  {
   "cell_type": "code",
   "execution_count": 25,
   "metadata": {},
   "outputs": [
    {
     "data": {
      "text/plain": [
       "(2142, 71)"
      ]
     },
     "execution_count": 25,
     "metadata": {},
     "output_type": "execute_result"
    }
   ],
   "source": [
    "X.shape"
   ]
  },
  {
   "cell_type": "markdown",
   "metadata": {},
   "source": [
    "### 2.1 One Hot Encoding"
   ]
  },
  {
   "cell_type": "markdown",
   "metadata": {},
   "source": [
    "Source: https://machinelearningmastery.com/how-to-one-hot-encode-sequence-data-in-python/"
   ]
  },
  {
   "cell_type": "code",
   "execution_count": 26,
   "metadata": {},
   "outputs": [
    {
     "name": "stderr",
     "output_type": "stream",
     "text": [
      "/home/amanzhol/anaconda3/lib/python3.6/site-packages/h5py/__init__.py:36: FutureWarning: Conversion of the second argument of issubdtype from `float` to `np.floating` is deprecated. In future, it will be treated as `np.float64 == np.dtype(float).type`.\n",
      "  from ._conv import register_converters as _register_converters\n",
      "Using TensorFlow backend.\n"
     ]
    }
   ],
   "source": [
    "from keras.utils import to_categorical"
   ]
  },
  {
   "cell_type": "code",
   "execution_count": 27,
   "metadata": {},
   "outputs": [],
   "source": [
    "Y = to_categorical(y)"
   ]
  },
  {
   "cell_type": "code",
   "execution_count": 28,
   "metadata": {},
   "outputs": [
    {
     "data": {
      "text/plain": [
       "(2142, 42)"
      ]
     },
     "execution_count": 28,
     "metadata": {},
     "output_type": "execute_result"
    }
   ],
   "source": [
    "Y.shape"
   ]
  },
  {
   "cell_type": "code",
   "execution_count": 29,
   "metadata": {},
   "outputs": [
    {
     "data": {
      "text/plain": [
       "(42,)"
      ]
     },
     "execution_count": 29,
     "metadata": {},
     "output_type": "execute_result"
    }
   ],
   "source": [
    "Y[51].shape"
   ]
  },
  {
   "cell_type": "markdown",
   "metadata": {},
   "source": [
    "### 2.2 Splitting the dataset into the Training and Testing"
   ]
  },
  {
   "cell_type": "code",
   "execution_count": 30,
   "metadata": {},
   "outputs": [],
   "source": [
    "from sklearn.model_selection import train_test_split"
   ]
  },
  {
   "cell_type": "code",
   "execution_count": 31,
   "metadata": {},
   "outputs": [],
   "source": [
    "X_train, X_test, Y_train, Y_test = train_test_split(X, Y, test_size = 0.2)"
   ]
  },
  {
   "cell_type": "code",
   "execution_count": 32,
   "metadata": {},
   "outputs": [
    {
     "data": {
      "text/plain": [
       "(1713, 71)"
      ]
     },
     "execution_count": 32,
     "metadata": {},
     "output_type": "execute_result"
    }
   ],
   "source": [
    "X_train.shape"
   ]
  },
  {
   "cell_type": "code",
   "execution_count": 33,
   "metadata": {},
   "outputs": [
    {
     "data": {
      "text/plain": [
       "1713.6000000000001"
      ]
     },
     "execution_count": 33,
     "metadata": {},
     "output_type": "execute_result"
    }
   ],
   "source": [
    "2142 * 0.8"
   ]
  },
  {
   "cell_type": "code",
   "execution_count": 34,
   "metadata": {},
   "outputs": [
    {
     "data": {
      "text/plain": [
       "(1713, 42)"
      ]
     },
     "execution_count": 34,
     "metadata": {},
     "output_type": "execute_result"
    }
   ],
   "source": [
    "Y_train.shape"
   ]
  },
  {
   "cell_type": "code",
   "execution_count": 35,
   "metadata": {},
   "outputs": [
    {
     "data": {
      "text/plain": [
       "array([0., 0., 0., 0., 0., 0., 0., 0., 0., 0., 0., 0., 0., 0., 0., 0., 0.,\n",
       "       0., 0., 0., 0., 0., 0., 0., 0., 0., 0., 0., 0., 0., 0., 0., 0., 0.,\n",
       "       0., 0., 1., 0., 0., 0., 0., 0.], dtype=float32)"
      ]
     },
     "execution_count": 35,
     "metadata": {},
     "output_type": "execute_result"
    }
   ],
   "source": [
    "Y_train[0]"
   ]
  },
  {
   "cell_type": "markdown",
   "metadata": {},
   "source": [
    "As it can be seen, train_test_split splits the data randomly."
   ]
  },
  {
   "cell_type": "markdown",
   "metadata": {},
   "source": [
    "## 3. Building Neural Network"
   ]
  },
  {
   "cell_type": "markdown",
   "metadata": {},
   "source": [
    "Source: https://medium.com/@pushkarmandot/build-your-first-deep-learning-neural-network-model-using-keras-in-python-a90b5864116d"
   ]
  },
  {
   "cell_type": "code",
   "execution_count": 44,
   "metadata": {},
   "outputs": [],
   "source": [
    "import keras\n",
    "from keras.models import Sequential\n",
    "from keras.layers import Dense\n",
    "from keras.layers import Dropout"
   ]
  },
  {
   "cell_type": "code",
   "execution_count": 280,
   "metadata": {},
   "outputs": [],
   "source": [
    "#Initializing Neural Network\n",
    "model = Sequential()"
   ]
  },
  {
   "cell_type": "markdown",
   "metadata": {},
   "source": [
    "#### Input layer"
   ]
  },
  {
   "cell_type": "code",
   "execution_count": 281,
   "metadata": {},
   "outputs": [],
   "source": [
    "# Adding the input layer and the first hidden layer\n",
    "model.add(Dense(units = 15, \n",
    "                input_dim = 71, \n",
    "                activation = 'relu',))"
   ]
  },
  {
   "cell_type": "code",
   "execution_count": 282,
   "metadata": {},
   "outputs": [],
   "source": [
    "#model.add(Dropout(0.5))"
   ]
  },
  {
   "cell_type": "markdown",
   "metadata": {},
   "source": [
    "#### Hidden layer 1"
   ]
  },
  {
   "cell_type": "code",
   "execution_count": 283,
   "metadata": {},
   "outputs": [],
   "source": [
    "# Adding the second hidden layer\n",
    "model.add(Dense(units = 15, \n",
    "                activation = 'relu'))"
   ]
  },
  {
   "cell_type": "code",
   "execution_count": 284,
   "metadata": {},
   "outputs": [],
   "source": [
    "#model.add(Dropout(0.5))"
   ]
  },
  {
   "cell_type": "markdown",
   "metadata": {},
   "source": [
    "#### Hidden layer 2"
   ]
  },
  {
   "cell_type": "code",
   "execution_count": 285,
   "metadata": {},
   "outputs": [],
   "source": [
    "# Adding the third hidden layer\n",
    "model.add(Dense(units = 15, \n",
    "                activation = 'relu'))"
   ]
  },
  {
   "cell_type": "markdown",
   "metadata": {},
   "source": [
    "#### Output layer"
   ]
  },
  {
   "cell_type": "code",
   "execution_count": 286,
   "metadata": {},
   "outputs": [],
   "source": [
    "# Adding the output layer\n",
    "model.add(Dense(units = 42, \n",
    "                activation = 'softmax'))"
   ]
  },
  {
   "cell_type": "code",
   "execution_count": 287,
   "metadata": {},
   "outputs": [
    {
     "name": "stdout",
     "output_type": "stream",
     "text": [
      "_________________________________________________________________\n",
      "Layer (type)                 Output Shape              Param #   \n",
      "=================================================================\n",
      "dense_40 (Dense)             (None, 15)                1080      \n",
      "_________________________________________________________________\n",
      "dense_41 (Dense)             (None, 15)                240       \n",
      "_________________________________________________________________\n",
      "dense_42 (Dense)             (None, 15)                240       \n",
      "_________________________________________________________________\n",
      "dense_43 (Dense)             (None, 42)                672       \n",
      "=================================================================\n",
      "Total params: 2,232\n",
      "Trainable params: 2,232\n",
      "Non-trainable params: 0\n",
      "_________________________________________________________________\n"
     ]
    }
   ],
   "source": [
    "#Print model summary\n",
    "model.summary()"
   ]
  },
  {
   "cell_type": "markdown",
   "metadata": {},
   "source": [
    "### 3.1 Compilation"
   ]
  },
  {
   "cell_type": "code",
   "execution_count": 288,
   "metadata": {},
   "outputs": [],
   "source": [
    "from keras import optimizers"
   ]
  },
  {
   "cell_type": "code",
   "execution_count": 289,
   "metadata": {},
   "outputs": [],
   "source": [
    "sgd = optimizers.SGD(lr = 0.3, momentum = 0.9)"
   ]
  },
  {
   "cell_type": "code",
   "execution_count": 290,
   "metadata": {},
   "outputs": [],
   "source": [
    "# Compiling Neural Network\n",
    "model.compile(optimizer = sgd, \n",
    "              loss = 'categorical_crossentropy', \n",
    "              metrics = ['accuracy'])"
   ]
  },
  {
   "cell_type": "markdown",
   "metadata": {},
   "source": [
    "####       Congratulations for myself, I have build my first Deep Learning Neural Network model using Keras with understanding."
   ]
  },
  {
   "cell_type": "markdown",
   "metadata": {},
   "source": [
    "### 3.2 Training"
   ]
  },
  {
   "cell_type": "code",
   "execution_count": 291,
   "metadata": {},
   "outputs": [],
   "source": [
    "#Early Stopping\n",
    "from keras.callbacks import EarlyStopping"
   ]
  },
  {
   "cell_type": "code",
   "execution_count": 292,
   "metadata": {},
   "outputs": [],
   "source": [
    "es = EarlyStopping(monitor = 'val_loss', \n",
    "                   mode = 'auto', \n",
    "                   patience=50, \n",
    "                   restore_best_weights = True)"
   ]
  },
  {
   "cell_type": "code",
   "execution_count": 293,
   "metadata": {},
   "outputs": [
    {
     "name": "stdout",
     "output_type": "stream",
     "text": [
      "CPU times: user 6 µs, sys: 1e+03 ns, total: 7 µs\n",
      "Wall time: 12.4 µs\n",
      "Train on 1370 samples, validate on 343 samples\n",
      "Epoch 1/300\n",
      " - 1s - loss: 3.7444 - acc: 0.0109 - val_loss: 3.7425 - val_acc: 0.0117\n",
      "Epoch 2/300\n",
      " - 0s - loss: 3.6746 - acc: 0.0175 - val_loss: 3.5947 - val_acc: 0.0466\n",
      "Epoch 3/300\n",
      " - 0s - loss: 3.4328 - acc: 0.0569 - val_loss: 3.3770 - val_acc: 0.0671\n",
      "Epoch 4/300\n",
      " - 0s - loss: 3.2864 - acc: 0.0657 - val_loss: 3.2514 - val_acc: 0.0729\n",
      "Epoch 5/300\n",
      " - 0s - loss: 3.3687 - acc: 0.0620 - val_loss: 3.2085 - val_acc: 0.0641\n",
      "Epoch 6/300\n",
      " - 0s - loss: 3.1574 - acc: 0.0854 - val_loss: 2.9195 - val_acc: 0.1050\n",
      "Epoch 7/300\n",
      " - 0s - loss: 2.8431 - acc: 0.1365 - val_loss: 2.8926 - val_acc: 0.1283\n",
      "Epoch 8/300\n",
      " - 0s - loss: 2.8996 - acc: 0.1292 - val_loss: 3.3235 - val_acc: 0.0875\n",
      "Epoch 9/300\n",
      " - 0s - loss: 3.0917 - acc: 0.1299 - val_loss: 3.0115 - val_acc: 0.0845\n",
      "Epoch 10/300\n",
      " - 0s - loss: 2.8279 - acc: 0.1562 - val_loss: 2.6981 - val_acc: 0.1603\n",
      "Epoch 11/300\n",
      " - 0s - loss: 3.3591 - acc: 0.1058 - val_loss: 3.8499 - val_acc: 0.0262\n",
      "Epoch 12/300\n",
      " - 0s - loss: 3.6856 - acc: 0.0482 - val_loss: 3.8577 - val_acc: 0.0087\n",
      "Epoch 13/300\n",
      " - 0s - loss: 3.8338 - acc: 0.0270 - val_loss: 3.7989 - val_acc: 0.0117\n",
      "Epoch 14/300\n",
      " - 0s - loss: 3.7691 - acc: 0.0263 - val_loss: 3.7690 - val_acc: 0.0175\n",
      "Epoch 15/300\n",
      " - 0s - loss: 3.7415 - acc: 0.0299 - val_loss: 3.7692 - val_acc: 0.0117\n",
      "Epoch 16/300\n",
      " - 0s - loss: 3.7377 - acc: 0.0307 - val_loss: 3.7694 - val_acc: 0.0117\n",
      "Epoch 17/300\n",
      " - 0s - loss: 3.7372 - acc: 0.0241 - val_loss: 3.7713 - val_acc: 0.0087\n",
      "Epoch 18/300\n",
      " - 0s - loss: 3.7377 - acc: 0.0263 - val_loss: 3.7711 - val_acc: 0.0117\n",
      "Epoch 19/300\n",
      " - 0s - loss: 3.7374 - acc: 0.0255 - val_loss: 3.7659 - val_acc: 0.0117\n",
      "Epoch 20/300\n",
      " - 0s - loss: 3.7381 - acc: 0.0307 - val_loss: 3.7665 - val_acc: 0.0117\n",
      "Epoch 21/300\n",
      " - 0s - loss: 3.7367 - acc: 0.0307 - val_loss: 3.7684 - val_acc: 0.0117\n",
      "Epoch 22/300\n",
      " - 0s - loss: 3.7365 - acc: 0.0263 - val_loss: 3.7750 - val_acc: 0.0117\n",
      "Epoch 23/300\n",
      " - 0s - loss: 3.7372 - acc: 0.0234 - val_loss: 3.7716 - val_acc: 0.0117\n",
      "Epoch 24/300\n",
      " - 0s - loss: 3.7363 - acc: 0.0226 - val_loss: 3.7692 - val_acc: 0.0117\n",
      "Epoch 25/300\n",
      " - 0s - loss: 3.7388 - acc: 0.0307 - val_loss: 3.7676 - val_acc: 0.0117\n",
      "Epoch 26/300\n",
      " - 0s - loss: 3.7375 - acc: 0.0285 - val_loss: 3.7664 - val_acc: 0.0175\n",
      "Epoch 27/300\n",
      " - 0s - loss: 3.7362 - acc: 0.0277 - val_loss: 3.7681 - val_acc: 0.0117\n",
      "Epoch 28/300\n",
      " - 0s - loss: 3.7368 - acc: 0.0307 - val_loss: 3.7653 - val_acc: 0.0117\n",
      "Epoch 29/300\n",
      " - 0s - loss: 3.7368 - acc: 0.0307 - val_loss: 3.7668 - val_acc: 0.0117\n",
      "Epoch 30/300\n",
      " - 0s - loss: 3.7358 - acc: 0.0255 - val_loss: 3.7699 - val_acc: 0.0204\n",
      "Epoch 31/300\n",
      " - 0s - loss: 3.7372 - acc: 0.0234 - val_loss: 3.7700 - val_acc: 0.0087\n",
      "Epoch 32/300\n",
      " - 0s - loss: 3.7363 - acc: 0.0277 - val_loss: 3.7660 - val_acc: 0.0117\n",
      "Epoch 33/300\n",
      " - 0s - loss: 3.7380 - acc: 0.0307 - val_loss: 3.7663 - val_acc: 0.0117\n",
      "Epoch 34/300\n",
      " - 0s - loss: 3.7360 - acc: 0.0307 - val_loss: 3.7657 - val_acc: 0.0117\n",
      "Epoch 35/300\n",
      " - 0s - loss: 3.7362 - acc: 0.0307 - val_loss: 3.7685 - val_acc: 0.0117\n",
      "Epoch 36/300\n",
      " - 0s - loss: 3.7368 - acc: 0.0241 - val_loss: 3.7699 - val_acc: 0.0117\n",
      "Epoch 37/300\n",
      " - 0s - loss: 3.7364 - acc: 0.0234 - val_loss: 3.7686 - val_acc: 0.0117\n",
      "Epoch 38/300\n",
      " - 0s - loss: 3.7371 - acc: 0.0307 - val_loss: 3.7662 - val_acc: 0.0117\n",
      "Epoch 39/300\n",
      " - 0s - loss: 3.7367 - acc: 0.0292 - val_loss: 3.7747 - val_acc: 0.0087\n",
      "Epoch 40/300\n",
      " - 0s - loss: 3.7374 - acc: 0.0263 - val_loss: 3.7689 - val_acc: 0.0117\n",
      "Epoch 41/300\n",
      " - 0s - loss: 3.7369 - acc: 0.0307 - val_loss: 3.7687 - val_acc: 0.0117\n",
      "Epoch 42/300\n",
      " - 0s - loss: 3.7359 - acc: 0.0270 - val_loss: 3.7691 - val_acc: 0.0087\n",
      "Epoch 43/300\n",
      " - 0s - loss: 3.7359 - acc: 0.0241 - val_loss: 3.7694 - val_acc: 0.0117\n",
      "Epoch 44/300\n",
      " - 0s - loss: 3.7365 - acc: 0.0307 - val_loss: 3.7691 - val_acc: 0.0117\n",
      "Epoch 45/300\n",
      " - 0s - loss: 3.7378 - acc: 0.0226 - val_loss: 3.7659 - val_acc: 0.0117\n",
      "Epoch 46/300\n",
      " - 0s - loss: 3.7359 - acc: 0.0307 - val_loss: 3.7648 - val_acc: 0.0117\n",
      "Epoch 47/300\n",
      " - 0s - loss: 3.7375 - acc: 0.0307 - val_loss: 3.7679 - val_acc: 0.0117\n",
      "Epoch 48/300\n",
      " - 0s - loss: 3.7352 - acc: 0.0263 - val_loss: 3.7683 - val_acc: 0.0087\n",
      "Epoch 49/300\n",
      " - 0s - loss: 3.7364 - acc: 0.0234 - val_loss: 3.7701 - val_acc: 0.0117\n",
      "Epoch 50/300\n",
      " - 0s - loss: 3.7367 - acc: 0.0307 - val_loss: 3.7725 - val_acc: 0.0117\n",
      "Epoch 51/300\n",
      " - 0s - loss: 3.7359 - acc: 0.0263 - val_loss: 3.7703 - val_acc: 0.0117\n",
      "Epoch 52/300\n",
      " - 0s - loss: 3.7351 - acc: 0.0307 - val_loss: 3.7686 - val_acc: 0.0117\n",
      "Epoch 53/300\n",
      " - 0s - loss: 3.7359 - acc: 0.0307 - val_loss: 3.7673 - val_acc: 0.0117\n",
      "Epoch 54/300\n",
      " - 0s - loss: 3.7368 - acc: 0.0307 - val_loss: 3.7647 - val_acc: 0.0117\n",
      "Epoch 55/300\n",
      " - 0s - loss: 3.7367 - acc: 0.0307 - val_loss: 3.7703 - val_acc: 0.0117\n",
      "Epoch 56/300\n",
      " - 0s - loss: 3.7369 - acc: 0.0263 - val_loss: 3.7712 - val_acc: 0.0117\n",
      "Epoch 57/300\n",
      " - 0s - loss: 3.7366 - acc: 0.0241 - val_loss: 3.7681 - val_acc: 0.0117\n",
      "Epoch 58/300\n",
      " - 0s - loss: 3.7364 - acc: 0.0307 - val_loss: 3.7700 - val_acc: 0.0117\n",
      "Epoch 59/300\n",
      " - 0s - loss: 3.7383 - acc: 0.0307 - val_loss: 3.7738 - val_acc: 0.0117\n",
      "Epoch 60/300\n",
      " - 0s - loss: 3.7384 - acc: 0.0307 - val_loss: 3.7695 - val_acc: 0.0117\n",
      "Epoch 61/300\n",
      " - 0s - loss: 3.7373 - acc: 0.0285 - val_loss: 3.7645 - val_acc: 0.0087\n",
      "Epoch 62/300\n",
      " - 0s - loss: 3.7368 - acc: 0.0226 - val_loss: 3.7681 - val_acc: 0.0175\n",
      "Epoch 63/300\n",
      " - 0s - loss: 3.7356 - acc: 0.0292 - val_loss: 3.7699 - val_acc: 0.0117\n",
      "Epoch 64/300\n",
      " - 0s - loss: 3.7364 - acc: 0.0307 - val_loss: 3.7686 - val_acc: 0.0117\n",
      "Epoch 65/300\n",
      " - 0s - loss: 3.7372 - acc: 0.0182 - val_loss: 3.7672 - val_acc: 0.0117\n",
      "Epoch 66/300\n",
      " - 0s - loss: 3.7365 - acc: 0.0248 - val_loss: 3.7657 - val_acc: 0.0175\n",
      "Epoch 67/300\n",
      " - 0s - loss: 3.7375 - acc: 0.0234 - val_loss: 3.7694 - val_acc: 0.0087\n",
      "Epoch 68/300\n",
      " - 0s - loss: 3.7359 - acc: 0.0292 - val_loss: 3.7689 - val_acc: 0.0117\n",
      "Epoch 69/300\n",
      " - 0s - loss: 3.7358 - acc: 0.0307 - val_loss: 3.7664 - val_acc: 0.0117\n",
      "Epoch 70/300\n",
      " - 0s - loss: 3.7373 - acc: 0.0307 - val_loss: 3.7666 - val_acc: 0.0117\n",
      "Epoch 71/300\n",
      " - 0s - loss: 3.7354 - acc: 0.0307 - val_loss: 3.7711 - val_acc: 0.0117\n",
      "Epoch 72/300\n",
      " - 0s - loss: 3.7367 - acc: 0.0270 - val_loss: 3.7707 - val_acc: 0.0117\n",
      "Epoch 73/300\n",
      " - 0s - loss: 3.7369 - acc: 0.0263 - val_loss: 3.7694 - val_acc: 0.0117\n",
      "Epoch 74/300\n",
      " - 0s - loss: 3.7357 - acc: 0.0263 - val_loss: 3.7692 - val_acc: 0.0117\n",
      "Epoch 75/300\n",
      " - 0s - loss: 3.7370 - acc: 0.0307 - val_loss: 3.7701 - val_acc: 0.0117\n",
      "Epoch 76/300\n",
      " - 0s - loss: 3.7375 - acc: 0.0307 - val_loss: 3.7654 - val_acc: 0.0117\n",
      "Epoch 77/300\n",
      " - 0s - loss: 3.7371 - acc: 0.0226 - val_loss: 3.7723 - val_acc: 0.0175\n",
      "Epoch 78/300\n",
      " - 0s - loss: 3.7364 - acc: 0.0277 - val_loss: 3.7709 - val_acc: 0.0117\n",
      "Epoch 79/300\n",
      " - 0s - loss: 3.7359 - acc: 0.0307 - val_loss: 3.7671 - val_acc: 0.0117\n",
      "Epoch 80/300\n",
      " - 0s - loss: 3.7374 - acc: 0.0255 - val_loss: 3.7679 - val_acc: 0.0175\n",
      "Epoch 81/300\n",
      " - 0s - loss: 3.7372 - acc: 0.0292 - val_loss: 3.7662 - val_acc: 0.0117\n",
      "Epoch 82/300\n",
      " - 0s - loss: 3.7371 - acc: 0.0307 - val_loss: 3.7657 - val_acc: 0.0117\n",
      "Epoch 83/300\n",
      " - 0s - loss: 3.7364 - acc: 0.0307 - val_loss: 3.7717 - val_acc: 0.0117\n",
      "Epoch 84/300\n",
      " - 0s - loss: 3.7381 - acc: 0.0307 - val_loss: 3.7652 - val_acc: 0.0175\n",
      "Epoch 85/300\n",
      " - 0s - loss: 3.7363 - acc: 0.0270 - val_loss: 3.7673 - val_acc: 0.0117\n",
      "Epoch 86/300\n",
      " - 0s - loss: 3.7361 - acc: 0.0263 - val_loss: 3.7699 - val_acc: 0.0117\n",
      "Epoch 87/300\n",
      " - 0s - loss: 3.7386 - acc: 0.0212 - val_loss: 3.7672 - val_acc: 0.0204\n",
      "Epoch 88/300\n",
      " - 0s - loss: 3.7371 - acc: 0.0307 - val_loss: 3.7712 - val_acc: 0.0117\n",
      "Epoch 89/300\n",
      " - 0s - loss: 3.7377 - acc: 0.0263 - val_loss: 3.7690 - val_acc: 0.0117\n",
      "Epoch 90/300\n",
      " - 0s - loss: 3.7365 - acc: 0.0226 - val_loss: 3.7694 - val_acc: 0.0117\n",
      "Epoch 91/300\n",
      " - 0s - loss: 3.7360 - acc: 0.0307 - val_loss: 3.7672 - val_acc: 0.0117\n",
      "Epoch 92/300\n",
      " - 0s - loss: 3.7390 - acc: 0.0307 - val_loss: 3.7671 - val_acc: 0.0117\n",
      "Epoch 93/300\n",
      " - 0s - loss: 3.7366 - acc: 0.0190 - val_loss: 3.7669 - val_acc: 0.0087\n",
      "Epoch 94/300\n",
      " - 0s - loss: 3.7361 - acc: 0.0350 - val_loss: 3.7684 - val_acc: 0.0117\n",
      "Epoch 95/300\n",
      " - 0s - loss: 3.7385 - acc: 0.0307 - val_loss: 3.7680 - val_acc: 0.0117\n",
      "Epoch 96/300\n"
     ]
    },
    {
     "name": "stdout",
     "output_type": "stream",
     "text": [
      " - 0s - loss: 3.7378 - acc: 0.0307 - val_loss: 3.7704 - val_acc: 0.0117\n",
      "Epoch 97/300\n",
      " - 0s - loss: 3.7372 - acc: 0.0307 - val_loss: 3.7667 - val_acc: 0.0117\n",
      "Epoch 98/300\n",
      " - 0s - loss: 3.7371 - acc: 0.0285 - val_loss: 3.7677 - val_acc: 0.0175\n",
      "Epoch 99/300\n",
      " - 0s - loss: 3.7376 - acc: 0.0277 - val_loss: 3.7686 - val_acc: 0.0117\n",
      "Epoch 100/300\n",
      " - 0s - loss: 3.7362 - acc: 0.0307 - val_loss: 3.7713 - val_acc: 0.0117\n",
      "Epoch 101/300\n",
      " - 0s - loss: 3.7375 - acc: 0.0255 - val_loss: 3.7682 - val_acc: 0.0087\n",
      "Epoch 102/300\n",
      " - 0s - loss: 3.7375 - acc: 0.0277 - val_loss: 3.7674 - val_acc: 0.0117\n",
      "Epoch 103/300\n",
      " - 0s - loss: 3.7377 - acc: 0.0307 - val_loss: 3.7689 - val_acc: 0.0117\n",
      "Epoch 104/300\n",
      " - 0s - loss: 3.7374 - acc: 0.0277 - val_loss: 3.7684 - val_acc: 0.0175\n",
      "Epoch 105/300\n",
      " - 0s - loss: 3.7385 - acc: 0.0263 - val_loss: 3.7692 - val_acc: 0.0117\n",
      "Epoch 106/300\n",
      " - 0s - loss: 3.7373 - acc: 0.0219 - val_loss: 3.7666 - val_acc: 0.0087\n",
      "Epoch 107/300\n",
      " - 0s - loss: 3.7371 - acc: 0.0314 - val_loss: 3.7715 - val_acc: 0.0117\n",
      "Epoch 108/300\n",
      " - 0s - loss: 3.7364 - acc: 0.0307 - val_loss: 3.7705 - val_acc: 0.0117\n",
      "Epoch 109/300\n",
      " - 0s - loss: 3.7359 - acc: 0.0307 - val_loss: 3.7718 - val_acc: 0.0117\n",
      "Epoch 110/300\n",
      " - 0s - loss: 3.7369 - acc: 0.0248 - val_loss: 3.7659 - val_acc: 0.0175\n",
      "Epoch 111/300\n",
      " - 0s - loss: 3.7359 - acc: 0.0285 - val_loss: 3.7667 - val_acc: 0.0117\n",
      "Epoch 112/300\n",
      " - 0s - loss: 3.7372 - acc: 0.0219 - val_loss: 3.7676 - val_acc: 0.0087\n",
      "Epoch 113/300\n",
      " - 0s - loss: 3.7366 - acc: 0.0299 - val_loss: 3.7708 - val_acc: 0.0117\n",
      "Epoch 114/300\n",
      " - 0s - loss: 3.7364 - acc: 0.0307 - val_loss: 3.7702 - val_acc: 0.0117\n",
      "Epoch 115/300\n",
      " - 0s - loss: 3.7366 - acc: 0.0255 - val_loss: 3.7690 - val_acc: 0.0175\n",
      "Epoch 116/300\n",
      " - 0s - loss: 3.7370 - acc: 0.0212 - val_loss: 3.7671 - val_acc: 0.0087\n",
      "Epoch 117/300\n",
      " - 0s - loss: 3.7365 - acc: 0.0299 - val_loss: 3.7681 - val_acc: 0.0117\n",
      "Epoch 118/300\n",
      " - 0s - loss: 3.7377 - acc: 0.0307 - val_loss: 3.7674 - val_acc: 0.0117\n",
      "Epoch 119/300\n",
      " - 0s - loss: 3.7365 - acc: 0.0307 - val_loss: 3.7689 - val_acc: 0.0117\n",
      "Epoch 120/300\n",
      " - 0s - loss: 3.7359 - acc: 0.0307 - val_loss: 3.7687 - val_acc: 0.0117\n",
      "Epoch 121/300\n",
      " - 0s - loss: 3.7381 - acc: 0.0307 - val_loss: 3.7669 - val_acc: 0.0117\n",
      "Epoch 122/300\n",
      " - 0s - loss: 3.7362 - acc: 0.0307 - val_loss: 3.7695 - val_acc: 0.0117\n",
      "Epoch 123/300\n",
      " - 0s - loss: 3.7382 - acc: 0.0212 - val_loss: 3.7709 - val_acc: 0.0117\n",
      "Epoch 124/300\n",
      " - 0s - loss: 3.7367 - acc: 0.0307 - val_loss: 3.7698 - val_acc: 0.0117\n",
      "Epoch 125/300\n",
      " - 0s - loss: 3.7358 - acc: 0.0307 - val_loss: 3.7663 - val_acc: 0.0117\n",
      "Epoch 126/300\n",
      " - 0s - loss: 3.7365 - acc: 0.0307 - val_loss: 3.7703 - val_acc: 0.0117\n",
      "Epoch 127/300\n",
      " - 0s - loss: 3.7377 - acc: 0.0307 - val_loss: 3.7662 - val_acc: 0.0117\n",
      "Epoch 128/300\n",
      " - 0s - loss: 3.7366 - acc: 0.0241 - val_loss: 3.7660 - val_acc: 0.0087\n",
      "Epoch 129/300\n",
      " - 0s - loss: 3.7359 - acc: 0.0285 - val_loss: 3.7705 - val_acc: 0.0117\n",
      "Epoch 130/300\n",
      " - 0s - loss: 3.7362 - acc: 0.0307 - val_loss: 3.7715 - val_acc: 0.0117\n",
      "Epoch 131/300\n",
      " - 0s - loss: 3.7364 - acc: 0.0307 - val_loss: 3.7667 - val_acc: 0.0117\n",
      "Epoch 132/300\n",
      " - 0s - loss: 3.7367 - acc: 0.0212 - val_loss: 3.7661 - val_acc: 0.0117\n",
      "Epoch 133/300\n",
      " - 0s - loss: 3.7360 - acc: 0.0307 - val_loss: 3.7712 - val_acc: 0.0117\n",
      "Epoch 134/300\n",
      " - 0s - loss: 3.7355 - acc: 0.0307 - val_loss: 3.7693 - val_acc: 0.0117\n",
      "Epoch 135/300\n",
      " - 0s - loss: 3.7360 - acc: 0.0307 - val_loss: 3.7694 - val_acc: 0.0117\n",
      "Epoch 136/300\n",
      " - 0s - loss: 3.7381 - acc: 0.0307 - val_loss: 3.7671 - val_acc: 0.0117\n",
      "Epoch 137/300\n",
      " - 0s - loss: 3.7386 - acc: 0.0226 - val_loss: 3.7631 - val_acc: 0.0175\n",
      "Epoch 138/300\n",
      " - 0s - loss: 3.7377 - acc: 0.0285 - val_loss: 3.7706 - val_acc: 0.0117\n",
      "Epoch 139/300\n",
      " - 0s - loss: 3.7366 - acc: 0.0307 - val_loss: 3.7711 - val_acc: 0.0117\n",
      "Epoch 140/300\n",
      " - 0s - loss: 3.7361 - acc: 0.0307 - val_loss: 3.7695 - val_acc: 0.0117\n",
      "Epoch 141/300\n",
      " - 0s - loss: 3.7360 - acc: 0.0219 - val_loss: 3.7668 - val_acc: 0.0175\n",
      "Epoch 142/300\n",
      " - 0s - loss: 3.7382 - acc: 0.0219 - val_loss: 3.7683 - val_acc: 0.0117\n",
      "Epoch 143/300\n",
      " - 0s - loss: 3.7371 - acc: 0.0307 - val_loss: 3.7648 - val_acc: 0.0117\n",
      "Epoch 144/300\n",
      " - 0s - loss: 3.7377 - acc: 0.0285 - val_loss: 3.7686 - val_acc: 0.0117\n",
      "Epoch 145/300\n",
      " - 0s - loss: 3.7370 - acc: 0.0307 - val_loss: 3.7705 - val_acc: 0.0117\n",
      "Epoch 146/300\n",
      " - 0s - loss: 3.7367 - acc: 0.0307 - val_loss: 3.7676 - val_acc: 0.0117\n",
      "Epoch 147/300\n",
      " - 0s - loss: 3.7372 - acc: 0.0241 - val_loss: 3.7717 - val_acc: 0.0087\n",
      "Epoch 148/300\n",
      " - 0s - loss: 3.7354 - acc: 0.0226 - val_loss: 3.7653 - val_acc: 0.0117\n",
      "Epoch 149/300\n",
      " - 0s - loss: 3.7363 - acc: 0.0307 - val_loss: 3.7660 - val_acc: 0.0117\n",
      "Epoch 150/300\n",
      " - 0s - loss: 3.7377 - acc: 0.0307 - val_loss: 3.7683 - val_acc: 0.0117\n",
      "Epoch 151/300\n",
      " - 0s - loss: 3.7370 - acc: 0.0285 - val_loss: 3.7696 - val_acc: 0.0087\n",
      "Epoch 152/300\n",
      " - 0s - loss: 3.7370 - acc: 0.0307 - val_loss: 3.7691 - val_acc: 0.0117\n",
      "Epoch 153/300\n",
      " - 0s - loss: 3.7364 - acc: 0.0307 - val_loss: 3.7691 - val_acc: 0.0117\n",
      "Epoch 154/300\n",
      " - 0s - loss: 3.7369 - acc: 0.0307 - val_loss: 3.7679 - val_acc: 0.0117\n",
      "Epoch 155/300\n",
      " - 0s - loss: 3.7356 - acc: 0.0307 - val_loss: 3.7702 - val_acc: 0.0117\n",
      "Epoch 156/300\n",
      " - 0s - loss: 3.7369 - acc: 0.0307 - val_loss: 3.7705 - val_acc: 0.0117\n",
      "Epoch 157/300\n",
      " - 0s - loss: 3.7353 - acc: 0.0307 - val_loss: 3.7656 - val_acc: 0.0117\n",
      "Epoch 158/300\n",
      " - 0s - loss: 3.7366 - acc: 0.0307 - val_loss: 3.7726 - val_acc: 0.0117\n",
      "Epoch 159/300\n",
      " - 0s - loss: 3.7368 - acc: 0.0307 - val_loss: 3.7627 - val_acc: 0.0117\n",
      "Epoch 160/300\n",
      " - 0s - loss: 3.7361 - acc: 0.0307 - val_loss: 3.7700 - val_acc: 0.0117\n",
      "Epoch 161/300\n",
      " - 0s - loss: 3.7372 - acc: 0.0241 - val_loss: 3.7687 - val_acc: 0.0117\n",
      "Epoch 162/300\n",
      " - 0s - loss: 3.7365 - acc: 0.0263 - val_loss: 3.7665 - val_acc: 0.0117\n",
      "Epoch 163/300\n",
      " - 0s - loss: 3.7378 - acc: 0.0307 - val_loss: 3.7702 - val_acc: 0.0117\n",
      "Epoch 164/300\n",
      " - 0s - loss: 3.7379 - acc: 0.0241 - val_loss: 3.7685 - val_acc: 0.0175\n",
      "Epoch 165/300\n",
      " - 0s - loss: 3.7364 - acc: 0.0248 - val_loss: 3.7666 - val_acc: 0.0117\n",
      "Epoch 166/300\n",
      " - 0s - loss: 3.7358 - acc: 0.0307 - val_loss: 3.7669 - val_acc: 0.0117\n",
      "Epoch 167/300\n",
      " - 0s - loss: 3.7369 - acc: 0.0307 - val_loss: 3.7714 - val_acc: 0.0117\n",
      "Epoch 168/300\n",
      " - 0s - loss: 3.7367 - acc: 0.0307 - val_loss: 3.7713 - val_acc: 0.0117\n",
      "Epoch 169/300\n",
      " - 0s - loss: 3.7365 - acc: 0.0307 - val_loss: 3.7658 - val_acc: 0.0117\n",
      "Epoch 170/300\n",
      " - 0s - loss: 3.7374 - acc: 0.0168 - val_loss: 3.7681 - val_acc: 0.0175\n",
      "Epoch 171/300\n",
      " - 0s - loss: 3.7367 - acc: 0.0277 - val_loss: 3.7697 - val_acc: 0.0117\n",
      "Epoch 172/300\n",
      " - 0s - loss: 3.7365 - acc: 0.0307 - val_loss: 3.7705 - val_acc: 0.0117\n",
      "Epoch 173/300\n",
      " - 0s - loss: 3.7381 - acc: 0.0255 - val_loss: 3.7663 - val_acc: 0.0087\n",
      "Epoch 174/300\n",
      " - 0s - loss: 3.7367 - acc: 0.0226 - val_loss: 3.7713 - val_acc: 0.0117\n",
      "Epoch 175/300\n",
      " - 0s - loss: 3.7377 - acc: 0.0292 - val_loss: 3.7703 - val_acc: 0.0117\n",
      "Epoch 176/300\n",
      " - 0s - loss: 3.7353 - acc: 0.0307 - val_loss: 3.7646 - val_acc: 0.0117\n",
      "Epoch 177/300\n",
      " - 0s - loss: 3.7379 - acc: 0.0307 - val_loss: 3.7709 - val_acc: 0.0117\n",
      "Epoch 178/300\n",
      " - 0s - loss: 3.7364 - acc: 0.0307 - val_loss: 3.7688 - val_acc: 0.0117\n",
      "Epoch 179/300\n",
      " - 0s - loss: 3.7361 - acc: 0.0307 - val_loss: 3.7706 - val_acc: 0.0117\n",
      "Epoch 180/300\n",
      " - 0s - loss: 3.7381 - acc: 0.0307 - val_loss: 3.7661 - val_acc: 0.0117\n",
      "Epoch 181/300\n",
      " - 0s - loss: 3.7375 - acc: 0.0226 - val_loss: 3.7692 - val_acc: 0.0087\n",
      "Epoch 182/300\n",
      " - 0s - loss: 3.7365 - acc: 0.0292 - val_loss: 3.7647 - val_acc: 0.0117\n",
      "Epoch 183/300\n",
      " - 0s - loss: 3.7367 - acc: 0.0226 - val_loss: 3.7697 - val_acc: 0.0175\n",
      "Epoch 184/300\n",
      " - 0s - loss: 3.7365 - acc: 0.0314 - val_loss: 3.7666 - val_acc: 0.0117\n",
      "Epoch 185/300\n",
      " - 0s - loss: 3.7370 - acc: 0.0307 - val_loss: 3.7717 - val_acc: 0.0117\n",
      "Epoch 186/300\n",
      " - 0s - loss: 3.7370 - acc: 0.0255 - val_loss: 3.7672 - val_acc: 0.0087\n",
      "Epoch 187/300\n",
      " - 0s - loss: 3.7364 - acc: 0.0292 - val_loss: 3.7704 - val_acc: 0.0117\n",
      "Epoch 188/300\n",
      " - 0s - loss: 3.7368 - acc: 0.0307 - val_loss: 3.7652 - val_acc: 0.0117\n",
      "Epoch 189/300\n",
      " - 0s - loss: 3.7377 - acc: 0.0307 - val_loss: 3.7701 - val_acc: 0.0117\n",
      "Epoch 190/300\n",
      " - 0s - loss: 3.7378 - acc: 0.0299 - val_loss: 3.7694 - val_acc: 0.0175\n",
      "Epoch 191/300\n",
      " - 0s - loss: 3.7364 - acc: 0.0270 - val_loss: 3.7697 - val_acc: 0.0117\n"
     ]
    },
    {
     "name": "stdout",
     "output_type": "stream",
     "text": [
      "Epoch 192/300\n",
      " - 0s - loss: 3.7371 - acc: 0.0307 - val_loss: 3.7677 - val_acc: 0.0117\n",
      "Epoch 193/300\n",
      " - 0s - loss: 3.7365 - acc: 0.0285 - val_loss: 3.7657 - val_acc: 0.0175\n",
      "Epoch 194/300\n",
      " - 0s - loss: 3.7360 - acc: 0.0241 - val_loss: 3.7718 - val_acc: 0.0117\n",
      "Epoch 195/300\n",
      " - 0s - loss: 3.7370 - acc: 0.0307 - val_loss: 3.7725 - val_acc: 0.0117\n",
      "Epoch 196/300\n",
      " - 0s - loss: 3.7363 - acc: 0.0307 - val_loss: 3.7626 - val_acc: 0.0117\n",
      "Epoch 197/300\n",
      " - 0s - loss: 3.7375 - acc: 0.0307 - val_loss: 3.7667 - val_acc: 0.0117\n",
      "Epoch 198/300\n",
      " - 0s - loss: 3.7374 - acc: 0.0307 - val_loss: 3.7664 - val_acc: 0.0117\n",
      "Epoch 199/300\n",
      " - 0s - loss: 3.7367 - acc: 0.0307 - val_loss: 3.7697 - val_acc: 0.0117\n",
      "Epoch 200/300\n",
      " - 0s - loss: 3.7367 - acc: 0.0307 - val_loss: 3.7673 - val_acc: 0.0117\n",
      "Epoch 201/300\n",
      " - 0s - loss: 3.7375 - acc: 0.0307 - val_loss: 3.7695 - val_acc: 0.0117\n",
      "Epoch 202/300\n",
      " - 0s - loss: 3.7372 - acc: 0.0234 - val_loss: 3.7701 - val_acc: 0.0117\n",
      "Epoch 203/300\n",
      " - 0s - loss: 3.7361 - acc: 0.0241 - val_loss: 3.7706 - val_acc: 0.0087\n",
      "Epoch 204/300\n",
      " - 0s - loss: 3.7356 - acc: 0.0321 - val_loss: 3.7680 - val_acc: 0.0117\n",
      "Epoch 205/300\n",
      " - 0s - loss: 3.7370 - acc: 0.0307 - val_loss: 3.7686 - val_acc: 0.0117\n",
      "Epoch 206/300\n",
      " - 0s - loss: 3.7367 - acc: 0.0263 - val_loss: 3.7660 - val_acc: 0.0117\n",
      "Epoch 207/300\n",
      " - 0s - loss: 3.7368 - acc: 0.0248 - val_loss: 3.7697 - val_acc: 0.0117\n",
      "Epoch 208/300\n",
      " - 0s - loss: 3.7362 - acc: 0.0307 - val_loss: 3.7675 - val_acc: 0.0117\n",
      "Epoch 209/300\n",
      " - 0s - loss: 3.7356 - acc: 0.0307 - val_loss: 3.7691 - val_acc: 0.0117\n",
      "Epoch 210/300\n",
      " - 0s - loss: 3.7368 - acc: 0.0226 - val_loss: 3.7669 - val_acc: 0.0087\n",
      "Epoch 211/300\n",
      " - 0s - loss: 3.7364 - acc: 0.0299 - val_loss: 3.7649 - val_acc: 0.0117\n",
      "Epoch 212/300\n",
      " - 0s - loss: 3.7361 - acc: 0.0307 - val_loss: 3.7634 - val_acc: 0.0175\n",
      "Epoch 213/300\n",
      " - 0s - loss: 3.7358 - acc: 0.0204 - val_loss: 3.7712 - val_acc: 0.0087\n",
      "Epoch 214/300\n",
      " - 0s - loss: 3.7380 - acc: 0.0307 - val_loss: 3.7691 - val_acc: 0.0117\n",
      "Epoch 215/300\n",
      " - 0s - loss: 3.7369 - acc: 0.0307 - val_loss: 3.7692 - val_acc: 0.0117\n",
      "Epoch 216/300\n",
      " - 0s - loss: 3.7378 - acc: 0.0299 - val_loss: 3.7673 - val_acc: 0.0087\n",
      "Epoch 217/300\n",
      " - 0s - loss: 3.7373 - acc: 0.0226 - val_loss: 3.7689 - val_acc: 0.0175\n",
      "Epoch 218/300\n",
      " - 0s - loss: 3.7371 - acc: 0.0285 - val_loss: 3.7728 - val_acc: 0.0117\n",
      "Epoch 219/300\n",
      " - 0s - loss: 3.7378 - acc: 0.0307 - val_loss: 3.7715 - val_acc: 0.0117\n",
      "Epoch 220/300\n",
      " - 0s - loss: 3.7368 - acc: 0.0277 - val_loss: 3.7653 - val_acc: 0.0087\n",
      "Epoch 221/300\n",
      " - 0s - loss: 3.7360 - acc: 0.0285 - val_loss: 3.7670 - val_acc: 0.0117\n",
      "Epoch 222/300\n",
      " - 0s - loss: 3.7365 - acc: 0.0307 - val_loss: 3.7718 - val_acc: 0.0117\n",
      "Epoch 223/300\n",
      " - 0s - loss: 3.7374 - acc: 0.0307 - val_loss: 3.7677 - val_acc: 0.0117\n",
      "Epoch 224/300\n",
      " - 0s - loss: 3.7376 - acc: 0.0241 - val_loss: 3.7685 - val_acc: 0.0233\n",
      "Epoch 225/300\n",
      " - 0s - loss: 3.7371 - acc: 0.0292 - val_loss: 3.7708 - val_acc: 0.0087\n",
      "Epoch 226/300\n",
      " - 0s - loss: 3.7369 - acc: 0.0277 - val_loss: 3.7685 - val_acc: 0.0117\n",
      "Epoch 227/300\n",
      " - 0s - loss: 3.7366 - acc: 0.0307 - val_loss: 3.7655 - val_acc: 0.0117\n",
      "Epoch 228/300\n",
      " - 0s - loss: 3.7361 - acc: 0.0307 - val_loss: 3.7715 - val_acc: 0.0117\n",
      "Epoch 229/300\n",
      " - 0s - loss: 3.7362 - acc: 0.0307 - val_loss: 3.7686 - val_acc: 0.0117\n",
      "Epoch 230/300\n",
      " - 0s - loss: 3.7370 - acc: 0.0307 - val_loss: 3.7673 - val_acc: 0.0117\n",
      "Epoch 231/300\n",
      " - 0s - loss: 3.7368 - acc: 0.0255 - val_loss: 3.7664 - val_acc: 0.0117\n",
      "Epoch 232/300\n",
      " - 0s - loss: 3.7357 - acc: 0.0307 - val_loss: 3.7698 - val_acc: 0.0117\n",
      "Epoch 233/300\n",
      " - 0s - loss: 3.7364 - acc: 0.0307 - val_loss: 3.7671 - val_acc: 0.0117\n",
      "Epoch 234/300\n",
      " - 0s - loss: 3.7360 - acc: 0.0241 - val_loss: 3.7644 - val_acc: 0.0117\n",
      "Epoch 235/300\n",
      " - 0s - loss: 3.7358 - acc: 0.0307 - val_loss: 3.7666 - val_acc: 0.0117\n",
      "Epoch 236/300\n",
      " - 0s - loss: 3.7370 - acc: 0.0255 - val_loss: 3.7727 - val_acc: 0.0117\n",
      "Epoch 237/300\n",
      " - 0s - loss: 3.7358 - acc: 0.0307 - val_loss: 3.7675 - val_acc: 0.0117\n",
      "Epoch 238/300\n",
      " - 0s - loss: 3.7369 - acc: 0.0307 - val_loss: 3.7677 - val_acc: 0.0117\n",
      "Epoch 239/300\n",
      " - 0s - loss: 3.7361 - acc: 0.0307 - val_loss: 3.7682 - val_acc: 0.0117\n",
      "Epoch 240/300\n",
      " - 0s - loss: 3.7364 - acc: 0.0307 - val_loss: 3.7720 - val_acc: 0.0117\n",
      "Epoch 241/300\n",
      " - 0s - loss: 3.7362 - acc: 0.0307 - val_loss: 3.7658 - val_acc: 0.0117\n",
      "Epoch 242/300\n",
      " - 0s - loss: 3.7363 - acc: 0.0277 - val_loss: 3.7651 - val_acc: 0.0175\n",
      "Epoch 243/300\n",
      " - 0s - loss: 3.7377 - acc: 0.0241 - val_loss: 3.7676 - val_acc: 0.0117\n",
      "Epoch 244/300\n",
      " - 0s - loss: 3.7367 - acc: 0.0248 - val_loss: 3.7705 - val_acc: 0.0117\n",
      "Epoch 245/300\n",
      " - 0s - loss: 3.7372 - acc: 0.0197 - val_loss: 3.7670 - val_acc: 0.0117\n",
      "Epoch 246/300\n",
      " - 0s - loss: 3.7362 - acc: 0.0307 - val_loss: 3.7684 - val_acc: 0.0117\n",
      "Epoch 247/300\n",
      " - 0s - loss: 3.7367 - acc: 0.0307 - val_loss: 3.7712 - val_acc: 0.0117\n",
      "Epoch 248/300\n",
      " - 0s - loss: 3.7377 - acc: 0.0307 - val_loss: 3.7721 - val_acc: 0.0117\n",
      "Epoch 249/300\n",
      " - 0s - loss: 3.7375 - acc: 0.0307 - val_loss: 3.7659 - val_acc: 0.0117\n",
      "Epoch 250/300\n",
      " - 0s - loss: 3.7358 - acc: 0.0234 - val_loss: 3.7685 - val_acc: 0.0117\n",
      "Epoch 251/300\n",
      " - 0s - loss: 3.7371 - acc: 0.0307 - val_loss: 3.7674 - val_acc: 0.0117\n",
      "Epoch 252/300\n",
      " - 0s - loss: 3.7373 - acc: 0.0234 - val_loss: 3.7672 - val_acc: 0.0087\n",
      "Epoch 253/300\n",
      " - 0s - loss: 3.7371 - acc: 0.0285 - val_loss: 3.7679 - val_acc: 0.0117\n",
      "Epoch 254/300\n",
      " - 0s - loss: 3.7367 - acc: 0.0307 - val_loss: 3.7691 - val_acc: 0.0117\n",
      "Epoch 255/300\n",
      " - 0s - loss: 3.7369 - acc: 0.0307 - val_loss: 3.7659 - val_acc: 0.0117\n",
      "Epoch 256/300\n",
      " - 0s - loss: 3.7370 - acc: 0.0248 - val_loss: 3.7704 - val_acc: 0.0087\n",
      "Epoch 257/300\n",
      " - 0s - loss: 3.7365 - acc: 0.0314 - val_loss: 3.7700 - val_acc: 0.0117\n",
      "Epoch 258/300\n",
      " - 0s - loss: 3.7365 - acc: 0.0307 - val_loss: 3.7694 - val_acc: 0.0117\n",
      "Epoch 259/300\n",
      " - 0s - loss: 3.7371 - acc: 0.0248 - val_loss: 3.7666 - val_acc: 0.0175\n",
      "Epoch 260/300\n",
      " - 0s - loss: 3.7384 - acc: 0.0314 - val_loss: 3.7691 - val_acc: 0.0117\n",
      "Epoch 261/300\n",
      " - 0s - loss: 3.7378 - acc: 0.0307 - val_loss: 3.7685 - val_acc: 0.0117\n",
      "Epoch 262/300\n",
      " - 0s - loss: 3.7376 - acc: 0.0307 - val_loss: 3.7672 - val_acc: 0.0117\n",
      "Epoch 263/300\n",
      " - 0s - loss: 3.7368 - acc: 0.0248 - val_loss: 3.7703 - val_acc: 0.0175\n",
      "Epoch 264/300\n",
      " - 0s - loss: 3.7372 - acc: 0.0277 - val_loss: 3.7723 - val_acc: 0.0117\n",
      "Epoch 265/300\n",
      " - 0s - loss: 3.7365 - acc: 0.0277 - val_loss: 3.7677 - val_acc: 0.0087\n",
      "Epoch 266/300\n",
      " - 0s - loss: 3.7375 - acc: 0.0292 - val_loss: 3.7640 - val_acc: 0.0117\n",
      "Epoch 267/300\n",
      " - 0s - loss: 3.7355 - acc: 0.0307 - val_loss: 3.7705 - val_acc: 0.0117\n",
      "Epoch 268/300\n",
      " - 0s - loss: 3.7367 - acc: 0.0307 - val_loss: 3.7669 - val_acc: 0.0117\n",
      "Epoch 269/300\n",
      " - 0s - loss: 3.7374 - acc: 0.0307 - val_loss: 3.7716 - val_acc: 0.0117\n",
      "Epoch 270/300\n",
      " - 0s - loss: 3.7372 - acc: 0.0212 - val_loss: 3.7700 - val_acc: 0.0175\n",
      "Epoch 271/300\n",
      " - 0s - loss: 3.7366 - acc: 0.0270 - val_loss: 3.7675 - val_acc: 0.0087\n",
      "Epoch 272/300\n",
      " - 0s - loss: 3.7364 - acc: 0.0234 - val_loss: 3.7702 - val_acc: 0.0117\n",
      "Epoch 273/300\n",
      " - 0s - loss: 3.7365 - acc: 0.0307 - val_loss: 3.7710 - val_acc: 0.0117\n",
      "Epoch 274/300\n",
      " - 0s - loss: 3.7362 - acc: 0.0307 - val_loss: 3.7658 - val_acc: 0.0117\n",
      "Epoch 275/300\n",
      " - 0s - loss: 3.7357 - acc: 0.0219 - val_loss: 3.7650 - val_acc: 0.0117\n",
      "Epoch 276/300\n",
      " - 0s - loss: 3.7379 - acc: 0.0307 - val_loss: 3.7699 - val_acc: 0.0117\n",
      "Epoch 277/300\n",
      " - 0s - loss: 3.7371 - acc: 0.0307 - val_loss: 3.7713 - val_acc: 0.0117\n",
      "Epoch 278/300\n",
      " - 0s - loss: 3.7377 - acc: 0.0307 - val_loss: 3.7671 - val_acc: 0.0117\n",
      "Epoch 279/300\n",
      " - 0s - loss: 3.7359 - acc: 0.0241 - val_loss: 3.7686 - val_acc: 0.0175\n",
      "Epoch 280/300\n",
      " - 0s - loss: 3.7361 - acc: 0.0241 - val_loss: 3.7674 - val_acc: 0.0117\n",
      "Epoch 281/300\n",
      " - 0s - loss: 3.7362 - acc: 0.0307 - val_loss: 3.7712 - val_acc: 0.0117\n",
      "Epoch 282/300\n",
      " - 0s - loss: 3.7359 - acc: 0.0307 - val_loss: 3.7685 - val_acc: 0.0117\n",
      "Epoch 283/300\n",
      " - 0s - loss: 3.7367 - acc: 0.0270 - val_loss: 3.7699 - val_acc: 0.0087\n",
      "Epoch 284/300\n",
      " - 0s - loss: 3.7366 - acc: 0.0204 - val_loss: 3.7673 - val_acc: 0.0233\n",
      "Epoch 285/300\n",
      " - 0s - loss: 3.7366 - acc: 0.0248 - val_loss: 3.7707 - val_acc: 0.0117\n",
      "Epoch 286/300\n",
      " - 0s - loss: 3.7372 - acc: 0.0307 - val_loss: 3.7639 - val_acc: 0.0117\n",
      "Epoch 287/300\n",
      " - 0s - loss: 3.7361 - acc: 0.0307 - val_loss: 3.7641 - val_acc: 0.0117\n"
     ]
    },
    {
     "name": "stdout",
     "output_type": "stream",
     "text": [
      "Epoch 288/300\n",
      " - 0s - loss: 3.7362 - acc: 0.0307 - val_loss: 3.7736 - val_acc: 0.0117\n",
      "Epoch 289/300\n",
      " - 0s - loss: 3.7369 - acc: 0.0255 - val_loss: 3.7699 - val_acc: 0.0117\n",
      "Epoch 290/300\n",
      " - 0s - loss: 3.7357 - acc: 0.0277 - val_loss: 3.7680 - val_acc: 0.0117\n",
      "Epoch 291/300\n",
      " - 0s - loss: 3.7368 - acc: 0.0270 - val_loss: 3.7694 - val_acc: 0.0087\n",
      "Epoch 292/300\n",
      " - 0s - loss: 3.7383 - acc: 0.0285 - val_loss: 3.7715 - val_acc: 0.0117\n",
      "Epoch 293/300\n",
      " - 0s - loss: 3.7356 - acc: 0.0307 - val_loss: 3.7677 - val_acc: 0.0117\n",
      "Epoch 294/300\n",
      " - 0s - loss: 3.7370 - acc: 0.0307 - val_loss: 3.7630 - val_acc: 0.0117\n",
      "Epoch 295/300\n",
      " - 0s - loss: 3.7371 - acc: 0.0307 - val_loss: 3.7679 - val_acc: 0.0117\n",
      "Epoch 296/300\n",
      " - 0s - loss: 3.7358 - acc: 0.0277 - val_loss: 3.7702 - val_acc: 0.0117\n",
      "Epoch 297/300\n",
      " - 0s - loss: 3.7375 - acc: 0.0270 - val_loss: 3.7662 - val_acc: 0.0087\n",
      "Epoch 298/300\n",
      " - 0s - loss: 3.7366 - acc: 0.0277 - val_loss: 3.7674 - val_acc: 0.0117\n",
      "Epoch 299/300\n",
      " - 0s - loss: 3.7385 - acc: 0.0219 - val_loss: 3.7672 - val_acc: 0.0117\n",
      "Epoch 300/300\n",
      " - 0s - loss: 3.7376 - acc: 0.0307 - val_loss: 3.7683 - val_acc: 0.0117\n"
     ]
    }
   ],
   "source": [
    "%time\n",
    "train_history = model.fit(X_train, Y_train, \n",
    "                          batch_size = 100, \n",
    "                          epochs = 300, \n",
    "                          verbose = 2,\n",
    "                          validation_split = 0.2,\n",
    "                          #callbacks = [es]\n",
    "                         )"
   ]
  },
  {
   "cell_type": "code",
   "execution_count": 294,
   "metadata": {},
   "outputs": [],
   "source": [
    "import matplotlib.pyplot as plt"
   ]
  },
  {
   "cell_type": "code",
   "execution_count": 295,
   "metadata": {},
   "outputs": [],
   "source": [
    "def show_train_history(train_history,train,validation):\n",
    "    plt.plot(train_history.history[train])\n",
    "    plt.plot(train_history.history[validation])\n",
    "    plt.title('Train History')\n",
    "    plt.ylabel(train)\n",
    "    plt.xlabel('Epoch')\n",
    "    plt.legend(['train', 'validation'], loc='best')\n",
    "    plt.show()"
   ]
  },
  {
   "cell_type": "code",
   "execution_count": 296,
   "metadata": {},
   "outputs": [
    {
     "data": {
      "image/png": "[encoded data removed]",
      "text/plain": [
       "<Figure size 432x288 with 1 Axes>"
      ]
     },
     "metadata": {},
     "output_type": "display_data"
    },
    {
     "data": {
      "image/png": "[encoded data removed]",
      "text/plain": [
       "<Figure size 432x288 with 1 Axes>"
      ]
     },
     "metadata": {},
     "output_type": "display_data"
    }
   ],
   "source": [
    "show_train_history(train_history, 'acc','val_acc')\n",
    "show_train_history(train_history,'loss','val_loss')"
   ]
  },
  {
   "cell_type": "code",
   "execution_count": 297,
   "metadata": {},
   "outputs": [
    {
     "name": "stdout",
     "output_type": "stream",
     "text": [
      "429/429 [==============================] - 0s 31us/step\n"
     ]
    }
   ],
   "source": [
    "scores = model.evaluate(X_test, Y_test)"
   ]
  },
  {
   "cell_type": "code",
   "execution_count": 298,
   "metadata": {},
   "outputs": [
    {
     "data": {
      "text/plain": [
       "1.1655011655011656"
      ]
     },
     "execution_count": 298,
     "metadata": {},
     "output_type": "execute_result"
    }
   ],
   "source": [
    "scores[1] * 100"
   ]
  },
  {
   "cell_type": "markdown",
   "metadata": {},
   "source": [
    "### Before saving: are you sure?"
   ]
  },
  {
   "cell_type": "code",
   "execution_count": 201,
   "metadata": {},
   "outputs": [],
   "source": [
    "model.save_weights(\"model_10_10_20_tanh_100_1000_50.h5\")\n",
    "#for this\n",
    "#https://machinelearningmastery.com/save-load-keras-deep-learning-models/"
   ]
  },
  {
   "cell_type": "markdown",
   "metadata": {},
   "source": [
    "## MUST-SEE: \n",
    "* https://www.kaggle.com/randyrose2017/for-beginners-using-keras-to-build-models\n",
    "* https://medium.com/@pushkarmandot/build-your-first-deep-learning-neural-network-model-using-keras-in-python-a90b5864116d\n",
    "* https://medium.com/cracking-the-data-science-interview/a-gentle-introduction-to-neural-networks-for-machine-learning-d5f3f8987786\n",
    "## Just liked:\n",
    "* https://missinglink.ai/guides/neural-network-concepts/classification-neural-networks-neural-network-right-choice/\n",
    "## Full-house:\n",
    "https://towardsdatascience.com/the-mostly-complete-chart-of-neural-networks-explained-3fb6f2367464"
   ]
  }
 ],
 "metadata": {
  "kernelspec": {
   "display_name": "Python 3",
   "language": "python",
   "name": "python3"
  },
  "language_info": {
   "codemirror_mode": {
    "name": "ipython",
    "version": 3
   },
   "file_extension": ".py",
   "mimetype": "text/x-python",
   "name": "python",
   "nbconvert_exporter": "python",
   "pygments_lexer": "ipython3",
   "version": "3.6.5"
  }
 },
 "nbformat": 4,
 "nbformat_minor": 2
}
